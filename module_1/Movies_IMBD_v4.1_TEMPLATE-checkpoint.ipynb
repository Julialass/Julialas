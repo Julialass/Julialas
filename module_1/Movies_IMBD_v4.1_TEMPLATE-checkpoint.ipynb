{
 "cells": [
  {
   "cell_type": "code",
   "execution_count": 1,
   "metadata": {
    "_cell_guid": "b1076dfc-b9ad-4769-8c92-a6c4dae69d19",
    "_uuid": "8f2839f25d086af736a60e9eeb907d3b93b6e0e5",
    "colab": {},
    "colab_type": "code",
    "id": "U2D2gTdJVp90"
   },
   "outputs": [],
   "source": [
    "import numpy as np\n",
    "import pandas as pd\n",
    "import seaborn as sns\n",
    "import matplotlib.pyplot as plt\n",
    "from collections import Counter"
   ]
  },
  {
   "cell_type": "code",
   "execution_count": 131,
   "metadata": {
    "_cell_guid": "79c7e3d0-c299-4dcb-8224-4455121ee9b0",
    "_uuid": "d629ff2d2480ee46fbb7e2d37f6b5fab8052498a",
    "colab": {},
    "colab_type": "code",
    "id": "oyGfxL3eVp9-",
    "scrolled": true
   },
   "outputs": [
    {
     "data": {
      "text/plain": [
       "imdb_id                                        best man Jimmy.\"\n",
       "budget                                                      101\n",
       "revenue                                                  Comedy\n",
       "original_title          Miramax Films|Screen Gems|LStar Capital\n",
       "cast                                                  1/16/2015\n",
       "director                                                    6.5\n",
       "tagline                                                    2015\n",
       "overview                                                    NaN\n",
       "runtime                                                     NaN\n",
       "genres                                                      NaN\n",
       "production_companies                                        NaN\n",
       "release_date                                                NaN\n",
       "vote_average                                                NaN\n",
       "release_year                                                NaN\n",
       "Name: 84, dtype: object"
      ]
     },
     "execution_count": 131,
     "metadata": {},
     "output_type": "execute_result"
    }
   ],
   "source": [
    "data = pd.read_csv('movie_bd_v5.csv', na_values='NaN')\n",
    "data.iloc[84]                                               # что-то с этой строчкой не так"
   ]
  },
  {
   "cell_type": "code",
   "execution_count": 223,
   "metadata": {},
   "outputs": [
    {
     "name": "stdout",
     "output_type": "stream",
     "text": [
      "<class 'pandas.core.frame.DataFrame'>\n",
      "Int64Index: 1889 entries, 0 to 1889\n",
      "Data columns (total 15 columns):\n",
      " #   Column                Non-Null Count  Dtype  \n",
      "---  ------                --------------  -----  \n",
      " 0   imdb_id               1889 non-null   object \n",
      " 1   budget                1889 non-null   int64  \n",
      " 2   revenue               1889 non-null   int64  \n",
      " 3   original_title        1889 non-null   object \n",
      " 4   cast                  1889 non-null   object \n",
      " 5   director              1889 non-null   object \n",
      " 6   tagline               1889 non-null   object \n",
      " 7   overview              1889 non-null   object \n",
      " 8   runtime               1888 non-null   float64\n",
      " 9   genres                1888 non-null   object \n",
      " 10  production_companies  1888 non-null   object \n",
      " 11  release_date          1888 non-null   object \n",
      " 12  vote_average          1888 non-null   float64\n",
      " 13  release_year          1888 non-null   float64\n",
      " 14  profit                1889 non-null   int64  \n",
      "dtypes: float64(3), int64(3), object(9)\n",
      "memory usage: 316.1+ KB\n"
     ]
    }
   ],
   "source": [
    "data.info()"
   ]
  },
  {
   "cell_type": "code",
   "execution_count": 4,
   "metadata": {
    "colab": {},
    "colab_type": "code",
    "id": "CoYUnagMVp-C",
    "scrolled": true
   },
   "outputs": [
    {
     "data": {
      "text/html": [
       "<div>\n",
       "<style scoped>\n",
       "    .dataframe tbody tr th:only-of-type {\n",
       "        vertical-align: middle;\n",
       "    }\n",
       "\n",
       "    .dataframe tbody tr th {\n",
       "        vertical-align: top;\n",
       "    }\n",
       "\n",
       "    .dataframe thead th {\n",
       "        text-align: right;\n",
       "    }\n",
       "</style>\n",
       "<table border=\"1\" class=\"dataframe\">\n",
       "  <thead>\n",
       "    <tr style=\"text-align: right;\">\n",
       "      <th></th>\n",
       "      <th>budget</th>\n",
       "      <th>runtime</th>\n",
       "      <th>vote_average</th>\n",
       "      <th>release_year</th>\n",
       "    </tr>\n",
       "  </thead>\n",
       "  <tbody>\n",
       "    <tr>\n",
       "      <th>count</th>\n",
       "      <td>1.890000e+03</td>\n",
       "      <td>1888.000000</td>\n",
       "      <td>1888.000000</td>\n",
       "      <td>1888.000000</td>\n",
       "    </tr>\n",
       "    <tr>\n",
       "      <th>mean</th>\n",
       "      <td>5.428209e+07</td>\n",
       "      <td>109.663136</td>\n",
       "      <td>6.140572</td>\n",
       "      <td>2007.856992</td>\n",
       "    </tr>\n",
       "    <tr>\n",
       "      <th>std</th>\n",
       "      <td>4.859041e+07</td>\n",
       "      <td>18.020711</td>\n",
       "      <td>0.764921</td>\n",
       "      <td>4.467001</td>\n",
       "    </tr>\n",
       "    <tr>\n",
       "      <th>min</th>\n",
       "      <td>1.010000e+02</td>\n",
       "      <td>63.000000</td>\n",
       "      <td>3.300000</td>\n",
       "      <td>2000.000000</td>\n",
       "    </tr>\n",
       "    <tr>\n",
       "      <th>25%</th>\n",
       "      <td>2.000000e+07</td>\n",
       "      <td>97.000000</td>\n",
       "      <td>5.600000</td>\n",
       "      <td>2004.000000</td>\n",
       "    </tr>\n",
       "    <tr>\n",
       "      <th>50%</th>\n",
       "      <td>3.800000e+07</td>\n",
       "      <td>107.000000</td>\n",
       "      <td>6.100000</td>\n",
       "      <td>2008.000000</td>\n",
       "    </tr>\n",
       "    <tr>\n",
       "      <th>75%</th>\n",
       "      <td>7.150000e+07</td>\n",
       "      <td>120.000000</td>\n",
       "      <td>6.600000</td>\n",
       "      <td>2012.000000</td>\n",
       "    </tr>\n",
       "    <tr>\n",
       "      <th>max</th>\n",
       "      <td>3.800000e+08</td>\n",
       "      <td>214.000000</td>\n",
       "      <td>8.100000</td>\n",
       "      <td>2015.000000</td>\n",
       "    </tr>\n",
       "  </tbody>\n",
       "</table>\n",
       "</div>"
      ],
      "text/plain": [
       "             budget      runtime  vote_average  release_year\n",
       "count  1.890000e+03  1888.000000   1888.000000   1888.000000\n",
       "mean   5.428209e+07   109.663136      6.140572   2007.856992\n",
       "std    4.859041e+07    18.020711      0.764921      4.467001\n",
       "min    1.010000e+02    63.000000      3.300000   2000.000000\n",
       "25%    2.000000e+07    97.000000      5.600000   2004.000000\n",
       "50%    3.800000e+07   107.000000      6.100000   2008.000000\n",
       "75%    7.150000e+07   120.000000      6.600000   2012.000000\n",
       "max    3.800000e+08   214.000000      8.100000   2015.000000"
      ]
     },
     "execution_count": 4,
     "metadata": {},
     "output_type": "execute_result"
    }
   ],
   "source": [
    "data.describe()"
   ]
  },
  {
   "cell_type": "markdown",
   "metadata": {
    "colab_type": "text",
    "id": "DTIt7ezGVp-G"
   },
   "source": [
    "# Предобработка"
   ]
  },
  {
   "cell_type": "code",
   "execution_count": 838,
   "metadata": {
    "scrolled": true
   },
   "outputs": [],
   "source": [
    "answers_keys=list(range(28))\n",
    "#print(answers_keys)\n",
    "answers1=dict.fromkeys(answers_keys[1:],\"\")\n",
    "#print(answers1)"
   ]
  },
  {
   "cell_type": "code",
   "execution_count": 49,
   "metadata": {
    "colab": {},
    "colab_type": "code",
    "id": "jNb40DwKVp-H"
   },
   "outputs": [
    {
     "name": "stdout",
     "output_type": "stream",
     "text": [
      "{'1': 'Pirates of the Caribbean: On Stranger Tides', '2': 'Gods and Generals', '3': 'Winnie the Pooh', '4': 109.66313559322033, '5': 107.0}\n"
     ]
    }
   ],
   "source": [
    "answers = {} # создадим словарь для ответов\n",
    "\n",
    "answers['1'] = 'Pirates of the Caribbean: On Stranger Tides'\n",
    "answers['2'] = 'Gods and Generals'\n",
    "answers['3'] ='Winnie the Pooh'\n",
    "answers['4'] =mean_runtime\n",
    "answers['5']=median_runtime\n",
    "\n",
    "\n",
    "\n",
    "\n",
    "\n",
    "print(answers)\n",
    "\n",
    "# тут другие ваши предобработки колонок например:\n",
    "\n",
    "#the time given in the dataset is in string format.\n",
    "#So we need to change this in datetime format\n",
    "# ..."
   ]
  },
  {
   "cell_type": "markdown",
   "metadata": {
    "colab_type": "text",
    "id": "YxZaH-nPVp-L"
   },
   "source": [
    "# 1. У какого фильма из списка самый большой бюджет?"
   ]
  },
  {
   "cell_type": "markdown",
   "metadata": {
    "colab_type": "text",
    "id": "Nd-G5gX6Vp-M"
   },
   "source": [
    "Использовать варианты ответов в коде решения запрещено.    \n",
    "Вы думаете и в жизни у вас будут варианты ответов?)"
   ]
  },
  {
   "cell_type": "code",
   "execution_count": 24,
   "metadata": {
    "colab": {},
    "colab_type": "code",
    "id": "uVnXAY5RVp-O"
   },
   "outputs": [],
   "source": [
    "# в словарь вставляем номер вопроса и ваш ответ на него\n",
    "# Пример: \n",
    "#answers['1'] = '2. Spider-Man 3 (tt0413300)'\n",
    "# запишите свой вариант ответа\n",
    "#answers['1'] = 'Pirates of the Caribbean: On Stranger Tides'\n",
    "\n",
    "\n",
    "# если ответили верно, можете добавить комментарий со значком \"+\""
   ]
  },
  {
   "cell_type": "code",
   "execution_count": 136,
   "metadata": {
    "colab": {},
    "colab_type": "code",
    "id": "dZwb3m28Vp-S",
    "scrolled": true
   },
   "outputs": [
    {
     "data": {
      "text/html": [
       "<div>\n",
       "<style scoped>\n",
       "    .dataframe tbody tr th:only-of-type {\n",
       "        vertical-align: middle;\n",
       "    }\n",
       "\n",
       "    .dataframe tbody tr th {\n",
       "        vertical-align: top;\n",
       "    }\n",
       "\n",
       "    .dataframe thead th {\n",
       "        text-align: right;\n",
       "    }\n",
       "</style>\n",
       "<table border=\"1\" class=\"dataframe\">\n",
       "  <thead>\n",
       "    <tr style=\"text-align: right;\">\n",
       "      <th></th>\n",
       "      <th>imdb_id</th>\n",
       "      <th>budget</th>\n",
       "      <th>revenue</th>\n",
       "      <th>original_title</th>\n",
       "      <th>cast</th>\n",
       "      <th>director</th>\n",
       "      <th>tagline</th>\n",
       "      <th>overview</th>\n",
       "      <th>runtime</th>\n",
       "      <th>genres</th>\n",
       "      <th>production_companies</th>\n",
       "      <th>release_date</th>\n",
       "      <th>vote_average</th>\n",
       "      <th>release_year</th>\n",
       "    </tr>\n",
       "  </thead>\n",
       "  <tbody>\n",
       "    <tr>\n",
       "      <th>724</th>\n",
       "      <td>tt1298650</td>\n",
       "      <td>380000000</td>\n",
       "      <td>1021683000</td>\n",
       "      <td>Pirates of the Caribbean: On Stranger Tides</td>\n",
       "      <td>Johnny Depp|PenÃ©lope Cruz|Geoffrey Rush|Ian M...</td>\n",
       "      <td>Rob Marshall</td>\n",
       "      <td>Live Forever Or Die Trying.</td>\n",
       "      <td>Captain Jack Sparrow crosses paths with a woma...</td>\n",
       "      <td>136.0</td>\n",
       "      <td>Adventure|Action|Fantasy</td>\n",
       "      <td>Walt Disney Pictures|Jerry Bruckheimer Films|M...</td>\n",
       "      <td>05/11/2011</td>\n",
       "      <td>6.3</td>\n",
       "      <td>2011.0</td>\n",
       "    </tr>\n",
       "  </tbody>\n",
       "</table>\n",
       "</div>"
      ],
      "text/plain": [
       "       imdb_id     budget     revenue  \\\n",
       "724  tt1298650  380000000  1021683000   \n",
       "\n",
       "                                  original_title  \\\n",
       "724  Pirates of the Caribbean: On Stranger Tides   \n",
       "\n",
       "                                                  cast      director  \\\n",
       "724  Johnny Depp|PenÃ©lope Cruz|Geoffrey Rush|Ian M...  Rob Marshall   \n",
       "\n",
       "                         tagline  \\\n",
       "724  Live Forever Or Die Trying.   \n",
       "\n",
       "                                              overview  runtime  \\\n",
       "724  Captain Jack Sparrow crosses paths with a woma...    136.0   \n",
       "\n",
       "                       genres  \\\n",
       "724  Adventure|Action|Fantasy   \n",
       "\n",
       "                                  production_companies release_date  \\\n",
       "724  Walt Disney Pictures|Jerry Bruckheimer Films|M...   05/11/2011   \n",
       "\n",
       "     vote_average  release_year  \n",
       "724           6.3        2011.0  "
      ]
     },
     "execution_count": 136,
     "metadata": {},
     "output_type": "execute_result"
    }
   ],
   "source": [
    "# тут пишем ваш код для решения данного вопроса:\n",
    "data[data['budget']==data['budget'].max()]"
   ]
  },
  {
   "cell_type": "code",
   "execution_count": 853,
   "metadata": {},
   "outputs": [
    {
     "name": "stdout",
     "output_type": "stream",
     "text": [
      "724    Pirates of the Caribbean: On Stranger Tides\n",
      "Name: original_title, dtype: object\n"
     ]
    }
   ],
   "source": [
    "ans1=data[data['budget']==data['budget'].max()]['original_title']\n",
    "print(ans1)\n",
    "answers1.update({1:ans1})\n"
   ]
  },
  {
   "cell_type": "markdown",
   "metadata": {
    "colab_type": "text",
    "id": "K7L3nbRXVp-X"
   },
   "source": [
    "ВАРИАНТ 2"
   ]
  },
  {
   "cell_type": "code",
   "execution_count": 137,
   "metadata": {
    "colab": {},
    "colab_type": "code",
    "id": "OGaoQI7rVp-X"
   },
   "outputs": [
    {
     "data": {
      "text/html": [
       "<div>\n",
       "<style scoped>\n",
       "    .dataframe tbody tr th:only-of-type {\n",
       "        vertical-align: middle;\n",
       "    }\n",
       "\n",
       "    .dataframe tbody tr th {\n",
       "        vertical-align: top;\n",
       "    }\n",
       "\n",
       "    .dataframe thead th {\n",
       "        text-align: right;\n",
       "    }\n",
       "</style>\n",
       "<table border=\"1\" class=\"dataframe\">\n",
       "  <thead>\n",
       "    <tr style=\"text-align: right;\">\n",
       "      <th></th>\n",
       "      <th>imdb_id</th>\n",
       "      <th>budget</th>\n",
       "      <th>revenue</th>\n",
       "      <th>original_title</th>\n",
       "      <th>cast</th>\n",
       "      <th>director</th>\n",
       "      <th>tagline</th>\n",
       "      <th>overview</th>\n",
       "      <th>runtime</th>\n",
       "      <th>genres</th>\n",
       "      <th>production_companies</th>\n",
       "      <th>release_date</th>\n",
       "      <th>vote_average</th>\n",
       "      <th>release_year</th>\n",
       "    </tr>\n",
       "  </thead>\n",
       "  <tbody>\n",
       "    <tr>\n",
       "      <th>724</th>\n",
       "      <td>tt1298650</td>\n",
       "      <td>380000000</td>\n",
       "      <td>1021683000</td>\n",
       "      <td>Pirates of the Caribbean: On Stranger Tides</td>\n",
       "      <td>Johnny Depp|PenÃ©lope Cruz|Geoffrey Rush|Ian M...</td>\n",
       "      <td>Rob Marshall</td>\n",
       "      <td>Live Forever Or Die Trying.</td>\n",
       "      <td>Captain Jack Sparrow crosses paths with a woma...</td>\n",
       "      <td>136.0</td>\n",
       "      <td>Adventure|Action|Fantasy</td>\n",
       "      <td>Walt Disney Pictures|Jerry Bruckheimer Films|M...</td>\n",
       "      <td>05/11/2011</td>\n",
       "      <td>6.3</td>\n",
       "      <td>2011.0</td>\n",
       "    </tr>\n",
       "  </tbody>\n",
       "</table>\n",
       "</div>"
      ],
      "text/plain": [
       "       imdb_id     budget     revenue  \\\n",
       "724  tt1298650  380000000  1021683000   \n",
       "\n",
       "                                  original_title  \\\n",
       "724  Pirates of the Caribbean: On Stranger Tides   \n",
       "\n",
       "                                                  cast      director  \\\n",
       "724  Johnny Depp|PenÃ©lope Cruz|Geoffrey Rush|Ian M...  Rob Marshall   \n",
       "\n",
       "                         tagline  \\\n",
       "724  Live Forever Or Die Trying.   \n",
       "\n",
       "                                              overview  runtime  \\\n",
       "724  Captain Jack Sparrow crosses paths with a woma...    136.0   \n",
       "\n",
       "                       genres  \\\n",
       "724  Adventure|Action|Fantasy   \n",
       "\n",
       "                                  production_companies release_date  \\\n",
       "724  Walt Disney Pictures|Jerry Bruckheimer Films|M...   05/11/2011   \n",
       "\n",
       "     vote_average  release_year  \n",
       "724           6.3        2011.0  "
      ]
     },
     "execution_count": 137,
     "metadata": {},
     "output_type": "execute_result"
    }
   ],
   "source": [
    "# можно добавлять разные варианты решения\n",
    "data.sort_values(by=['budget'], axis=0, ascending=False)\n",
    "#or\n",
    "data.loc[data['budget']==380000000] # got the value from DESCRIBE function above"
   ]
  },
  {
   "cell_type": "markdown",
   "metadata": {
    "colab_type": "text",
    "id": "FNRbbI3vVp-c"
   },
   "source": [
    "# 2. Какой из фильмов самый длительный (в минутах)?"
   ]
  },
  {
   "cell_type": "code",
   "execution_count": 134,
   "metadata": {
    "colab": {},
    "colab_type": "code",
    "id": "vHAoEXNTVp-d"
   },
   "outputs": [],
   "source": [
    "# думаю логику работы с этим словарем вы уже поняли, \n",
    "# по этому не буду больше его дублировать\n",
    "answers['2'] = 'Gods and Generals'"
   ]
  },
  {
   "cell_type": "code",
   "execution_count": 135,
   "metadata": {
    "colab": {},
    "colab_type": "code",
    "id": "ot-VX2XrVp-g",
    "scrolled": false
   },
   "outputs": [
    {
     "data": {
      "text/html": [
       "<div>\n",
       "<style scoped>\n",
       "    .dataframe tbody tr th:only-of-type {\n",
       "        vertical-align: middle;\n",
       "    }\n",
       "\n",
       "    .dataframe tbody tr th {\n",
       "        vertical-align: top;\n",
       "    }\n",
       "\n",
       "    .dataframe thead th {\n",
       "        text-align: right;\n",
       "    }\n",
       "</style>\n",
       "<table border=\"1\" class=\"dataframe\">\n",
       "  <thead>\n",
       "    <tr style=\"text-align: right;\">\n",
       "      <th></th>\n",
       "      <th>imdb_id</th>\n",
       "      <th>budget</th>\n",
       "      <th>revenue</th>\n",
       "      <th>original_title</th>\n",
       "      <th>cast</th>\n",
       "      <th>director</th>\n",
       "      <th>tagline</th>\n",
       "      <th>overview</th>\n",
       "      <th>runtime</th>\n",
       "      <th>genres</th>\n",
       "      <th>production_companies</th>\n",
       "      <th>release_date</th>\n",
       "      <th>vote_average</th>\n",
       "      <th>release_year</th>\n",
       "    </tr>\n",
       "  </thead>\n",
       "  <tbody>\n",
       "    <tr>\n",
       "      <th>1158</th>\n",
       "      <td>tt0279111</td>\n",
       "      <td>56000000</td>\n",
       "      <td>12923936</td>\n",
       "      <td>Gods and Generals</td>\n",
       "      <td>Stephen Lang|Jeff Daniels|Robert Duvall|Kevin ...</td>\n",
       "      <td>Ronald F. Maxwell</td>\n",
       "      <td>The nations heart was touched by...</td>\n",
       "      <td>The film centers mostly around the personal an...</td>\n",
       "      <td>214.0</td>\n",
       "      <td>Drama|History|War</td>\n",
       "      <td>Turner Pictures|Antietam Filmworks</td>\n",
       "      <td>2/21/2003</td>\n",
       "      <td>5.8</td>\n",
       "      <td>2003.0</td>\n",
       "    </tr>\n",
       "  </tbody>\n",
       "</table>\n",
       "</div>"
      ],
      "text/plain": [
       "        imdb_id    budget   revenue     original_title  \\\n",
       "1158  tt0279111  56000000  12923936  Gods and Generals   \n",
       "\n",
       "                                                   cast           director  \\\n",
       "1158  Stephen Lang|Jeff Daniels|Robert Duvall|Kevin ...  Ronald F. Maxwell   \n",
       "\n",
       "                                  tagline  \\\n",
       "1158  The nations heart was touched by...   \n",
       "\n",
       "                                               overview  runtime  \\\n",
       "1158  The film centers mostly around the personal an...    214.0   \n",
       "\n",
       "                 genres                production_companies release_date  \\\n",
       "1158  Drama|History|War  Turner Pictures|Antietam Filmworks    2/21/2003   \n",
       "\n",
       "      vote_average  release_year  \n",
       "1158           5.8        2003.0  "
      ]
     },
     "execution_count": 135,
     "metadata": {},
     "output_type": "execute_result"
    }
   ],
   "source": [
    "data.loc[data['runtime']==214]"
   ]
  },
  {
   "cell_type": "code",
   "execution_count": 846,
   "metadata": {},
   "outputs": [
    {
     "name": "stdout",
     "output_type": "stream",
     "text": [
      "1158    Gods and Generals\n",
      "Name: original_title, dtype: object\n"
     ]
    }
   ],
   "source": [
    "ans2=data.loc[data['runtime']==214]['original_title']\n",
    "print(ans2)\n",
    "answers1.update({2:ans2})"
   ]
  },
  {
   "cell_type": "markdown",
   "metadata": {
    "colab_type": "text",
    "id": "bapLlpW8Vp-k"
   },
   "source": [
    "# 3. Какой из фильмов самый короткий (в минутах)?\n",
    "\n",
    "\n",
    "\n"
   ]
  },
  {
   "cell_type": "code",
   "execution_count": 138,
   "metadata": {
    "colab": {},
    "colab_type": "code",
    "id": "YBxaSHuAVp-l",
    "scrolled": true
   },
   "outputs": [
    {
     "data": {
      "text/html": [
       "<div>\n",
       "<style scoped>\n",
       "    .dataframe tbody tr th:only-of-type {\n",
       "        vertical-align: middle;\n",
       "    }\n",
       "\n",
       "    .dataframe tbody tr th {\n",
       "        vertical-align: top;\n",
       "    }\n",
       "\n",
       "    .dataframe thead th {\n",
       "        text-align: right;\n",
       "    }\n",
       "</style>\n",
       "<table border=\"1\" class=\"dataframe\">\n",
       "  <thead>\n",
       "    <tr style=\"text-align: right;\">\n",
       "      <th></th>\n",
       "      <th>imdb_id</th>\n",
       "      <th>budget</th>\n",
       "      <th>revenue</th>\n",
       "      <th>original_title</th>\n",
       "      <th>cast</th>\n",
       "      <th>director</th>\n",
       "      <th>tagline</th>\n",
       "      <th>overview</th>\n",
       "      <th>runtime</th>\n",
       "      <th>genres</th>\n",
       "      <th>production_companies</th>\n",
       "      <th>release_date</th>\n",
       "      <th>vote_average</th>\n",
       "      <th>release_year</th>\n",
       "    </tr>\n",
       "  </thead>\n",
       "  <tbody>\n",
       "    <tr>\n",
       "      <th>769</th>\n",
       "      <td>tt1449283</td>\n",
       "      <td>30000000</td>\n",
       "      <td>14460000</td>\n",
       "      <td>Winnie the Pooh</td>\n",
       "      <td>Jim Cummings|Travis Oates|Jim Cummings|Bud Luc...</td>\n",
       "      <td>Stephen Anderson|Don Hall</td>\n",
       "      <td>Oh Pooh.</td>\n",
       "      <td>During an ordinary day in Hundred Acre Wood, W...</td>\n",
       "      <td>63.0</td>\n",
       "      <td>Animation|Family</td>\n",
       "      <td>Walt Disney Pictures|Walt Disney Animation Stu...</td>\n",
       "      <td>4/13/2011</td>\n",
       "      <td>6.8</td>\n",
       "      <td>2011.0</td>\n",
       "    </tr>\n",
       "  </tbody>\n",
       "</table>\n",
       "</div>"
      ],
      "text/plain": [
       "       imdb_id    budget   revenue   original_title  \\\n",
       "769  tt1449283  30000000  14460000  Winnie the Pooh   \n",
       "\n",
       "                                                  cast  \\\n",
       "769  Jim Cummings|Travis Oates|Jim Cummings|Bud Luc...   \n",
       "\n",
       "                      director   tagline  \\\n",
       "769  Stephen Anderson|Don Hall  Oh Pooh.   \n",
       "\n",
       "                                              overview  runtime  \\\n",
       "769  During an ordinary day in Hundred Acre Wood, W...     63.0   \n",
       "\n",
       "               genres                               production_companies  \\\n",
       "769  Animation|Family  Walt Disney Pictures|Walt Disney Animation Stu...   \n",
       "\n",
       "    release_date  vote_average  release_year  \n",
       "769    4/13/2011           6.8        2011.0  "
      ]
     },
     "execution_count": 138,
     "metadata": {},
     "output_type": "execute_result"
    }
   ],
   "source": [
    "data.loc[data['runtime']==63]"
   ]
  },
  {
   "cell_type": "code",
   "execution_count": 850,
   "metadata": {},
   "outputs": [
    {
     "name": "stdout",
     "output_type": "stream",
     "text": [
      "Winnie the Pooh\n"
     ]
    }
   ],
   "source": [
    "answers['3'] =data.iloc[769,3]\n",
    "print(answers['3'])\n",
    "ans3=data.iloc[769,3]\n",
    "answers1.update({3:ans3})"
   ]
  },
  {
   "cell_type": "markdown",
   "metadata": {
    "colab_type": "text",
    "id": "TfQbxbfNVp-p"
   },
   "source": [
    "# 4. Какова средняя длительность фильмов?\n"
   ]
  },
  {
   "cell_type": "code",
   "execution_count": 140,
   "metadata": {
    "colab": {},
    "colab_type": "code",
    "id": "5K6dKZYVVp-q",
    "scrolled": true
   },
   "outputs": [
    {
     "data": {
      "text/html": [
       "<div>\n",
       "<style scoped>\n",
       "    .dataframe tbody tr th:only-of-type {\n",
       "        vertical-align: middle;\n",
       "    }\n",
       "\n",
       "    .dataframe tbody tr th {\n",
       "        vertical-align: top;\n",
       "    }\n",
       "\n",
       "    .dataframe thead th {\n",
       "        text-align: right;\n",
       "    }\n",
       "</style>\n",
       "<table border=\"1\" class=\"dataframe\">\n",
       "  <thead>\n",
       "    <tr style=\"text-align: right;\">\n",
       "      <th></th>\n",
       "      <th>budget</th>\n",
       "      <th>runtime</th>\n",
       "      <th>vote_average</th>\n",
       "      <th>release_year</th>\n",
       "    </tr>\n",
       "  </thead>\n",
       "  <tbody>\n",
       "    <tr>\n",
       "      <th>count</th>\n",
       "      <td>1.890000e+03</td>\n",
       "      <td>1888.000000</td>\n",
       "      <td>1888.000000</td>\n",
       "      <td>1888.000000</td>\n",
       "    </tr>\n",
       "    <tr>\n",
       "      <th>mean</th>\n",
       "      <td>5.428209e+07</td>\n",
       "      <td>109.663136</td>\n",
       "      <td>6.140572</td>\n",
       "      <td>2007.856992</td>\n",
       "    </tr>\n",
       "    <tr>\n",
       "      <th>std</th>\n",
       "      <td>4.859041e+07</td>\n",
       "      <td>18.020711</td>\n",
       "      <td>0.764921</td>\n",
       "      <td>4.467001</td>\n",
       "    </tr>\n",
       "    <tr>\n",
       "      <th>min</th>\n",
       "      <td>1.010000e+02</td>\n",
       "      <td>63.000000</td>\n",
       "      <td>3.300000</td>\n",
       "      <td>2000.000000</td>\n",
       "    </tr>\n",
       "    <tr>\n",
       "      <th>25%</th>\n",
       "      <td>2.000000e+07</td>\n",
       "      <td>97.000000</td>\n",
       "      <td>5.600000</td>\n",
       "      <td>2004.000000</td>\n",
       "    </tr>\n",
       "    <tr>\n",
       "      <th>50%</th>\n",
       "      <td>3.800000e+07</td>\n",
       "      <td>107.000000</td>\n",
       "      <td>6.100000</td>\n",
       "      <td>2008.000000</td>\n",
       "    </tr>\n",
       "    <tr>\n",
       "      <th>75%</th>\n",
       "      <td>7.150000e+07</td>\n",
       "      <td>120.000000</td>\n",
       "      <td>6.600000</td>\n",
       "      <td>2012.000000</td>\n",
       "    </tr>\n",
       "    <tr>\n",
       "      <th>max</th>\n",
       "      <td>3.800000e+08</td>\n",
       "      <td>214.000000</td>\n",
       "      <td>8.100000</td>\n",
       "      <td>2015.000000</td>\n",
       "    </tr>\n",
       "  </tbody>\n",
       "</table>\n",
       "</div>"
      ],
      "text/plain": [
       "             budget      runtime  vote_average  release_year\n",
       "count  1.890000e+03  1888.000000   1888.000000   1888.000000\n",
       "mean   5.428209e+07   109.663136      6.140572   2007.856992\n",
       "std    4.859041e+07    18.020711      0.764921      4.467001\n",
       "min    1.010000e+02    63.000000      3.300000   2000.000000\n",
       "25%    2.000000e+07    97.000000      5.600000   2004.000000\n",
       "50%    3.800000e+07   107.000000      6.100000   2008.000000\n",
       "75%    7.150000e+07   120.000000      6.600000   2012.000000\n",
       "max    3.800000e+08   214.000000      8.100000   2015.000000"
      ]
     },
     "execution_count": 140,
     "metadata": {},
     "output_type": "execute_result"
    }
   ],
   "source": [
    "data.describe()"
   ]
  },
  {
   "cell_type": "code",
   "execution_count": 852,
   "metadata": {},
   "outputs": [
    {
     "name": "stdout",
     "output_type": "stream",
     "text": [
      "109.66313559322033\n"
     ]
    }
   ],
   "source": [
    "mean_runtime=data['runtime'].mean()\n",
    "print(mean_runtime)\n",
    "answers1.update({4:mean_runtime})"
   ]
  },
  {
   "cell_type": "markdown",
   "metadata": {
    "colab_type": "text",
    "id": "r5TvbnT_Vp-u"
   },
   "source": [
    "# 5. Каково медианное значение длительности фильмов? "
   ]
  },
  {
   "cell_type": "code",
   "execution_count": 855,
   "metadata": {
    "colab": {},
    "colab_type": "code",
    "id": "iBROplKnVp-v"
   },
   "outputs": [
    {
     "name": "stdout",
     "output_type": "stream",
     "text": [
      "107.0\n"
     ]
    }
   ],
   "source": [
    "median_runtime=data['runtime'].median()\n",
    "print(median_runtime)\n",
    "ans5=median_runtime\n",
    "answers1.update({5:median_runtime})"
   ]
  },
  {
   "cell_type": "markdown",
   "metadata": {
    "colab_type": "text",
    "id": "39P-deDSVp-y"
   },
   "source": [
    "# 6. Какой самый прибыльный фильм?\n",
    "#### Внимание! Здесь и далее под «прибылью» или «убытками» понимается разность между сборами и бюджетом фильма. (прибыль = сборы - бюджет) в нашем датасете это будет (profit = revenue - budget) "
   ]
  },
  {
   "cell_type": "code",
   "execution_count": 857,
   "metadata": {
    "colab": {},
    "colab_type": "code",
    "id": "UYZh4T9WVp-y",
    "scrolled": false
   },
   "outputs": [
    {
     "data": {
      "text/html": [
       "<div>\n",
       "<style scoped>\n",
       "    .dataframe tbody tr th:only-of-type {\n",
       "        vertical-align: middle;\n",
       "    }\n",
       "\n",
       "    .dataframe tbody tr th {\n",
       "        vertical-align: top;\n",
       "    }\n",
       "\n",
       "    .dataframe thead th {\n",
       "        text-align: right;\n",
       "    }\n",
       "</style>\n",
       "<table border=\"1\" class=\"dataframe\">\n",
       "  <thead>\n",
       "    <tr style=\"text-align: right;\">\n",
       "      <th></th>\n",
       "      <th>imdb_id</th>\n",
       "      <th>budget</th>\n",
       "      <th>revenue</th>\n",
       "      <th>original_title</th>\n",
       "      <th>cast</th>\n",
       "      <th>director</th>\n",
       "      <th>tagline</th>\n",
       "      <th>overview</th>\n",
       "      <th>runtime</th>\n",
       "      <th>genres</th>\n",
       "      <th>production_companies</th>\n",
       "      <th>release_date</th>\n",
       "      <th>vote_average</th>\n",
       "      <th>release_year</th>\n",
       "      <th>new_cast</th>\n",
       "    </tr>\n",
       "  </thead>\n",
       "  <tbody>\n",
       "    <tr>\n",
       "      <th>0</th>\n",
       "      <td>tt0369610</td>\n",
       "      <td>150000000</td>\n",
       "      <td>1513528810</td>\n",
       "      <td>Jurassic World</td>\n",
       "      <td>Chris Pratt|Bryce Dallas Howard|Irrfan Khan|Vi...</td>\n",
       "      <td>Colin Trevorrow</td>\n",
       "      <td>The park is open.</td>\n",
       "      <td>Twenty-two years after the events of Jurassic ...</td>\n",
       "      <td>124.0</td>\n",
       "      <td>Action|Adventure|Science Fiction|Thriller</td>\n",
       "      <td>Universal Studios|Amblin Entertainment|Legenda...</td>\n",
       "      <td>06/09/2015</td>\n",
       "      <td>6.5</td>\n",
       "      <td>2015.0</td>\n",
       "      <td>5|463|1323|3304|2468</td>\n",
       "    </tr>\n",
       "  </tbody>\n",
       "</table>\n",
       "</div>"
      ],
      "text/plain": [
       "     imdb_id     budget     revenue  original_title  \\\n",
       "0  tt0369610  150000000  1513528810  Jurassic World   \n",
       "\n",
       "                                                cast         director  \\\n",
       "0  Chris Pratt|Bryce Dallas Howard|Irrfan Khan|Vi...  Colin Trevorrow   \n",
       "\n",
       "             tagline                                           overview  \\\n",
       "0  The park is open.  Twenty-two years after the events of Jurassic ...   \n",
       "\n",
       "   runtime                                     genres  \\\n",
       "0    124.0  Action|Adventure|Science Fiction|Thriller   \n",
       "\n",
       "                                production_companies release_date  \\\n",
       "0  Universal Studios|Amblin Entertainment|Legenda...   06/09/2015   \n",
       "\n",
       "   vote_average  release_year              new_cast  \n",
       "0           6.5        2015.0  5|463|1323|3304|2468  "
      ]
     },
     "metadata": {},
     "output_type": "display_data"
    }
   ],
   "source": [
    "# лучше код получения столбца profit вынести в Предобработку что в начале\n",
    "display(data.head(1))"
   ]
  },
  {
   "cell_type": "code",
   "execution_count": 858,
   "metadata": {},
   "outputs": [
    {
     "name": "stdout",
     "output_type": "stream",
     "text": [
      "<class 'pandas.core.frame.DataFrame'>\n",
      "RangeIndex: 1890 entries, 0 to 1889\n",
      "Data columns (total 15 columns):\n",
      " #   Column                Non-Null Count  Dtype  \n",
      "---  ------                --------------  -----  \n",
      " 0   imdb_id               1890 non-null   object \n",
      " 1   budget                1890 non-null   int64  \n",
      " 2   revenue               1890 non-null   object \n",
      " 3   original_title        1890 non-null   object \n",
      " 4   cast                  1890 non-null   object \n",
      " 5   director              1890 non-null   object \n",
      " 6   tagline               1890 non-null   object \n",
      " 7   overview              1889 non-null   object \n",
      " 8   runtime               1888 non-null   float64\n",
      " 9   genres                1888 non-null   object \n",
      " 10  production_companies  1888 non-null   object \n",
      " 11  release_date          1888 non-null   object \n",
      " 12  vote_average          1888 non-null   float64\n",
      " 13  release_year          1888 non-null   float64\n",
      " 14  new_cast              1890 non-null   object \n",
      "dtypes: float64(3), int64(1), object(11)\n",
      "memory usage: 221.6+ KB\n"
     ]
    }
   ],
   "source": [
    "data.info()"
   ]
  },
  {
   "cell_type": "markdown",
   "metadata": {},
   "source": [
    "# Revenue=Comedy"
   ]
  },
  {
   "cell_type": "code",
   "execution_count": 859,
   "metadata": {
    "scrolled": true
   },
   "outputs": [
    {
     "data": {
      "text/html": [
       "<div>\n",
       "<style scoped>\n",
       "    .dataframe tbody tr th:only-of-type {\n",
       "        vertical-align: middle;\n",
       "    }\n",
       "\n",
       "    .dataframe tbody tr th {\n",
       "        vertical-align: top;\n",
       "    }\n",
       "\n",
       "    .dataframe thead th {\n",
       "        text-align: right;\n",
       "    }\n",
       "</style>\n",
       "<table border=\"1\" class=\"dataframe\">\n",
       "  <thead>\n",
       "    <tr style=\"text-align: right;\">\n",
       "      <th></th>\n",
       "      <th>imdb_id</th>\n",
       "      <th>budget</th>\n",
       "      <th>revenue</th>\n",
       "      <th>original_title</th>\n",
       "      <th>cast</th>\n",
       "      <th>director</th>\n",
       "      <th>tagline</th>\n",
       "      <th>overview</th>\n",
       "      <th>runtime</th>\n",
       "      <th>genres</th>\n",
       "      <th>production_companies</th>\n",
       "      <th>release_date</th>\n",
       "      <th>vote_average</th>\n",
       "      <th>release_year</th>\n",
       "      <th>new_cast</th>\n",
       "    </tr>\n",
       "  </thead>\n",
       "  <tbody>\n",
       "    <tr>\n",
       "      <th>84</th>\n",
       "      <td>best man Jimmy.\"</td>\n",
       "      <td>101</td>\n",
       "      <td>Comedy</td>\n",
       "      <td>Miramax Films|Screen Gems|LStar Capital</td>\n",
       "      <td>1/16/2015</td>\n",
       "      <td>6.5</td>\n",
       "      <td>2015</td>\n",
       "      <td>NaN</td>\n",
       "      <td>NaN</td>\n",
       "      <td>NaN</td>\n",
       "      <td>NaN</td>\n",
       "      <td>NaN</td>\n",
       "      <td>NaN</td>\n",
       "      <td>NaN</td>\n",
       "      <td></td>\n",
       "    </tr>\n",
       "  </tbody>\n",
       "</table>\n",
       "</div>"
      ],
      "text/plain": [
       "              imdb_id  budget revenue  \\\n",
       "84   best man Jimmy.\"     101  Comedy   \n",
       "\n",
       "                             original_title       cast director tagline  \\\n",
       "84  Miramax Films|Screen Gems|LStar Capital  1/16/2015      6.5    2015   \n",
       "\n",
       "   overview  runtime genres production_companies release_date  vote_average  \\\n",
       "84      NaN      NaN    NaN                  NaN          NaN           NaN   \n",
       "\n",
       "    release_year new_cast  \n",
       "84           NaN           "
      ]
     },
     "execution_count": 859,
     "metadata": {},
     "output_type": "execute_result"
    }
   ],
   "source": [
    "data.loc[data['revenue']=='Comedy']"
   ]
  },
  {
   "cell_type": "code",
   "execution_count": 860,
   "metadata": {},
   "outputs": [
    {
     "data": {
      "text/html": [
       "<div>\n",
       "<style scoped>\n",
       "    .dataframe tbody tr th:only-of-type {\n",
       "        vertical-align: middle;\n",
       "    }\n",
       "\n",
       "    .dataframe tbody tr th {\n",
       "        vertical-align: top;\n",
       "    }\n",
       "\n",
       "    .dataframe thead th {\n",
       "        text-align: right;\n",
       "    }\n",
       "</style>\n",
       "<table border=\"1\" class=\"dataframe\">\n",
       "  <thead>\n",
       "    <tr style=\"text-align: right;\">\n",
       "      <th></th>\n",
       "      <th>imdb_id</th>\n",
       "      <th>budget</th>\n",
       "      <th>revenue</th>\n",
       "      <th>original_title</th>\n",
       "      <th>cast</th>\n",
       "      <th>director</th>\n",
       "      <th>tagline</th>\n",
       "      <th>overview</th>\n",
       "      <th>runtime</th>\n",
       "      <th>genres</th>\n",
       "      <th>production_companies</th>\n",
       "      <th>release_date</th>\n",
       "      <th>vote_average</th>\n",
       "      <th>release_year</th>\n",
       "      <th>new_cast</th>\n",
       "    </tr>\n",
       "  </thead>\n",
       "  <tbody>\n",
       "    <tr>\n",
       "      <th>83</th>\n",
       "      <td>tt0884732</td>\n",
       "      <td>23000000</td>\n",
       "      <td>79799880</td>\n",
       "      <td>The Wedding Ringer</td>\n",
       "      <td>Kevin Hart|Josh Gad|Kaley Cuoco|Affion Crocket...</td>\n",
       "      <td>Jeremy Garelick</td>\n",
       "      <td>He's the best man... money can buy.</td>\n",
       "      <td>Doug Harris is a loveable but socially awkward...</td>\n",
       "      <td>NaN</td>\n",
       "      <td>NaN</td>\n",
       "      <td>NaN</td>\n",
       "      <td>NaN</td>\n",
       "      <td>NaN</td>\n",
       "      <td>NaN</td>\n",
       "      <td>84|1720|1788|47|1707</td>\n",
       "    </tr>\n",
       "    <tr>\n",
       "      <th>85</th>\n",
       "      <td>tt3567288</td>\n",
       "      <td>5000000</td>\n",
       "      <td>98450062</td>\n",
       "      <td>The Visit</td>\n",
       "      <td>Olivia DeJonge|Ed Oxenbould|Kathryn Hahn|Benja...</td>\n",
       "      <td>M. Night Shyamalan</td>\n",
       "      <td>No one loves you like your grandparents.</td>\n",
       "      <td>The terrifying story of a brother and sister w...</td>\n",
       "      <td>94.0</td>\n",
       "      <td>Horror|Thriller</td>\n",
       "      <td>Blumhouse Productions|Blinding Edge Pictures</td>\n",
       "      <td>09/10/2015</td>\n",
       "      <td>5.9</td>\n",
       "      <td>2015.0</td>\n",
       "      <td>13|944|1823|329|837</td>\n",
       "    </tr>\n",
       "  </tbody>\n",
       "</table>\n",
       "</div>"
      ],
      "text/plain": [
       "      imdb_id    budget   revenue      original_title  \\\n",
       "83  tt0884732  23000000  79799880  The Wedding Ringer   \n",
       "85  tt3567288   5000000  98450062           The Visit   \n",
       "\n",
       "                                                 cast            director  \\\n",
       "83  Kevin Hart|Josh Gad|Kaley Cuoco|Affion Crocket...     Jeremy Garelick   \n",
       "85  Olivia DeJonge|Ed Oxenbould|Kathryn Hahn|Benja...  M. Night Shyamalan   \n",
       "\n",
       "                                     tagline  \\\n",
       "83       He's the best man... money can buy.   \n",
       "85  No one loves you like your grandparents.   \n",
       "\n",
       "                                             overview  runtime  \\\n",
       "83  Doug Harris is a loveable but socially awkward...      NaN   \n",
       "85  The terrifying story of a brother and sister w...     94.0   \n",
       "\n",
       "             genres                          production_companies  \\\n",
       "83              NaN                                           NaN   \n",
       "85  Horror|Thriller  Blumhouse Productions|Blinding Edge Pictures   \n",
       "\n",
       "   release_date  vote_average  release_year              new_cast  \n",
       "83          NaN           NaN           NaN  84|1720|1788|47|1707  \n",
       "85   09/10/2015           5.9        2015.0   13|944|1823|329|837  "
      ]
     },
     "execution_count": 860,
     "metadata": {},
     "output_type": "execute_result"
    }
   ],
   "source": [
    "# Remove the row entirely https://pandas.pydata.org/pandas-docs/stable/reference/api/pandas.DataFrame.drop.html\n",
    "data.drop(index=84,inplace=True) \n",
    "data.iloc[83:85]"
   ]
  },
  {
   "cell_type": "code",
   "execution_count": 861,
   "metadata": {},
   "outputs": [
    {
     "name": "stdout",
     "output_type": "stream",
     "text": [
      "<class 'pandas.core.frame.DataFrame'>\n",
      "Int64Index: 1889 entries, 0 to 1889\n",
      "Data columns (total 15 columns):\n",
      " #   Column                Non-Null Count  Dtype  \n",
      "---  ------                --------------  -----  \n",
      " 0   imdb_id               1889 non-null   object \n",
      " 1   budget                1889 non-null   int64  \n",
      " 2   revenue               1889 non-null   int64  \n",
      " 3   original_title        1889 non-null   object \n",
      " 4   cast                  1889 non-null   object \n",
      " 5   director              1889 non-null   object \n",
      " 6   tagline               1889 non-null   object \n",
      " 7   overview              1889 non-null   object \n",
      " 8   runtime               1888 non-null   float64\n",
      " 9   genres                1888 non-null   object \n",
      " 10  production_companies  1888 non-null   object \n",
      " 11  release_date          1888 non-null   object \n",
      " 12  vote_average          1888 non-null   float64\n",
      " 13  release_year          1888 non-null   float64\n",
      " 14  new_cast              1889 non-null   object \n",
      "dtypes: float64(3), int64(2), object(10)\n",
      "memory usage: 236.1+ KB\n"
     ]
    }
   ],
   "source": [
    "data['revenue']=pd.to_numeric(data['revenue'])   # не получилось .astype(int)\n",
    "data.info()"
   ]
  },
  {
   "cell_type": "code",
   "execution_count": 862,
   "metadata": {},
   "outputs": [
    {
     "data": {
      "text/html": [
       "<div>\n",
       "<style scoped>\n",
       "    .dataframe tbody tr th:only-of-type {\n",
       "        vertical-align: middle;\n",
       "    }\n",
       "\n",
       "    .dataframe tbody tr th {\n",
       "        vertical-align: top;\n",
       "    }\n",
       "\n",
       "    .dataframe thead th {\n",
       "        text-align: right;\n",
       "    }\n",
       "</style>\n",
       "<table border=\"1\" class=\"dataframe\">\n",
       "  <thead>\n",
       "    <tr style=\"text-align: right;\">\n",
       "      <th></th>\n",
       "      <th>imdb_id</th>\n",
       "      <th>budget</th>\n",
       "      <th>revenue</th>\n",
       "      <th>original_title</th>\n",
       "      <th>cast</th>\n",
       "      <th>director</th>\n",
       "      <th>tagline</th>\n",
       "      <th>overview</th>\n",
       "      <th>runtime</th>\n",
       "      <th>genres</th>\n",
       "      <th>production_companies</th>\n",
       "      <th>release_date</th>\n",
       "      <th>vote_average</th>\n",
       "      <th>release_year</th>\n",
       "      <th>new_cast</th>\n",
       "      <th>profit</th>\n",
       "    </tr>\n",
       "  </thead>\n",
       "  <tbody>\n",
       "    <tr>\n",
       "      <th>0</th>\n",
       "      <td>tt0369610</td>\n",
       "      <td>150000000</td>\n",
       "      <td>1513528810</td>\n",
       "      <td>Jurassic World</td>\n",
       "      <td>Chris Pratt|Bryce Dallas Howard|Irrfan Khan|Vi...</td>\n",
       "      <td>Colin Trevorrow</td>\n",
       "      <td>The park is open.</td>\n",
       "      <td>Twenty-two years after the events of Jurassic ...</td>\n",
       "      <td>124.0</td>\n",
       "      <td>Action|Adventure|Science Fiction|Thriller</td>\n",
       "      <td>Universal Studios|Amblin Entertainment|Legenda...</td>\n",
       "      <td>06/09/2015</td>\n",
       "      <td>6.5</td>\n",
       "      <td>2015.0</td>\n",
       "      <td>5|463|1323|3304|2468</td>\n",
       "      <td>1363528810</td>\n",
       "    </tr>\n",
       "  </tbody>\n",
       "</table>\n",
       "</div>"
      ],
      "text/plain": [
       "     imdb_id     budget     revenue  original_title  \\\n",
       "0  tt0369610  150000000  1513528810  Jurassic World   \n",
       "\n",
       "                                                cast         director  \\\n",
       "0  Chris Pratt|Bryce Dallas Howard|Irrfan Khan|Vi...  Colin Trevorrow   \n",
       "\n",
       "             tagline                                           overview  \\\n",
       "0  The park is open.  Twenty-two years after the events of Jurassic ...   \n",
       "\n",
       "   runtime                                     genres  \\\n",
       "0    124.0  Action|Adventure|Science Fiction|Thriller   \n",
       "\n",
       "                                production_companies release_date  \\\n",
       "0  Universal Studios|Amblin Entertainment|Legenda...   06/09/2015   \n",
       "\n",
       "   vote_average  release_year              new_cast      profit  \n",
       "0           6.5        2015.0  5|463|1323|3304|2468  1363528810  "
      ]
     },
     "metadata": {},
     "output_type": "display_data"
    }
   ],
   "source": [
    "data['profit']=data['revenue']-data['budget']\n",
    "display(data.head(1))"
   ]
  },
  {
   "cell_type": "code",
   "execution_count": 863,
   "metadata": {
    "scrolled": true
   },
   "outputs": [
    {
     "data": {
      "text/html": [
       "<div>\n",
       "<style scoped>\n",
       "    .dataframe tbody tr th:only-of-type {\n",
       "        vertical-align: middle;\n",
       "    }\n",
       "\n",
       "    .dataframe tbody tr th {\n",
       "        vertical-align: top;\n",
       "    }\n",
       "\n",
       "    .dataframe thead th {\n",
       "        text-align: right;\n",
       "    }\n",
       "</style>\n",
       "<table border=\"1\" class=\"dataframe\">\n",
       "  <thead>\n",
       "    <tr style=\"text-align: right;\">\n",
       "      <th></th>\n",
       "      <th>imdb_id</th>\n",
       "      <th>budget</th>\n",
       "      <th>revenue</th>\n",
       "      <th>original_title</th>\n",
       "      <th>cast</th>\n",
       "      <th>director</th>\n",
       "      <th>tagline</th>\n",
       "      <th>overview</th>\n",
       "      <th>runtime</th>\n",
       "      <th>genres</th>\n",
       "      <th>production_companies</th>\n",
       "      <th>release_date</th>\n",
       "      <th>vote_average</th>\n",
       "      <th>release_year</th>\n",
       "      <th>new_cast</th>\n",
       "      <th>profit</th>\n",
       "    </tr>\n",
       "  </thead>\n",
       "  <tbody>\n",
       "    <tr>\n",
       "      <th>240</th>\n",
       "      <td>tt0499549</td>\n",
       "      <td>237000000</td>\n",
       "      <td>2781505847</td>\n",
       "      <td>Avatar</td>\n",
       "      <td>Sam Worthington|Zoe Saldana|Sigourney Weaver|S...</td>\n",
       "      <td>James Cameron</td>\n",
       "      <td>Enter the World of Pandora.</td>\n",
       "      <td>In the 22nd century, a paraplegic Marine is di...</td>\n",
       "      <td>162.0</td>\n",
       "      <td>Action|Adventure|Fantasy|Science Fiction</td>\n",
       "      <td>Ingenious Film Partners|Twentieth Century Fox ...</td>\n",
       "      <td>12/10/2009</td>\n",
       "      <td>7.1</td>\n",
       "      <td>2009.0</td>\n",
       "      <td>82|3399|3017|3067|2350</td>\n",
       "      <td>2544505847</td>\n",
       "    </tr>\n",
       "  </tbody>\n",
       "</table>\n",
       "</div>"
      ],
      "text/plain": [
       "       imdb_id     budget     revenue original_title  \\\n",
       "240  tt0499549  237000000  2781505847         Avatar   \n",
       "\n",
       "                                                  cast       director  \\\n",
       "240  Sam Worthington|Zoe Saldana|Sigourney Weaver|S...  James Cameron   \n",
       "\n",
       "                         tagline  \\\n",
       "240  Enter the World of Pandora.   \n",
       "\n",
       "                                              overview  runtime  \\\n",
       "240  In the 22nd century, a paraplegic Marine is di...    162.0   \n",
       "\n",
       "                                       genres  \\\n",
       "240  Action|Adventure|Fantasy|Science Fiction   \n",
       "\n",
       "                                  production_companies release_date  \\\n",
       "240  Ingenious Film Partners|Twentieth Century Fox ...   12/10/2009   \n",
       "\n",
       "     vote_average  release_year                new_cast      profit  \n",
       "240           7.1        2009.0  82|3399|3017|3067|2350  2544505847  "
      ]
     },
     "execution_count": 863,
     "metadata": {},
     "output_type": "execute_result"
    }
   ],
   "source": [
    "data[data['profit']==data['profit'].max()]"
   ]
  },
  {
   "cell_type": "code",
   "execution_count": 864,
   "metadata": {},
   "outputs": [],
   "source": [
    "df_sorted=data.sort_values(by='profit', ascending=False)\n",
    "df_ans6=df_sorted.head(1)\n",
    "ans6=df_ans6['original_title']\n",
    "answers1.update({6:ans6})"
   ]
  },
  {
   "cell_type": "markdown",
   "metadata": {
    "colab_type": "text",
    "id": "M99JmIX4Vp-2"
   },
   "source": [
    "# 7. Какой фильм самый убыточный? "
   ]
  },
  {
   "cell_type": "code",
   "execution_count": 162,
   "metadata": {
    "colab": {},
    "colab_type": "code",
    "id": "w-D2m4XPVp-3",
    "scrolled": false
   },
   "outputs": [
    {
     "data": {
      "text/html": [
       "<div>\n",
       "<style scoped>\n",
       "    .dataframe tbody tr th:only-of-type {\n",
       "        vertical-align: middle;\n",
       "    }\n",
       "\n",
       "    .dataframe tbody tr th {\n",
       "        vertical-align: top;\n",
       "    }\n",
       "\n",
       "    .dataframe thead th {\n",
       "        text-align: right;\n",
       "    }\n",
       "</style>\n",
       "<table border=\"1\" class=\"dataframe\">\n",
       "  <thead>\n",
       "    <tr style=\"text-align: right;\">\n",
       "      <th></th>\n",
       "      <th>budget</th>\n",
       "      <th>revenue</th>\n",
       "      <th>runtime</th>\n",
       "      <th>vote_average</th>\n",
       "      <th>release_year</th>\n",
       "      <th>profit</th>\n",
       "    </tr>\n",
       "  </thead>\n",
       "  <tbody>\n",
       "    <tr>\n",
       "      <th>count</th>\n",
       "      <td>1.889000e+03</td>\n",
       "      <td>1.889000e+03</td>\n",
       "      <td>1888.000000</td>\n",
       "      <td>1888.000000</td>\n",
       "      <td>1888.000000</td>\n",
       "      <td>1.889000e+03</td>\n",
       "    </tr>\n",
       "    <tr>\n",
       "      <th>mean</th>\n",
       "      <td>5.431083e+07</td>\n",
       "      <td>1.553653e+08</td>\n",
       "      <td>109.663136</td>\n",
       "      <td>6.140572</td>\n",
       "      <td>2007.856992</td>\n",
       "      <td>1.010545e+08</td>\n",
       "    </tr>\n",
       "    <tr>\n",
       "      <th>std</th>\n",
       "      <td>4.858721e+07</td>\n",
       "      <td>2.146698e+08</td>\n",
       "      <td>18.020711</td>\n",
       "      <td>0.764921</td>\n",
       "      <td>4.467001</td>\n",
       "      <td>1.830733e+08</td>\n",
       "    </tr>\n",
       "    <tr>\n",
       "      <th>min</th>\n",
       "      <td>5.000000e+06</td>\n",
       "      <td>2.033165e+06</td>\n",
       "      <td>63.000000</td>\n",
       "      <td>3.300000</td>\n",
       "      <td>2000.000000</td>\n",
       "      <td>-1.657101e+08</td>\n",
       "    </tr>\n",
       "    <tr>\n",
       "      <th>25%</th>\n",
       "      <td>2.000000e+07</td>\n",
       "      <td>3.456058e+07</td>\n",
       "      <td>97.000000</td>\n",
       "      <td>5.600000</td>\n",
       "      <td>2004.000000</td>\n",
       "      <td>5.000000e+06</td>\n",
       "    </tr>\n",
       "    <tr>\n",
       "      <th>50%</th>\n",
       "      <td>3.800000e+07</td>\n",
       "      <td>8.361541e+07</td>\n",
       "      <td>107.000000</td>\n",
       "      <td>6.100000</td>\n",
       "      <td>2008.000000</td>\n",
       "      <td>4.400041e+07</td>\n",
       "    </tr>\n",
       "    <tr>\n",
       "      <th>75%</th>\n",
       "      <td>7.200000e+07</td>\n",
       "      <td>1.782626e+08</td>\n",
       "      <td>120.000000</td>\n",
       "      <td>6.600000</td>\n",
       "      <td>2012.000000</td>\n",
       "      <td>1.201842e+08</td>\n",
       "    </tr>\n",
       "    <tr>\n",
       "      <th>max</th>\n",
       "      <td>3.800000e+08</td>\n",
       "      <td>2.781506e+09</td>\n",
       "      <td>214.000000</td>\n",
       "      <td>8.100000</td>\n",
       "      <td>2015.000000</td>\n",
       "      <td>2.544506e+09</td>\n",
       "    </tr>\n",
       "  </tbody>\n",
       "</table>\n",
       "</div>"
      ],
      "text/plain": [
       "             budget       revenue      runtime  vote_average  release_year  \\\n",
       "count  1.889000e+03  1.889000e+03  1888.000000   1888.000000   1888.000000   \n",
       "mean   5.431083e+07  1.553653e+08   109.663136      6.140572   2007.856992   \n",
       "std    4.858721e+07  2.146698e+08    18.020711      0.764921      4.467001   \n",
       "min    5.000000e+06  2.033165e+06    63.000000      3.300000   2000.000000   \n",
       "25%    2.000000e+07  3.456058e+07    97.000000      5.600000   2004.000000   \n",
       "50%    3.800000e+07  8.361541e+07   107.000000      6.100000   2008.000000   \n",
       "75%    7.200000e+07  1.782626e+08   120.000000      6.600000   2012.000000   \n",
       "max    3.800000e+08  2.781506e+09   214.000000      8.100000   2015.000000   \n",
       "\n",
       "             profit  \n",
       "count  1.889000e+03  \n",
       "mean   1.010545e+08  \n",
       "std    1.830733e+08  \n",
       "min   -1.657101e+08  \n",
       "25%    5.000000e+06  \n",
       "50%    4.400041e+07  \n",
       "75%    1.201842e+08  \n",
       "max    2.544506e+09  "
      ]
     },
     "execution_count": 162,
     "metadata": {},
     "output_type": "execute_result"
    }
   ],
   "source": [
    "data.describe()"
   ]
  },
  {
   "cell_type": "code",
   "execution_count": 169,
   "metadata": {
    "scrolled": true
   },
   "outputs": [
    {
     "data": {
      "text/plain": [
       "1246    The Lone Ranger\n",
       "Name: original_title, dtype: object"
      ]
     },
     "execution_count": 169,
     "metadata": {},
     "output_type": "execute_result"
    }
   ],
   "source": [
    "data[data['profit']==data['profit'].min()]['original_title']"
   ]
  },
  {
   "cell_type": "code",
   "execution_count": 865,
   "metadata": {},
   "outputs": [
    {
     "name": "stdout",
     "output_type": "stream",
     "text": [
      "1246    The Lone Ranger\n",
      "Name: original_title, dtype: object\n"
     ]
    }
   ],
   "source": [
    "ans7=data[data['profit']==data['profit'].min()]['original_title']\n",
    "print(ans7)\n",
    "answers1.update({7:ans7})"
   ]
  },
  {
   "cell_type": "markdown",
   "metadata": {
    "colab_type": "text",
    "id": "wEOM5ERVVp-6"
   },
   "source": [
    "# 8. У скольких фильмов из датасета объем сборов оказался выше бюджета?"
   ]
  },
  {
   "cell_type": "code",
   "execution_count": 866,
   "metadata": {
    "colab": {},
    "colab_type": "code",
    "id": "y00_7HD6Vp-7",
    "scrolled": true
   },
   "outputs": [
    {
     "data": {
      "text/plain": [
       "imdb_id                 1478\n",
       "budget                  1478\n",
       "revenue                 1478\n",
       "original_title          1478\n",
       "cast                    1478\n",
       "director                1478\n",
       "tagline                 1478\n",
       "overview                1478\n",
       "runtime                 1477\n",
       "genres                  1477\n",
       "production_companies    1477\n",
       "release_date            1477\n",
       "vote_average            1477\n",
       "release_year            1477\n",
       "new_cast                1478\n",
       "profit                  1478\n",
       "dtype: int64"
      ]
     },
     "execution_count": 866,
     "metadata": {},
     "output_type": "execute_result"
    }
   ],
   "source": [
    "data[data['profit']>0].count()"
   ]
  },
  {
   "cell_type": "code",
   "execution_count": 867,
   "metadata": {},
   "outputs": [
    {
     "name": "stdout",
     "output_type": "stream",
     "text": [
      "1478\n"
     ]
    }
   ],
   "source": [
    "ans8=np.sum(data['profit'] > 0)\n",
    "print(ans8)\n",
    "answers1.update({8:ans8})"
   ]
  },
  {
   "cell_type": "markdown",
   "metadata": {
    "colab_type": "text",
    "id": "xhpspA9KVp_A"
   },
   "source": [
    "# 9. Какой фильм оказался самым кассовым в 2008 году?"
   ]
  },
  {
   "cell_type": "code",
   "execution_count": 868,
   "metadata": {},
   "outputs": [
    {
     "data": {
      "text/html": [
       "<div>\n",
       "<style scoped>\n",
       "    .dataframe tbody tr th:only-of-type {\n",
       "        vertical-align: middle;\n",
       "    }\n",
       "\n",
       "    .dataframe tbody tr th {\n",
       "        vertical-align: top;\n",
       "    }\n",
       "\n",
       "    .dataframe thead th {\n",
       "        text-align: right;\n",
       "    }\n",
       "</style>\n",
       "<table border=\"1\" class=\"dataframe\">\n",
       "  <thead>\n",
       "    <tr style=\"text-align: right;\">\n",
       "      <th></th>\n",
       "      <th>imdb_id</th>\n",
       "      <th>budget</th>\n",
       "      <th>revenue</th>\n",
       "      <th>original_title</th>\n",
       "      <th>cast</th>\n",
       "      <th>director</th>\n",
       "      <th>tagline</th>\n",
       "      <th>overview</th>\n",
       "      <th>runtime</th>\n",
       "      <th>genres</th>\n",
       "      <th>production_companies</th>\n",
       "      <th>release_date</th>\n",
       "      <th>vote_average</th>\n",
       "      <th>release_year</th>\n",
       "      <th>new_cast</th>\n",
       "      <th>profit</th>\n",
       "    </tr>\n",
       "  </thead>\n",
       "  <tbody>\n",
       "    <tr>\n",
       "      <th>0</th>\n",
       "      <td>tt0369610</td>\n",
       "      <td>150000000</td>\n",
       "      <td>1513528810</td>\n",
       "      <td>Jurassic World</td>\n",
       "      <td>Chris Pratt|Bryce Dallas Howard|Irrfan Khan|Vi...</td>\n",
       "      <td>Colin Trevorrow</td>\n",
       "      <td>The park is open.</td>\n",
       "      <td>Twenty-two years after the events of Jurassic ...</td>\n",
       "      <td>124.0</td>\n",
       "      <td>Action|Adventure|Science Fiction|Thriller</td>\n",
       "      <td>Universal Studios|Amblin Entertainment|Legenda...</td>\n",
       "      <td>06/09/2015</td>\n",
       "      <td>6.5</td>\n",
       "      <td>2015.0</td>\n",
       "      <td>5|463|1323|3304|2468</td>\n",
       "      <td>1363528810</td>\n",
       "    </tr>\n",
       "  </tbody>\n",
       "</table>\n",
       "</div>"
      ],
      "text/plain": [
       "     imdb_id     budget     revenue  original_title  \\\n",
       "0  tt0369610  150000000  1513528810  Jurassic World   \n",
       "\n",
       "                                                cast         director  \\\n",
       "0  Chris Pratt|Bryce Dallas Howard|Irrfan Khan|Vi...  Colin Trevorrow   \n",
       "\n",
       "             tagline                                           overview  \\\n",
       "0  The park is open.  Twenty-two years after the events of Jurassic ...   \n",
       "\n",
       "   runtime                                     genres  \\\n",
       "0    124.0  Action|Adventure|Science Fiction|Thriller   \n",
       "\n",
       "                                production_companies release_date  \\\n",
       "0  Universal Studios|Amblin Entertainment|Legenda...   06/09/2015   \n",
       "\n",
       "   vote_average  release_year              new_cast      profit  \n",
       "0           6.5        2015.0  5|463|1323|3304|2468  1363528810  "
      ]
     },
     "execution_count": 868,
     "metadata": {},
     "output_type": "execute_result"
    }
   ],
   "source": [
    "data.head(1)"
   ]
  },
  {
   "cell_type": "code",
   "execution_count": 869,
   "metadata": {
    "colab": {},
    "colab_type": "code",
    "id": "MoUyQr9RVp_B"
   },
   "outputs": [
    {
     "name": "stdout",
     "output_type": "stream",
     "text": [
      "600    The Dark Knight\n",
      "Name: original_title, dtype: object\n"
     ]
    }
   ],
   "source": [
    "data_2008=data[data['release_year']==2008]\n",
    "#data_2008.sort_values(by='revenue', ascending=False)['original_title']\n",
    "ans9=data_2008[data_2008['revenue']==data_2008['revenue'].max()]['original_title']\n",
    "print(ans9)\n",
    "answers1.update({9:ans9})"
   ]
  },
  {
   "cell_type": "markdown",
   "metadata": {
    "colab_type": "text",
    "id": "Zi4hDKidVp_F"
   },
   "source": [
    "# 10. Самый убыточный фильм за период с 2012 по 2014 г. (включительно)?\n"
   ]
  },
  {
   "cell_type": "code",
   "execution_count": 870,
   "metadata": {
    "colab": {},
    "colab_type": "code",
    "id": "XqyRmufJVp_F"
   },
   "outputs": [
    {
     "data": {
      "text/html": [
       "<div>\n",
       "<style scoped>\n",
       "    .dataframe tbody tr th:only-of-type {\n",
       "        vertical-align: middle;\n",
       "    }\n",
       "\n",
       "    .dataframe tbody tr th {\n",
       "        vertical-align: top;\n",
       "    }\n",
       "\n",
       "    .dataframe thead th {\n",
       "        text-align: right;\n",
       "    }\n",
       "</style>\n",
       "<table border=\"1\" class=\"dataframe\">\n",
       "  <thead>\n",
       "    <tr style=\"text-align: right;\">\n",
       "      <th></th>\n",
       "      <th>imdb_id</th>\n",
       "      <th>budget</th>\n",
       "      <th>revenue</th>\n",
       "      <th>original_title</th>\n",
       "      <th>cast</th>\n",
       "      <th>director</th>\n",
       "      <th>tagline</th>\n",
       "      <th>overview</th>\n",
       "      <th>runtime</th>\n",
       "      <th>genres</th>\n",
       "      <th>production_companies</th>\n",
       "      <th>release_date</th>\n",
       "      <th>vote_average</th>\n",
       "      <th>release_year</th>\n",
       "      <th>new_cast</th>\n",
       "      <th>profit</th>\n",
       "    </tr>\n",
       "  </thead>\n",
       "  <tbody>\n",
       "    <tr>\n",
       "      <th>1246</th>\n",
       "      <td>tt1210819</td>\n",
       "      <td>255000000</td>\n",
       "      <td>89289910</td>\n",
       "      <td>The Lone Ranger</td>\n",
       "      <td>Johnny Depp|Armie Hammer|William Fichtner|Hele...</td>\n",
       "      <td>Gore Verbinski</td>\n",
       "      <td>Never Take Off the Mask</td>\n",
       "      <td>The Texas Rangers chase down a gang of outlaws...</td>\n",
       "      <td>149.0</td>\n",
       "      <td>Action|Adventure|Western</td>\n",
       "      <td>Walt Disney Pictures|Jerry Bruckheimer Films|I...</td>\n",
       "      <td>07/03/2013</td>\n",
       "      <td>6.0</td>\n",
       "      <td>2013.0</td>\n",
       "      <td>66|251|3353|1277|1387</td>\n",
       "      <td>-165710090</td>\n",
       "    </tr>\n",
       "  </tbody>\n",
       "</table>\n",
       "</div>"
      ],
      "text/plain": [
       "        imdb_id     budget   revenue   original_title  \\\n",
       "1246  tt1210819  255000000  89289910  The Lone Ranger   \n",
       "\n",
       "                                                   cast        director  \\\n",
       "1246  Johnny Depp|Armie Hammer|William Fichtner|Hele...  Gore Verbinski   \n",
       "\n",
       "                      tagline  \\\n",
       "1246  Never Take Off the Mask   \n",
       "\n",
       "                                               overview  runtime  \\\n",
       "1246  The Texas Rangers chase down a gang of outlaws...    149.0   \n",
       "\n",
       "                        genres  \\\n",
       "1246  Action|Adventure|Western   \n",
       "\n",
       "                                   production_companies release_date  \\\n",
       "1246  Walt Disney Pictures|Jerry Bruckheimer Films|I...   07/03/2013   \n",
       "\n",
       "      vote_average  release_year               new_cast     profit  \n",
       "1246           6.0        2013.0  66|251|3353|1277|1387 -165710090  "
      ]
     },
     "metadata": {},
     "output_type": "display_data"
    },
    {
     "name": "stdout",
     "output_type": "stream",
     "text": [
      "1246    The Lone Ranger\n",
      "Name: original_title, dtype: object\n"
     ]
    }
   ],
   "source": [
    "data_3_y=data[(data['release_year']<2015) & (data['release_year']>2011)].sort_values(by='profit', ascending=True)\n",
    "display(data_3_y.head(1))\n",
    "ans10=data_3_y[data_3_y['profit']==data_3_y['profit'].min()]['original_title']\n",
    "print(ans10)\n",
    "answers1.update({10:ans10})"
   ]
  },
  {
   "cell_type": "markdown",
   "metadata": {
    "colab_type": "text",
    "id": "EA7Sa9dkVp_I"
   },
   "source": [
    "# 11. Какого жанра фильмов больше всего?"
   ]
  },
  {
   "cell_type": "code",
   "execution_count": 303,
   "metadata": {
    "colab": {},
    "colab_type": "code",
    "id": "zsJAwJ8QVp_J",
    "scrolled": true
   },
   "outputs": [],
   "source": [
    "# эту задачу тоже можно решать разными подходами, попробуй реализовать разные варианты\n",
    "# если будешь добавлять функцию - выноси ее в предобработку что в начале\n",
    "\n",
    "# COMEDY + 1 for the deleted lame entry"
   ]
  },
  {
   "cell_type": "code",
   "execution_count": 871,
   "metadata": {
    "scrolled": true
   },
   "outputs": [
    {
     "name": "stdout",
     "output_type": "stream",
     "text": [
      "Action\n"
     ]
    }
   ],
   "source": [
    "genres_names=data['genres'].unique()\n",
    "#print(len(genres_names))\n",
    "\n",
    "list_of_genres=[]\n",
    "for name in genres_names:\n",
    "    name_list=str(name).split('|')\n",
    "    for uniq in name_list:\n",
    "        list_of_genres.append(uniq)\n",
    "\n",
    "unique_genres=np.unique(list_of_genres)\n",
    "\n",
    "d_genres=dict(Counter(list_of_genres))\n",
    "\n",
    "df_genres=pd.DataFrame.from_dict(d_genres, columns=['Count'],orient='index').reset_index()\n",
    "df_genres.columns=['Genre','Count']\n",
    "sorted_genres=df_genres.sort_values(by='Count', ascending=False)\n",
    "#display(sorted_genres)\n",
    "ans11=sorted_genres.iloc[0]['Genre']\n",
    "print(ans11)\n",
    "answers1.update({11:ans11})"
   ]
  },
  {
   "cell_type": "markdown",
   "metadata": {
    "colab_type": "text",
    "id": "Ax6g2C8SVp_M"
   },
   "source": [
    "ВАРИАНТ 2"
   ]
  },
  {
   "cell_type": "markdown",
   "metadata": {
    "colab_type": "text",
    "id": "T9_bPWpkVp_Q"
   },
   "source": [
    "# 12. Фильмы какого жанра чаще всего становятся прибыльными? "
   ]
  },
  {
   "cell_type": "code",
   "execution_count": 872,
   "metadata": {
    "scrolled": false
   },
   "outputs": [],
   "source": [
    "profitable=data[data['profit']>0]"
   ]
  },
  {
   "cell_type": "code",
   "execution_count": 873,
   "metadata": {
    "colab": {},
    "colab_type": "code",
    "id": "Tmt8MaK1Vp_R"
   },
   "outputs": [
    {
     "name": "stdout",
     "output_type": "stream",
     "text": [
      "Action\n"
     ]
    }
   ],
   "source": [
    "genres_names1=profitable['genres'].unique()\n",
    "list_of_genres1=[]\n",
    "#print(len(genres_names1))\n",
    "for name in genres_names1:\n",
    "    name_list1=str(name).split('|')\n",
    "    for uniq in name_list1:\n",
    "        list_of_genres1.append(uniq)\n",
    "\n",
    "unique_genres1=np.unique(list_of_genres1)\n",
    "\n",
    "d_genres1=dict(Counter(list_of_genres1))\n",
    "\n",
    "df_genres1=pd.DataFrame.from_dict(d_genres1, columns=['Count'],orient='index').reset_index()\n",
    "df_genres1.columns=['Genre','Count']\n",
    "\n",
    "sorted_genres1=df_genres1.sort_values(by='Count', ascending=False)\n",
    "#display(sorted_genres1)\n",
    "ans12=sorted_genres1.iloc[0]['Genre']\n",
    "print(ans12)\n",
    "answers1.update({12:ans12})"
   ]
  },
  {
   "cell_type": "markdown",
   "metadata": {
    "colab_type": "text",
    "id": "0F23bgsDVp_U"
   },
   "source": [
    "# 13. У какого режиссера самые большие суммарные кассовые сборы?"
   ]
  },
  {
   "cell_type": "code",
   "execution_count": 874,
   "metadata": {},
   "outputs": [
    {
     "data": {
      "text/html": [
       "<div>\n",
       "<style scoped>\n",
       "    .dataframe tbody tr th:only-of-type {\n",
       "        vertical-align: middle;\n",
       "    }\n",
       "\n",
       "    .dataframe tbody tr th {\n",
       "        vertical-align: top;\n",
       "    }\n",
       "\n",
       "    .dataframe thead th {\n",
       "        text-align: right;\n",
       "    }\n",
       "</style>\n",
       "<table border=\"1\" class=\"dataframe\">\n",
       "  <thead>\n",
       "    <tr style=\"text-align: right;\">\n",
       "      <th></th>\n",
       "      <th>imdb_id</th>\n",
       "      <th>budget</th>\n",
       "      <th>revenue</th>\n",
       "      <th>original_title</th>\n",
       "      <th>cast</th>\n",
       "      <th>director</th>\n",
       "      <th>tagline</th>\n",
       "      <th>overview</th>\n",
       "      <th>runtime</th>\n",
       "      <th>genres</th>\n",
       "      <th>production_companies</th>\n",
       "      <th>release_date</th>\n",
       "      <th>vote_average</th>\n",
       "      <th>release_year</th>\n",
       "      <th>new_cast</th>\n",
       "      <th>profit</th>\n",
       "    </tr>\n",
       "  </thead>\n",
       "  <tbody>\n",
       "    <tr>\n",
       "      <th>0</th>\n",
       "      <td>tt0369610</td>\n",
       "      <td>150000000</td>\n",
       "      <td>1513528810</td>\n",
       "      <td>Jurassic World</td>\n",
       "      <td>Chris Pratt|Bryce Dallas Howard|Irrfan Khan|Vi...</td>\n",
       "      <td>Colin Trevorrow</td>\n",
       "      <td>The park is open.</td>\n",
       "      <td>Twenty-two years after the events of Jurassic ...</td>\n",
       "      <td>124.0</td>\n",
       "      <td>Action|Adventure|Science Fiction|Thriller</td>\n",
       "      <td>Universal Studios|Amblin Entertainment|Legenda...</td>\n",
       "      <td>06/09/2015</td>\n",
       "      <td>6.5</td>\n",
       "      <td>2015.0</td>\n",
       "      <td>5|463|1323|3304|2468</td>\n",
       "      <td>1363528810</td>\n",
       "    </tr>\n",
       "  </tbody>\n",
       "</table>\n",
       "</div>"
      ],
      "text/plain": [
       "     imdb_id     budget     revenue  original_title  \\\n",
       "0  tt0369610  150000000  1513528810  Jurassic World   \n",
       "\n",
       "                                                cast         director  \\\n",
       "0  Chris Pratt|Bryce Dallas Howard|Irrfan Khan|Vi...  Colin Trevorrow   \n",
       "\n",
       "             tagline                                           overview  \\\n",
       "0  The park is open.  Twenty-two years after the events of Jurassic ...   \n",
       "\n",
       "   runtime                                     genres  \\\n",
       "0    124.0  Action|Adventure|Science Fiction|Thriller   \n",
       "\n",
       "                                production_companies release_date  \\\n",
       "0  Universal Studios|Amblin Entertainment|Legenda...   06/09/2015   \n",
       "\n",
       "   vote_average  release_year              new_cast      profit  \n",
       "0           6.5        2015.0  5|463|1323|3304|2468  1363528810  "
      ]
     },
     "execution_count": 874,
     "metadata": {},
     "output_type": "execute_result"
    }
   ],
   "source": [
    "data.head(1)"
   ]
  },
  {
   "cell_type": "code",
   "execution_count": 875,
   "metadata": {
    "colab": {},
    "colab_type": "code",
    "id": "K6Z3J8ygVp_X",
    "scrolled": false
   },
   "outputs": [
    {
     "data": {
      "text/html": [
       "<div>\n",
       "<style scoped>\n",
       "    .dataframe tbody tr th:only-of-type {\n",
       "        vertical-align: middle;\n",
       "    }\n",
       "\n",
       "    .dataframe tbody tr th {\n",
       "        vertical-align: top;\n",
       "    }\n",
       "\n",
       "    .dataframe thead th {\n",
       "        text-align: right;\n",
       "    }\n",
       "</style>\n",
       "<table border=\"1\" class=\"dataframe\">\n",
       "  <thead>\n",
       "    <tr style=\"text-align: right;\">\n",
       "      <th></th>\n",
       "      <th>revenue</th>\n",
       "    </tr>\n",
       "    <tr>\n",
       "      <th>director</th>\n",
       "      <th></th>\n",
       "    </tr>\n",
       "  </thead>\n",
       "  <tbody>\n",
       "    <tr>\n",
       "      <th>Peter Jackson</th>\n",
       "      <td>6490593685</td>\n",
       "    </tr>\n",
       "    <tr>\n",
       "      <th>Christopher Nolan</th>\n",
       "      <td>4167548502</td>\n",
       "    </tr>\n",
       "    <tr>\n",
       "      <th>David Yates</th>\n",
       "      <td>4154295625</td>\n",
       "    </tr>\n",
       "  </tbody>\n",
       "</table>\n",
       "</div>"
      ],
      "text/plain": [
       "                      revenue\n",
       "director                     \n",
       "Peter Jackson      6490593685\n",
       "Christopher Nolan  4167548502\n",
       "David Yates        4154295625"
      ]
     },
     "metadata": {},
     "output_type": "display_data"
    }
   ],
   "source": [
    "director=data.groupby(['director'])[['director','revenue']].sum().sort_values(['revenue'],ascending=False)\n",
    "display(director.head(3))"
   ]
  },
  {
   "cell_type": "code",
   "execution_count": 876,
   "metadata": {},
   "outputs": [
    {
     "data": {
      "text/html": [
       "<div>\n",
       "<style scoped>\n",
       "    .dataframe tbody tr th:only-of-type {\n",
       "        vertical-align: middle;\n",
       "    }\n",
       "\n",
       "    .dataframe tbody tr th {\n",
       "        vertical-align: top;\n",
       "    }\n",
       "\n",
       "    .dataframe thead th {\n",
       "        text-align: right;\n",
       "    }\n",
       "</style>\n",
       "<table border=\"1\" class=\"dataframe\">\n",
       "  <thead>\n",
       "    <tr style=\"text-align: right;\">\n",
       "      <th></th>\n",
       "      <th>director</th>\n",
       "      <th>revenue</th>\n",
       "    </tr>\n",
       "  </thead>\n",
       "  <tbody>\n",
       "    <tr>\n",
       "      <th>0</th>\n",
       "      <td>Peter Jackson</td>\n",
       "      <td>6490593685</td>\n",
       "    </tr>\n",
       "    <tr>\n",
       "      <th>1</th>\n",
       "      <td>Christopher Nolan</td>\n",
       "      <td>4167548502</td>\n",
       "    </tr>\n",
       "    <tr>\n",
       "      <th>2</th>\n",
       "      <td>David Yates</td>\n",
       "      <td>4154295625</td>\n",
       "    </tr>\n",
       "  </tbody>\n",
       "</table>\n",
       "</div>"
      ],
      "text/plain": [
       "            director     revenue\n",
       "0      Peter Jackson  6490593685\n",
       "1  Christopher Nolan  4167548502\n",
       "2        David Yates  4154295625"
      ]
     },
     "metadata": {},
     "output_type": "display_data"
    },
    {
     "data": {
      "text/plain": [
       "'Peter Jackson'"
      ]
     },
     "metadata": {},
     "output_type": "display_data"
    }
   ],
   "source": [
    "director1=director.reset_index()\n",
    "display(director1.head(3))\n",
    "ans13=director1.iloc[0][0]\n",
    "display(ans13)\n",
    "answers1.update({13:ans13})"
   ]
  },
  {
   "cell_type": "markdown",
   "metadata": {
    "colab_type": "text",
    "id": "PsYC9FgRVp_a"
   },
   "source": [
    "# 14. Какой режисер снял больше всего фильмов в стиле Action?"
   ]
  },
  {
   "cell_type": "code",
   "execution_count": 879,
   "metadata": {
    "colab": {},
    "colab_type": "code",
    "id": "wd2M-wHeVp_b",
    "scrolled": true
   },
   "outputs": [],
   "source": [
    "action=data[data.genres.str.contains('Action',na=False)] # Все фильмы, относящиеся к Экшн\n",
    "\n",
    "#Группируем по директорам:\n",
    "director_action=action.groupby(['director'])[['genres','original_title','production_companies']].count().sort_values(['original_title'],ascending=False)\n"
   ]
  },
  {
   "cell_type": "code",
   "execution_count": 880,
   "metadata": {
    "scrolled": true
   },
   "outputs": [
    {
     "data": {
      "text/html": [
       "<div>\n",
       "<style scoped>\n",
       "    .dataframe tbody tr th:only-of-type {\n",
       "        vertical-align: middle;\n",
       "    }\n",
       "\n",
       "    .dataframe tbody tr th {\n",
       "        vertical-align: top;\n",
       "    }\n",
       "\n",
       "    .dataframe thead th {\n",
       "        text-align: right;\n",
       "    }\n",
       "</style>\n",
       "<table border=\"1\" class=\"dataframe\">\n",
       "  <thead>\n",
       "    <tr style=\"text-align: right;\">\n",
       "      <th></th>\n",
       "      <th>director</th>\n",
       "      <th>genres</th>\n",
       "      <th>original_title</th>\n",
       "      <th>production_companies</th>\n",
       "    </tr>\n",
       "  </thead>\n",
       "  <tbody>\n",
       "    <tr>\n",
       "      <th>0</th>\n",
       "      <td>Paul W.S. Anderson</td>\n",
       "      <td>7</td>\n",
       "      <td>7</td>\n",
       "      <td>7</td>\n",
       "    </tr>\n",
       "    <tr>\n",
       "      <th>1</th>\n",
       "      <td>Michael Bay</td>\n",
       "      <td>7</td>\n",
       "      <td>7</td>\n",
       "      <td>7</td>\n",
       "    </tr>\n",
       "    <tr>\n",
       "      <th>2</th>\n",
       "      <td>Ridley Scott</td>\n",
       "      <td>6</td>\n",
       "      <td>6</td>\n",
       "      <td>6</td>\n",
       "    </tr>\n",
       "  </tbody>\n",
       "</table>\n",
       "</div>"
      ],
      "text/plain": [
       "             director  genres  original_title  production_companies\n",
       "0  Paul W.S. Anderson       7               7                     7\n",
       "1         Michael Bay       7               7                     7\n",
       "2        Ridley Scott       6               6                     6"
      ]
     },
     "metadata": {},
     "output_type": "display_data"
    },
    {
     "data": {
      "text/plain": [
       "'Paul W.S. Anderson'"
      ]
     },
     "metadata": {},
     "output_type": "display_data"
    }
   ],
   "source": [
    "direct_act=director_action.reset_index()\n",
    "display(direct_act.head(3))\n",
    "\n",
    "ans14=direct_act.iloc[0][0]\n",
    "display(ans14)\n",
    "answers1.update({14:ans14})"
   ]
  },
  {
   "cell_type": "code",
   "execution_count": 881,
   "metadata": {
    "scrolled": false
   },
   "outputs": [
    {
     "data": {
      "text/html": [
       "<div>\n",
       "<style scoped>\n",
       "    .dataframe tbody tr th:only-of-type {\n",
       "        vertical-align: middle;\n",
       "    }\n",
       "\n",
       "    .dataframe tbody tr th {\n",
       "        vertical-align: top;\n",
       "    }\n",
       "\n",
       "    .dataframe thead th {\n",
       "        text-align: right;\n",
       "    }\n",
       "</style>\n",
       "<table border=\"1\" class=\"dataframe\">\n",
       "  <thead>\n",
       "    <tr style=\"text-align: right;\">\n",
       "      <th></th>\n",
       "      <th>director</th>\n",
       "      <th>genres</th>\n",
       "      <th>original_title</th>\n",
       "      <th>production_companies</th>\n",
       "    </tr>\n",
       "  </thead>\n",
       "  <tbody>\n",
       "    <tr>\n",
       "      <th>0</th>\n",
       "      <td>Paul W.S. Anderson</td>\n",
       "      <td>7</td>\n",
       "      <td>7</td>\n",
       "      <td>7</td>\n",
       "    </tr>\n",
       "    <tr>\n",
       "      <th>1</th>\n",
       "      <td>Michael Bay</td>\n",
       "      <td>7</td>\n",
       "      <td>7</td>\n",
       "      <td>7</td>\n",
       "    </tr>\n",
       "  </tbody>\n",
       "</table>\n",
       "</div>"
      ],
      "text/plain": [
       "             director  genres  original_title  production_companies\n",
       "0  Paul W.S. Anderson       7               7                     7\n",
       "1         Michael Bay       7               7                     7"
      ]
     },
     "metadata": {},
     "output_type": "display_data"
    }
   ],
   "source": [
    "ans_14=direct_act[direct_act['original_title']==direct_act['original_title'].max()]\n",
    "display(ans_14)\n",
    "answers1.update({14:ans_14})"
   ]
  },
  {
   "cell_type": "markdown",
   "metadata": {},
   "source": [
    "# Перепроверка\n",
    "# В ответах викторины нет нужных имён!"
   ]
  },
  {
   "cell_type": "code",
   "execution_count": 486,
   "metadata": {},
   "outputs": [
    {
     "data": {
      "text/plain": [
       "7"
      ]
     },
     "metadata": {},
     "output_type": "display_data"
    }
   ],
   "source": [
    "#Андерсон\n",
    "\n",
    "anderson=data[(data['director']=='Paul W.S. Anderson') & (data.genres.str.contains('Action',na=False))]\n",
    "display(anderson['imdb_id'].count())"
   ]
  },
  {
   "cell_type": "code",
   "execution_count": 488,
   "metadata": {},
   "outputs": [
    {
     "data": {
      "text/plain": [
       "4"
      ]
     },
     "metadata": {},
     "output_type": "display_data"
    }
   ],
   "source": [
    "#Guy Ritchie\n",
    "Guy_Ritchie=data[(data['director']=='Guy Ritchie') & (data.genres.str.contains('Action',na=False))]\n",
    "display(Guy_Ritchie['imdb_id'].count())"
   ]
  },
  {
   "cell_type": "code",
   "execution_count": 489,
   "metadata": {
    "scrolled": true
   },
   "outputs": [
    {
     "data": {
      "text/plain": [
       "6"
      ]
     },
     "metadata": {},
     "output_type": "display_data"
    }
   ],
   "source": [
    "#Robert Rodriguez\n",
    "Robert_Rodriguez=data[(data['director']=='Robert Rodriguez') & (data.genres.str.contains('Action',na=False))]\n",
    "display(Robert_Rodriguez['imdb_id'].count())"
   ]
  },
  {
   "cell_type": "code",
   "execution_count": 490,
   "metadata": {},
   "outputs": [
    {
     "data": {
      "text/plain": [
       "6"
      ]
     },
     "metadata": {},
     "output_type": "display_data"
    }
   ],
   "source": [
    "#Ridley Scott\n",
    "Ridley_Scott=data[(data['director']=='Ridley Scott') & (data.genres.str.contains('Action',na=False))]\n",
    "display(Ridley_Scott['imdb_id'].count())"
   ]
  },
  {
   "cell_type": "code",
   "execution_count": 491,
   "metadata": {},
   "outputs": [
    {
     "data": {
      "text/plain": [
       "3"
      ]
     },
     "metadata": {},
     "output_type": "display_data"
    }
   ],
   "source": [
    "#Quentin Tarantino\n",
    "Quentin_Tarantino=data[(data['director']=='Quentin Tarantino') & (data.genres.str.contains('Action',na=False))]\n",
    "display(Quentin_Tarantino['imdb_id'].count())"
   ]
  },
  {
   "cell_type": "code",
   "execution_count": 492,
   "metadata": {},
   "outputs": [
    {
     "data": {
      "text/plain": [
       "5"
      ]
     },
     "metadata": {},
     "output_type": "display_data"
    }
   ],
   "source": [
    "#Tony Scott\n",
    "\n",
    "Tony_Scott=data[(data['director']=='Tony Scott') & (data.genres.str.contains('Action',na=False))]\n",
    "display(Tony_Scott['imdb_id'].count())"
   ]
  },
  {
   "cell_type": "code",
   "execution_count": null,
   "metadata": {},
   "outputs": [],
   "source": [
    "#Ну и как мне отвечать?\n",
    "\n",
    "#А я пересчитала в Экселе, не поленилась! И у меня сошлось!"
   ]
  },
  {
   "cell_type": "markdown",
   "metadata": {
    "colab_type": "text",
    "id": "PQ0KciD7Vp_f"
   },
   "source": [
    "# 15. Фильмы с каким актером принесли самые высокие кассовые сборы в 2012 году? "
   ]
  },
  {
   "cell_type": "code",
   "execution_count": 882,
   "metadata": {
    "colab": {},
    "colab_type": "code",
    "id": "aga62oeKVp_g"
   },
   "outputs": [
    {
     "data": {
      "text/html": [
       "<div>\n",
       "<style scoped>\n",
       "    .dataframe tbody tr th:only-of-type {\n",
       "        vertical-align: middle;\n",
       "    }\n",
       "\n",
       "    .dataframe tbody tr th {\n",
       "        vertical-align: top;\n",
       "    }\n",
       "\n",
       "    .dataframe thead th {\n",
       "        text-align: right;\n",
       "    }\n",
       "</style>\n",
       "<table border=\"1\" class=\"dataframe\">\n",
       "  <thead>\n",
       "    <tr style=\"text-align: right;\">\n",
       "      <th></th>\n",
       "      <th>cast</th>\n",
       "      <th>revenue</th>\n",
       "    </tr>\n",
       "  </thead>\n",
       "  <tbody>\n",
       "    <tr>\n",
       "      <th>0</th>\n",
       "      <td>Robert Downey Jr.|Chris Evans|Mark Ruffalo|Chr...</td>\n",
       "      <td>1519557910</td>\n",
       "    </tr>\n",
       "    <tr>\n",
       "      <th>1</th>\n",
       "      <td>Daniel Craig|Judi Dench|Javier Bardem|Ralph Fi...</td>\n",
       "      <td>1108561013</td>\n",
       "    </tr>\n",
       "    <tr>\n",
       "      <th>2</th>\n",
       "      <td>Christian Bale|Michael Caine|Gary Oldman|Anne ...</td>\n",
       "      <td>1081041287</td>\n",
       "    </tr>\n",
       "  </tbody>\n",
       "</table>\n",
       "</div>"
      ],
      "text/plain": [
       "                                                cast     revenue\n",
       "0  Robert Downey Jr.|Chris Evans|Mark Ruffalo|Chr...  1519557910\n",
       "1  Daniel Craig|Judi Dench|Javier Bardem|Ralph Fi...  1108561013\n",
       "2  Christian Bale|Michael Caine|Gary Oldman|Anne ...  1081041287"
      ]
     },
     "metadata": {},
     "output_type": "display_data"
    },
    {
     "data": {
      "text/plain": [
       "'Robert Downey Jr.|Chris Evans|Mark Ruffalo|Chris Hemsworth|Scarlett Johansson'"
      ]
     },
     "metadata": {},
     "output_type": "display_data"
    }
   ],
   "source": [
    "def unique_word(list):    # creating a list of unique titles out of combined entries\n",
    "    list_all=[]\n",
    "    for entry in list:\n",
    "        split_entry=str(entry).split('|')\n",
    "        for word in split_entry:\n",
    "            list_all.append(word)\n",
    "    #print('All',len(list_all))      \n",
    "    unique_list=np.unique(list_all)  \n",
    "    #print('Unique',len(unique_list))\n",
    "    return(unique_list)        \n",
    "\n",
    "data_2012=data[data['release_year']==2012]\n",
    "\n",
    "actor_2012=data_2012.groupby(['cast'])[['revenue']].sum().sort_values(['revenue'],ascending=False)\n",
    "actors_2012=actor_2012.reset_index()\n",
    "display(actors_2012.head(3))\n",
    "#actors_2012.info()\n",
    "\n",
    "#listed_actors_2012=actors_2012['cast'].unique()\n",
    "#print(len(listed_actors_2012))\n",
    "\n",
    "ans15=actors_2012.iloc[0][0]\n",
    "display(ans15)\n",
    "answers1.update({15:ans15})\n"
   ]
  },
  {
   "cell_type": "markdown",
   "metadata": {
    "colab_type": "text",
    "id": "mWHyyL7QVp_j"
   },
   "source": [
    "# 16. Какой актер снялся в большем количестве высокобюджетных фильмов?"
   ]
  },
  {
   "cell_type": "code",
   "execution_count": 409,
   "metadata": {
    "colab": {},
    "colab_type": "code",
    "id": "qQtmHKTFVp_k"
   },
   "outputs": [
    {
     "data": {
      "text/html": [
       "<div>\n",
       "<style scoped>\n",
       "    .dataframe tbody tr th:only-of-type {\n",
       "        vertical-align: middle;\n",
       "    }\n",
       "\n",
       "    .dataframe tbody tr th {\n",
       "        vertical-align: top;\n",
       "    }\n",
       "\n",
       "    .dataframe thead th {\n",
       "        text-align: right;\n",
       "    }\n",
       "</style>\n",
       "<table border=\"1\" class=\"dataframe\">\n",
       "  <thead>\n",
       "    <tr style=\"text-align: right;\">\n",
       "      <th></th>\n",
       "      <th>Actor</th>\n",
       "      <th>Total</th>\n",
       "      <th>Count</th>\n",
       "      <th>Average</th>\n",
       "    </tr>\n",
       "  </thead>\n",
       "  <tbody>\n",
       "    <tr>\n",
       "      <th>965</th>\n",
       "      <td>Matt Damon</td>\n",
       "      <td>1441000000</td>\n",
       "      <td>18</td>\n",
       "      <td>8.005556e+07</td>\n",
       "    </tr>\n",
       "    <tr>\n",
       "      <th>13</th>\n",
       "      <td>Adam Sandler</td>\n",
       "      <td>1366500000</td>\n",
       "      <td>17</td>\n",
       "      <td>8.038235e+07</td>\n",
       "    </tr>\n",
       "    <tr>\n",
       "      <th>68</th>\n",
       "      <td>Angelina Jolie</td>\n",
       "      <td>1665000000</td>\n",
       "      <td>16</td>\n",
       "      <td>1.040625e+08</td>\n",
       "    </tr>\n",
       "  </tbody>\n",
       "</table>\n",
       "</div>"
      ],
      "text/plain": [
       "              Actor       Total  Count       Average\n",
       "965      Matt Damon  1441000000     18  8.005556e+07\n",
       "13     Adam Sandler  1366500000     17  8.038235e+07\n",
       "68   Angelina Jolie  1665000000     16  1.040625e+08"
      ]
     },
     "execution_count": 409,
     "metadata": {},
     "output_type": "execute_result"
    }
   ],
   "source": [
    "above_average=data[data['budget']>=data['budget'].mean()] #Моё определение высокобюджетных фильмов\n",
    "listed_actors=above_average['cast'].unique()\n",
    "#print('listed',len(listed_actors))\n",
    "un_act_ab_av=unique_word(listed_actors)  #All the actors listed in above average budget movies \n",
    "#print('unique actors',len(un_act_ab_av))\n",
    "d_actors_budg={}\n",
    "for actor in un_act_ab_av:\n",
    "    summ=above_average[above_average.cast.str.contains(actor,na=False)]['budget'].sum()\n",
    "    count=above_average[above_average.cast.str.contains(actor,na=False)]['budget'].count()\n",
    "    aver_budget=summ/count\n",
    "    d_actors_budg[actor]=[summ,count,aver_budget]\n",
    "#print(d_actors_budg)\n",
    "df_actors=pd.DataFrame.from_dict(d_actors_budg, columns=['Total','Count','Average'],orient='index').reset_index()\n",
    "df_actors.columns=['Actor','Total','Count','Average']\n",
    "df_actors.sort_values(['Count'],ascending=False).head(3)\n"
   ]
  },
  {
   "cell_type": "code",
   "execution_count": 410,
   "metadata": {},
   "outputs": [
    {
     "data": {
      "text/html": [
       "<div>\n",
       "<style scoped>\n",
       "    .dataframe tbody tr th:only-of-type {\n",
       "        vertical-align: middle;\n",
       "    }\n",
       "\n",
       "    .dataframe tbody tr th {\n",
       "        vertical-align: top;\n",
       "    }\n",
       "\n",
       "    .dataframe thead th {\n",
       "        text-align: right;\n",
       "    }\n",
       "</style>\n",
       "<table border=\"1\" class=\"dataframe\">\n",
       "  <thead>\n",
       "    <tr style=\"text-align: right;\">\n",
       "      <th></th>\n",
       "      <th>Actor</th>\n",
       "      <th>Total</th>\n",
       "      <th>Count</th>\n",
       "      <th>Average</th>\n",
       "    </tr>\n",
       "  </thead>\n",
       "  <tbody>\n",
       "    <tr>\n",
       "      <th>726</th>\n",
       "      <td>Johnny Depp</td>\n",
       "      <td>2250000000</td>\n",
       "      <td>13</td>\n",
       "      <td>1.730769e+08</td>\n",
       "    </tr>\n",
       "    <tr>\n",
       "      <th>542</th>\n",
       "      <td>Ian McKellen</td>\n",
       "      <td>1935000000</td>\n",
       "      <td>12</td>\n",
       "      <td>1.612500e+08</td>\n",
       "    </tr>\n",
       "    <tr>\n",
       "      <th>535</th>\n",
       "      <td>Hugh Jackman</td>\n",
       "      <td>1922000000</td>\n",
       "      <td>14</td>\n",
       "      <td>1.372857e+08</td>\n",
       "    </tr>\n",
       "  </tbody>\n",
       "</table>\n",
       "</div>"
      ],
      "text/plain": [
       "            Actor       Total  Count       Average\n",
       "726   Johnny Depp  2250000000     13  1.730769e+08\n",
       "542  Ian McKellen  1935000000     12  1.612500e+08\n",
       "535  Hugh Jackman  1922000000     14  1.372857e+08"
      ]
     },
     "execution_count": 410,
     "metadata": {},
     "output_type": "execute_result"
    }
   ],
   "source": [
    "df_actors.sort_values(['Total'],ascending=False).head(3)\n"
   ]
  },
  {
   "cell_type": "code",
   "execution_count": 883,
   "metadata": {},
   "outputs": [
    {
     "name": "stdout",
     "output_type": "stream",
     "text": [
      "965    Matt Damon\n",
      "Name: Actor, dtype: object\n"
     ]
    }
   ],
   "source": [
    "ans16=df_actors[df_actors['Count']==df_actors['Count'].max()]['Actor']\n",
    "print(ans16)\n",
    "answers1.update({16:ans16})"
   ]
  },
  {
   "cell_type": "markdown",
   "metadata": {
    "colab_type": "text",
    "id": "NIh6AaW5Vp_n"
   },
   "source": [
    "# 17. В фильмах какого жанра больше всего снимался Nicolas Cage? "
   ]
  },
  {
   "cell_type": "code",
   "execution_count": 454,
   "metadata": {
    "colab": {},
    "colab_type": "code",
    "id": "H74SJDIBVp_n",
    "scrolled": true
   },
   "outputs": [
    {
     "data": {
      "text/html": [
       "<div>\n",
       "<style scoped>\n",
       "    .dataframe tbody tr th:only-of-type {\n",
       "        vertical-align: middle;\n",
       "    }\n",
       "\n",
       "    .dataframe tbody tr th {\n",
       "        vertical-align: top;\n",
       "    }\n",
       "\n",
       "    .dataframe thead th {\n",
       "        text-align: right;\n",
       "    }\n",
       "</style>\n",
       "<table border=\"1\" class=\"dataframe\">\n",
       "  <thead>\n",
       "    <tr style=\"text-align: right;\">\n",
       "      <th></th>\n",
       "      <th>Genre</th>\n",
       "      <th>Count</th>\n",
       "    </tr>\n",
       "  </thead>\n",
       "  <tbody>\n",
       "    <tr>\n",
       "      <th>0</th>\n",
       "      <td>Action</td>\n",
       "      <td>17</td>\n",
       "    </tr>\n",
       "    <tr>\n",
       "      <th>13</th>\n",
       "      <td>Thriller</td>\n",
       "      <td>15</td>\n",
       "    </tr>\n",
       "    <tr>\n",
       "      <th>5</th>\n",
       "      <td>Drama</td>\n",
       "      <td>12</td>\n",
       "    </tr>\n",
       "  </tbody>\n",
       "</table>\n",
       "</div>"
      ],
      "text/plain": [
       "       Genre  Count\n",
       "0     Action     17\n",
       "13  Thriller     15\n",
       "5      Drama     12"
      ]
     },
     "execution_count": 454,
     "metadata": {},
     "output_type": "execute_result"
    }
   ],
   "source": [
    "# All listed movie genres featuring N Cage\n",
    "NC_genres=data[data.cast.str.contains('Nicolas Cage',na=False)]['genres']\n",
    "#display(NC_genres.head(5))\n",
    "\n",
    "#Unique movie genres featuring N Cage\n",
    "NC_genres_unique=unique_word(NC_genres)\n",
    "#print(NC_genres_unique)\n",
    "\n",
    "NC_movies=data[data.cast.str.contains('Nicolas Cage',na=False)]\n",
    "#display(NC_movies.head(3))\n",
    "\n",
    "dict_NC_g={}\n",
    "\n",
    "for gen in NC_genres_unique:\n",
    "    #print(gen)\n",
    "    count_gen=NC_movies[NC_movies.genres.str.contains(gen,na=False)]['original_title'].count()\n",
    "    dict_NC_g[gen]=count_gen\n",
    "#print(dict_NC_g)\n",
    "\n",
    "df_NC_gen=pd.DataFrame.from_dict(dict_NC_g, columns=['Count'],orient='index').reset_index()\n",
    "df_NC_gen.columns=['Genre','Count']\n",
    "df_NC_gen.sort_values(['Count'],ascending=False).head(3)"
   ]
  },
  {
   "cell_type": "code",
   "execution_count": 884,
   "metadata": {},
   "outputs": [
    {
     "name": "stdout",
     "output_type": "stream",
     "text": [
      "0    Action\n",
      "Name: Genre, dtype: object\n"
     ]
    }
   ],
   "source": [
    "ans17=df_NC_gen[df_NC_gen['Count']==df_NC_gen['Count'].max()]['Genre']\n",
    "print(ans17)\n",
    "answers1.update({17:ans17})"
   ]
  },
  {
   "cell_type": "markdown",
   "metadata": {
    "colab_type": "text",
    "id": "RqOmPRfWVp_q"
   },
   "source": [
    "# 18. Самый убыточный фильм от Paramount Pictures"
   ]
  },
  {
   "cell_type": "code",
   "execution_count": 511,
   "metadata": {
    "colab": {},
    "colab_type": "code",
    "id": "9E_B0Y96Vp_r",
    "scrolled": false
   },
   "outputs": [
    {
     "data": {
      "text/html": [
       "<div>\n",
       "<style scoped>\n",
       "    .dataframe tbody tr th:only-of-type {\n",
       "        vertical-align: middle;\n",
       "    }\n",
       "\n",
       "    .dataframe tbody tr th {\n",
       "        vertical-align: top;\n",
       "    }\n",
       "\n",
       "    .dataframe thead th {\n",
       "        text-align: right;\n",
       "    }\n",
       "</style>\n",
       "<table border=\"1\" class=\"dataframe\">\n",
       "  <thead>\n",
       "    <tr style=\"text-align: right;\">\n",
       "      <th></th>\n",
       "      <th>budget</th>\n",
       "      <th>revenue</th>\n",
       "      <th>runtime</th>\n",
       "      <th>vote_average</th>\n",
       "      <th>release_year</th>\n",
       "      <th>profit</th>\n",
       "    </tr>\n",
       "  </thead>\n",
       "  <tbody>\n",
       "    <tr>\n",
       "      <th>count</th>\n",
       "      <td>1.220000e+02</td>\n",
       "      <td>1.220000e+02</td>\n",
       "      <td>122.000000</td>\n",
       "      <td>122.000000</td>\n",
       "      <td>122.000000</td>\n",
       "      <td>1.220000e+02</td>\n",
       "    </tr>\n",
       "    <tr>\n",
       "      <th>mean</th>\n",
       "      <td>7.130328e+07</td>\n",
       "      <td>1.885483e+08</td>\n",
       "      <td>113.516393</td>\n",
       "      <td>6.090164</td>\n",
       "      <td>2007.155738</td>\n",
       "      <td>1.172451e+08</td>\n",
       "    </tr>\n",
       "    <tr>\n",
       "      <th>std</th>\n",
       "      <td>5.029350e+07</td>\n",
       "      <td>1.969863e+08</td>\n",
       "      <td>20.377931</td>\n",
       "      <td>0.691914</td>\n",
       "      <td>4.541854</td>\n",
       "      <td>1.628895e+08</td>\n",
       "    </tr>\n",
       "    <tr>\n",
       "      <th>min</th>\n",
       "      <td>5.000000e+06</td>\n",
       "      <td>9.190869e+06</td>\n",
       "      <td>83.000000</td>\n",
       "      <td>4.500000</td>\n",
       "      <td>2000.000000</td>\n",
       "      <td>-6.483103e+07</td>\n",
       "    </tr>\n",
       "    <tr>\n",
       "      <th>25%</th>\n",
       "      <td>3.050000e+07</td>\n",
       "      <td>6.087099e+07</td>\n",
       "      <td>97.000000</td>\n",
       "      <td>5.600000</td>\n",
       "      <td>2003.250000</td>\n",
       "      <td>1.418041e+07</td>\n",
       "    </tr>\n",
       "    <tr>\n",
       "      <th>50%</th>\n",
       "      <td>6.000000e+07</td>\n",
       "      <td>1.185148e+08</td>\n",
       "      <td>111.500000</td>\n",
       "      <td>6.000000</td>\n",
       "      <td>2006.000000</td>\n",
       "      <td>6.135094e+07</td>\n",
       "    </tr>\n",
       "    <tr>\n",
       "      <th>75%</th>\n",
       "      <td>9.875000e+07</td>\n",
       "      <td>2.426401e+08</td>\n",
       "      <td>127.000000</td>\n",
       "      <td>6.600000</td>\n",
       "      <td>2011.000000</td>\n",
       "      <td>1.569465e+08</td>\n",
       "    </tr>\n",
       "    <tr>\n",
       "      <th>max</th>\n",
       "      <td>2.100000e+08</td>\n",
       "      <td>1.123747e+09</td>\n",
       "      <td>180.000000</td>\n",
       "      <td>8.000000</td>\n",
       "      <td>2015.000000</td>\n",
       "      <td>9.287470e+08</td>\n",
       "    </tr>\n",
       "  </tbody>\n",
       "</table>\n",
       "</div>"
      ],
      "text/plain": [
       "             budget       revenue     runtime  vote_average  release_year  \\\n",
       "count  1.220000e+02  1.220000e+02  122.000000    122.000000    122.000000   \n",
       "mean   7.130328e+07  1.885483e+08  113.516393      6.090164   2007.155738   \n",
       "std    5.029350e+07  1.969863e+08   20.377931      0.691914      4.541854   \n",
       "min    5.000000e+06  9.190869e+06   83.000000      4.500000   2000.000000   \n",
       "25%    3.050000e+07  6.087099e+07   97.000000      5.600000   2003.250000   \n",
       "50%    6.000000e+07  1.185148e+08  111.500000      6.000000   2006.000000   \n",
       "75%    9.875000e+07  2.426401e+08  127.000000      6.600000   2011.000000   \n",
       "max    2.100000e+08  1.123747e+09  180.000000      8.000000   2015.000000   \n",
       "\n",
       "             profit  \n",
       "count  1.220000e+02  \n",
       "mean   1.172451e+08  \n",
       "std    1.628895e+08  \n",
       "min   -6.483103e+07  \n",
       "25%    1.418041e+07  \n",
       "50%    6.135094e+07  \n",
       "75%    1.569465e+08  \n",
       "max    9.287470e+08  "
      ]
     },
     "metadata": {},
     "output_type": "display_data"
    }
   ],
   "source": [
    "#Joint Production\n",
    "PP_movies=data[data['production_companies'].str.contains('Paramount Pictures',na=False)].sort_values(['budget'], ascending=True)\n",
    "display(PP_movies.describe())"
   ]
  },
  {
   "cell_type": "code",
   "execution_count": 510,
   "metadata": {},
   "outputs": [
    {
     "data": {
      "text/html": [
       "<div>\n",
       "<style scoped>\n",
       "    .dataframe tbody tr th:only-of-type {\n",
       "        vertical-align: middle;\n",
       "    }\n",
       "\n",
       "    .dataframe tbody tr th {\n",
       "        vertical-align: top;\n",
       "    }\n",
       "\n",
       "    .dataframe thead th {\n",
       "        text-align: right;\n",
       "    }\n",
       "</style>\n",
       "<table border=\"1\" class=\"dataframe\">\n",
       "  <thead>\n",
       "    <tr style=\"text-align: right;\">\n",
       "      <th></th>\n",
       "      <th>imdb_id</th>\n",
       "      <th>budget</th>\n",
       "      <th>revenue</th>\n",
       "      <th>original_title</th>\n",
       "      <th>cast</th>\n",
       "      <th>director</th>\n",
       "      <th>tagline</th>\n",
       "      <th>overview</th>\n",
       "      <th>runtime</th>\n",
       "      <th>genres</th>\n",
       "      <th>production_companies</th>\n",
       "      <th>release_date</th>\n",
       "      <th>vote_average</th>\n",
       "      <th>release_year</th>\n",
       "      <th>profit</th>\n",
       "    </tr>\n",
       "  </thead>\n",
       "  <tbody>\n",
       "    <tr>\n",
       "      <th>912</th>\n",
       "      <td>tt0322802</td>\n",
       "      <td>5000000</td>\n",
       "      <td>64282312</td>\n",
       "      <td>Jackass: The Movie</td>\n",
       "      <td>Johnny Knoxville|Bam Margera|Steve-O|Chris Pon...</td>\n",
       "      <td>Jeff Tremaine</td>\n",
       "      <td>Do not attempt this at home.</td>\n",
       "      <td>Johnny Knoxville and his crazy friends appear ...</td>\n",
       "      <td>87.0</td>\n",
       "      <td>Comedy</td>\n",
       "      <td>Paramount Pictures</td>\n",
       "      <td>10/21/2002</td>\n",
       "      <td>6.2</td>\n",
       "      <td>2002.0</td>\n",
       "      <td>59282312</td>\n",
       "    </tr>\n",
       "    <tr>\n",
       "      <th>1072</th>\n",
       "      <td>tt2109184</td>\n",
       "      <td>5000000</td>\n",
       "      <td>142817992</td>\n",
       "      <td>Paranormal Activity 4</td>\n",
       "      <td>Katie Featherston|Kathryn Newton|Matt Shively|...</td>\n",
       "      <td>Henry Joost|Ariel Schulman</td>\n",
       "      <td>It's closer than you think</td>\n",
       "      <td>It has been five years since the disappearance...</td>\n",
       "      <td>95.0</td>\n",
       "      <td>Horror</td>\n",
       "      <td>Paramount Pictures|Blumhouse Productions|Room ...</td>\n",
       "      <td>10/17/2012</td>\n",
       "      <td>5.3</td>\n",
       "      <td>2012.0</td>\n",
       "      <td>137817992</td>\n",
       "    </tr>\n",
       "  </tbody>\n",
       "</table>\n",
       "</div>"
      ],
      "text/plain": [
       "        imdb_id   budget    revenue         original_title  \\\n",
       "912   tt0322802  5000000   64282312     Jackass: The Movie   \n",
       "1072  tt2109184  5000000  142817992  Paranormal Activity 4   \n",
       "\n",
       "                                                   cast  \\\n",
       "912   Johnny Knoxville|Bam Margera|Steve-O|Chris Pon...   \n",
       "1072  Katie Featherston|Kathryn Newton|Matt Shively|...   \n",
       "\n",
       "                        director                       tagline  \\\n",
       "912                Jeff Tremaine  Do not attempt this at home.   \n",
       "1072  Henry Joost|Ariel Schulman    It's closer than you think   \n",
       "\n",
       "                                               overview  runtime  genres  \\\n",
       "912   Johnny Knoxville and his crazy friends appear ...     87.0  Comedy   \n",
       "1072  It has been five years since the disappearance...     95.0  Horror   \n",
       "\n",
       "                                   production_companies release_date  \\\n",
       "912                                  Paramount Pictures   10/21/2002   \n",
       "1072  Paramount Pictures|Blumhouse Productions|Room ...   10/17/2012   \n",
       "\n",
       "      vote_average  release_year     profit  \n",
       "912            6.2        2002.0   59282312  \n",
       "1072           5.3        2012.0  137817992  "
      ]
     },
     "execution_count": 510,
     "metadata": {},
     "output_type": "execute_result"
    }
   ],
   "source": [
    "PP_movies.head(2)"
   ]
  },
  {
   "cell_type": "code",
   "execution_count": 885,
   "metadata": {},
   "outputs": [
    {
     "name": "stdout",
     "output_type": "stream",
     "text": [
      "-64831034\n",
      "926    K-19: The Widowmaker\n",
      "Name: original_title, dtype: object\n"
     ]
    }
   ],
   "source": [
    "min_PP_jp=PP_movies['profit'].min()\n",
    "print(min_PP_jp)\n",
    "ans18=PP_movies[PP_movies['profit']==min_PP_jp]['original_title']\n",
    "print(ans18)\n",
    "answers1.update({18:ans18})"
   ]
  },
  {
   "cell_type": "markdown",
   "metadata": {
    "colab_type": "text",
    "id": "vS8Ur6ddVp_u"
   },
   "source": [
    "# 19. Какой год стал самым успешным по суммарным кассовым сборам?"
   ]
  },
  {
   "cell_type": "code",
   "execution_count": 513,
   "metadata": {
    "colab": {},
    "colab_type": "code",
    "id": "Dnbt4GdIVp_v"
   },
   "outputs": [
    {
     "data": {
      "text/html": [
       "<div>\n",
       "<style scoped>\n",
       "    .dataframe tbody tr th:only-of-type {\n",
       "        vertical-align: middle;\n",
       "    }\n",
       "\n",
       "    .dataframe tbody tr th {\n",
       "        vertical-align: top;\n",
       "    }\n",
       "\n",
       "    .dataframe thead th {\n",
       "        text-align: right;\n",
       "    }\n",
       "</style>\n",
       "<table border=\"1\" class=\"dataframe\">\n",
       "  <thead>\n",
       "    <tr style=\"text-align: right;\">\n",
       "      <th></th>\n",
       "      <th>revenue</th>\n",
       "    </tr>\n",
       "    <tr>\n",
       "      <th>release_year</th>\n",
       "      <th></th>\n",
       "    </tr>\n",
       "  </thead>\n",
       "  <tbody>\n",
       "    <tr>\n",
       "      <th>2015.0</th>\n",
       "      <td>25369402502</td>\n",
       "    </tr>\n",
       "    <tr>\n",
       "      <th>2014.0</th>\n",
       "      <td>23405862953</td>\n",
       "    </tr>\n",
       "    <tr>\n",
       "      <th>2013.0</th>\n",
       "      <td>23213799791</td>\n",
       "    </tr>\n",
       "  </tbody>\n",
       "</table>\n",
       "</div>"
      ],
      "text/plain": [
       "                  revenue\n",
       "release_year             \n",
       "2015.0        25369402502\n",
       "2014.0        23405862953\n",
       "2013.0        23213799791"
      ]
     },
     "metadata": {},
     "output_type": "display_data"
    }
   ],
   "source": [
    "year_T_rev=data.groupby(['release_year'])[['revenue']].sum().sort_values(['revenue'],ascending=False)\n",
    "display(year_T_rev.head(3))"
   ]
  },
  {
   "cell_type": "code",
   "execution_count": 517,
   "metadata": {},
   "outputs": [
    {
     "data": {
      "text/html": [
       "<div>\n",
       "<style scoped>\n",
       "    .dataframe tbody tr th:only-of-type {\n",
       "        vertical-align: middle;\n",
       "    }\n",
       "\n",
       "    .dataframe tbody tr th {\n",
       "        vertical-align: top;\n",
       "    }\n",
       "\n",
       "    .dataframe thead th {\n",
       "        text-align: right;\n",
       "    }\n",
       "</style>\n",
       "<table border=\"1\" class=\"dataframe\">\n",
       "  <thead>\n",
       "    <tr style=\"text-align: right;\">\n",
       "      <th></th>\n",
       "      <th>release_year</th>\n",
       "      <th>revenue</th>\n",
       "    </tr>\n",
       "  </thead>\n",
       "  <tbody>\n",
       "    <tr>\n",
       "      <th>0</th>\n",
       "      <td>2015.0</td>\n",
       "      <td>25369402502</td>\n",
       "    </tr>\n",
       "    <tr>\n",
       "      <th>1</th>\n",
       "      <td>2014.0</td>\n",
       "      <td>23405862953</td>\n",
       "    </tr>\n",
       "    <tr>\n",
       "      <th>2</th>\n",
       "      <td>2013.0</td>\n",
       "      <td>23213799791</td>\n",
       "    </tr>\n",
       "  </tbody>\n",
       "</table>\n",
       "</div>"
      ],
      "text/plain": [
       "   release_year      revenue\n",
       "0        2015.0  25369402502\n",
       "1        2014.0  23405862953\n",
       "2        2013.0  23213799791"
      ]
     },
     "metadata": {},
     "output_type": "display_data"
    }
   ],
   "source": [
    "year_T_revenue=year_T_rev.reset_index()\n",
    "display(year_T_revenue.head(3))"
   ]
  },
  {
   "cell_type": "code",
   "execution_count": 886,
   "metadata": {},
   "outputs": [
    {
     "name": "stdout",
     "output_type": "stream",
     "text": [
      "0    2015.0\n",
      "Name: release_year, dtype: float64\n"
     ]
    }
   ],
   "source": [
    "ans19=year_T_revenue[year_T_revenue['revenue']==year_T_revenue['revenue'].max()]['release_year']\n",
    "print(ans19)\n",
    "answers1.update({19:ans19})"
   ]
  },
  {
   "cell_type": "markdown",
   "metadata": {
    "colab_type": "text",
    "id": "JAzJh4QAVp_z"
   },
   "source": [
    "# 20. Какой самый прибыльный год для студии Warner Bros?"
   ]
  },
  {
   "cell_type": "code",
   "execution_count": 529,
   "metadata": {
    "colab": {},
    "colab_type": "code",
    "id": "wgVu02DEVp_0",
    "scrolled": true
   },
   "outputs": [
    {
     "data": {
      "text/html": [
       "<div>\n",
       "<style scoped>\n",
       "    .dataframe tbody tr th:only-of-type {\n",
       "        vertical-align: middle;\n",
       "    }\n",
       "\n",
       "    .dataframe tbody tr th {\n",
       "        vertical-align: top;\n",
       "    }\n",
       "\n",
       "    .dataframe thead th {\n",
       "        text-align: right;\n",
       "    }\n",
       "</style>\n",
       "<table border=\"1\" class=\"dataframe\">\n",
       "  <thead>\n",
       "    <tr style=\"text-align: right;\">\n",
       "      <th></th>\n",
       "      <th>release_year</th>\n",
       "      <th>profit</th>\n",
       "    </tr>\n",
       "  </thead>\n",
       "  <tbody>\n",
       "    <tr>\n",
       "      <th>0</th>\n",
       "      <td>2014.0</td>\n",
       "      <td>2295464519</td>\n",
       "    </tr>\n",
       "    <tr>\n",
       "      <th>1</th>\n",
       "      <td>2007.0</td>\n",
       "      <td>2208217007</td>\n",
       "    </tr>\n",
       "    <tr>\n",
       "      <th>2</th>\n",
       "      <td>2008.0</td>\n",
       "      <td>2134595031</td>\n",
       "    </tr>\n",
       "  </tbody>\n",
       "</table>\n",
       "</div>"
      ],
      "text/plain": [
       "   release_year      profit\n",
       "0        2014.0  2295464519\n",
       "1        2007.0  2208217007\n",
       "2        2008.0  2134595031"
      ]
     },
     "metadata": {},
     "output_type": "display_data"
    }
   ],
   "source": [
    "#All Warner Bros movies\n",
    "WB_movies=data[data['production_companies'].str.contains('Warner',na=False)].sort_values(['profit'], ascending=True)\n",
    "\n",
    "gouped_by_year=WB_movies.groupby(['release_year'])[['profit']].sum().sort_values(['profit'],ascending=False)\n",
    "\n",
    "gouped_by_years=gouped_by_year.reset_index()\n",
    "display(gouped_by_years.head(3))"
   ]
  },
  {
   "cell_type": "code",
   "execution_count": 887,
   "metadata": {},
   "outputs": [
    {
     "name": "stdout",
     "output_type": "stream",
     "text": [
      "0    2014.0\n",
      "Name: release_year, dtype: float64\n"
     ]
    }
   ],
   "source": [
    "ans20=gouped_by_years[gouped_by_years['profit']==gouped_by_years['profit'].max()]['release_year']\n",
    "print(ans20)\n",
    "answers1.update({20:ans20})"
   ]
  },
  {
   "cell_type": "markdown",
   "metadata": {
    "colab_type": "text",
    "id": "8Im1S2HRVp_4"
   },
   "source": [
    "# 21. В каком месяце за все годы суммарно вышло больше всего фильмов?"
   ]
  },
  {
   "cell_type": "code",
   "execution_count": 888,
   "metadata": {
    "colab": {},
    "colab_type": "code",
    "id": "lev6TH7gVp_4",
    "scrolled": true
   },
   "outputs": [
    {
     "data": {
      "text/html": [
       "<div>\n",
       "<style scoped>\n",
       "    .dataframe tbody tr th:only-of-type {\n",
       "        vertical-align: middle;\n",
       "    }\n",
       "\n",
       "    .dataframe tbody tr th {\n",
       "        vertical-align: top;\n",
       "    }\n",
       "\n",
       "    .dataframe thead th {\n",
       "        text-align: right;\n",
       "    }\n",
       "</style>\n",
       "<table border=\"1\" class=\"dataframe\">\n",
       "  <thead>\n",
       "    <tr style=\"text-align: right;\">\n",
       "      <th></th>\n",
       "      <th>original_title</th>\n",
       "      <th>release_date</th>\n",
       "    </tr>\n",
       "  </thead>\n",
       "  <tbody>\n",
       "    <tr>\n",
       "      <th>0</th>\n",
       "      <td>Jurassic World</td>\n",
       "      <td>06/09/2015</td>\n",
       "    </tr>\n",
       "    <tr>\n",
       "      <th>1</th>\n",
       "      <td>Mad Max: Fury Road</td>\n",
       "      <td>5/13/2015</td>\n",
       "    </tr>\n",
       "    <tr>\n",
       "      <th>2</th>\n",
       "      <td>Insurgent</td>\n",
       "      <td>3/18/2015</td>\n",
       "    </tr>\n",
       "  </tbody>\n",
       "</table>\n",
       "</div>"
      ],
      "text/plain": [
       "       original_title release_date\n",
       "0      Jurassic World   06/09/2015\n",
       "1  Mad Max: Fury Road    5/13/2015\n",
       "2           Insurgent    3/18/2015"
      ]
     },
     "metadata": {},
     "output_type": "display_data"
    }
   ],
   "source": [
    "display(data[['original_title','release_date']].head(3))"
   ]
  },
  {
   "cell_type": "code",
   "execution_count": 889,
   "metadata": {},
   "outputs": [
    {
     "data": {
      "text/html": [
       "<div>\n",
       "<style scoped>\n",
       "    .dataframe tbody tr th:only-of-type {\n",
       "        vertical-align: middle;\n",
       "    }\n",
       "\n",
       "    .dataframe tbody tr th {\n",
       "        vertical-align: top;\n",
       "    }\n",
       "\n",
       "    .dataframe thead th {\n",
       "        text-align: right;\n",
       "    }\n",
       "</style>\n",
       "<table border=\"1\" class=\"dataframe\">\n",
       "  <thead>\n",
       "    <tr style=\"text-align: right;\">\n",
       "      <th></th>\n",
       "      <th>original_title</th>\n",
       "      <th>release_date</th>\n",
       "      <th>director</th>\n",
       "    </tr>\n",
       "  </thead>\n",
       "  <tbody>\n",
       "    <tr>\n",
       "      <th>0</th>\n",
       "      <td>Jurassic World</td>\n",
       "      <td>Jun</td>\n",
       "      <td>Colin Trevorrow</td>\n",
       "    </tr>\n",
       "    <tr>\n",
       "      <th>1</th>\n",
       "      <td>Mad Max: Fury Road</td>\n",
       "      <td>May</td>\n",
       "      <td>George Miller</td>\n",
       "    </tr>\n",
       "    <tr>\n",
       "      <th>2</th>\n",
       "      <td>Insurgent</td>\n",
       "      <td>Mar</td>\n",
       "      <td>Robert Schwentke</td>\n",
       "    </tr>\n",
       "  </tbody>\n",
       "</table>\n",
       "</div>"
      ],
      "text/plain": [
       "       original_title release_date          director\n",
       "0      Jurassic World          Jun   Colin Trevorrow\n",
       "1  Mad Max: Fury Road          May     George Miller\n",
       "2           Insurgent          Mar  Robert Schwentke"
      ]
     },
     "metadata": {},
     "output_type": "display_data"
    }
   ],
   "source": [
    "data = pd.read_csv('movie_bd_v5.csv', na_values='NaN')\n",
    "\n",
    "data_date=data.loc[:,('original_title','release_date','director')]\n",
    "\n",
    "def date_to_month(string): #define the function to replace the date with month\n",
    "    import re\n",
    "    \n",
    "    if  str(string)=='nan':\n",
    "        month_verbose=''\n",
    "    else:  \n",
    "        split_str=[]\n",
    "        split_str=str(string).split('/')\n",
    "        \n",
    "        months={}  #creadtin the dictionary of months\n",
    "        num_mon=list(range(13))\n",
    "        months=dict.fromkeys(num_mon[1:],\"\")\n",
    "        verb_mon=['Jan','Feb','Mar','Apr','May','Jun','Jul','Aug','Sep','Oct','Nov','Dec']\n",
    "        for i in range(1,13):\n",
    "            months[i]=verb_mon[(i-1)]   \n",
    "        \n",
    "        month_numerical=str()\n",
    "\n",
    "        #print('Начинаем проверять условие', split_str[0]) \n",
    "\n",
    "        if  re.search('0.',split_str[0]):     #cleaning the month numerical value\n",
    "            month_numerical=int(split_str[0][1])    \n",
    "        else:\n",
    "            month_numerical=int(split_str[0])\n",
    "        month_verbose=months[month_numerical] #accessing the dictionary\n",
    "\n",
    "    return month_verbose\n",
    "\n",
    "data_date['release_date']=data_date['release_date'].apply(date_to_month)\n",
    "\n",
    "display(data_date.head(3))"
   ]
  },
  {
   "cell_type": "code",
   "execution_count": 890,
   "metadata": {},
   "outputs": [
    {
     "data": {
      "text/html": [
       "<div>\n",
       "<style scoped>\n",
       "    .dataframe tbody tr th:only-of-type {\n",
       "        vertical-align: middle;\n",
       "    }\n",
       "\n",
       "    .dataframe tbody tr th {\n",
       "        vertical-align: top;\n",
       "    }\n",
       "\n",
       "    .dataframe thead th {\n",
       "        text-align: right;\n",
       "    }\n",
       "</style>\n",
       "<table border=\"1\" class=\"dataframe\">\n",
       "  <thead>\n",
       "    <tr style=\"text-align: right;\">\n",
       "      <th></th>\n",
       "      <th>release_date</th>\n",
       "      <th>original_title</th>\n",
       "    </tr>\n",
       "  </thead>\n",
       "  <tbody>\n",
       "    <tr>\n",
       "      <th>0</th>\n",
       "      <td>Sep</td>\n",
       "      <td>227</td>\n",
       "    </tr>\n",
       "    <tr>\n",
       "      <th>1</th>\n",
       "      <td>Dec</td>\n",
       "      <td>190</td>\n",
       "    </tr>\n",
       "    <tr>\n",
       "      <th>2</th>\n",
       "      <td>Oct</td>\n",
       "      <td>186</td>\n",
       "    </tr>\n",
       "  </tbody>\n",
       "</table>\n",
       "</div>"
      ],
      "text/plain": [
       "  release_date  original_title\n",
       "0          Sep             227\n",
       "1          Dec             190\n",
       "2          Oct             186"
      ]
     },
     "metadata": {},
     "output_type": "display_data"
    }
   ],
   "source": [
    "data_21=data_date.groupby(['release_date'])[['original_title']].count().sort_values(['original_title'],ascending=False)\n",
    "data_21_ans=data_21.reset_index()\n",
    "display(data_21_ans.head(3))"
   ]
  },
  {
   "cell_type": "code",
   "execution_count": 891,
   "metadata": {},
   "outputs": [
    {
     "name": "stdout",
     "output_type": "stream",
     "text": [
      "0    Sep\n",
      "Name: release_date, dtype: object\n"
     ]
    }
   ],
   "source": [
    "ans21=data_21_ans[data_21_ans['original_title']==data_21_ans['original_title'].max()]['release_date']\n",
    "print(ans21)\n",
    "answers1.update({21:ans21})"
   ]
  },
  {
   "cell_type": "markdown",
   "metadata": {
    "colab_type": "text",
    "id": "uAJsZ_NeVp_7"
   },
   "source": [
    "# 22. Сколько суммарно вышло фильмов летом? (за июнь, июль, август)"
   ]
  },
  {
   "cell_type": "code",
   "execution_count": 892,
   "metadata": {
    "colab": {},
    "colab_type": "code",
    "id": "Aa-hEREoVp_8",
    "scrolled": true
   },
   "outputs": [
    {
     "data": {
      "text/html": [
       "<div>\n",
       "<style scoped>\n",
       "    .dataframe tbody tr th:only-of-type {\n",
       "        vertical-align: middle;\n",
       "    }\n",
       "\n",
       "    .dataframe tbody tr th {\n",
       "        vertical-align: top;\n",
       "    }\n",
       "\n",
       "    .dataframe thead th {\n",
       "        text-align: right;\n",
       "    }\n",
       "</style>\n",
       "<table border=\"1\" class=\"dataframe\">\n",
       "  <thead>\n",
       "    <tr style=\"text-align: right;\">\n",
       "      <th></th>\n",
       "      <th>release_date</th>\n",
       "      <th>original_title</th>\n",
       "      <th>season</th>\n",
       "    </tr>\n",
       "  </thead>\n",
       "  <tbody>\n",
       "    <tr>\n",
       "      <th>0</th>\n",
       "      <td>Sep</td>\n",
       "      <td>227</td>\n",
       "      <td>Fall</td>\n",
       "    </tr>\n",
       "    <tr>\n",
       "      <th>1</th>\n",
       "      <td>Dec</td>\n",
       "      <td>190</td>\n",
       "      <td>Winter</td>\n",
       "    </tr>\n",
       "    <tr>\n",
       "      <th>2</th>\n",
       "      <td>Oct</td>\n",
       "      <td>186</td>\n",
       "      <td>Fall</td>\n",
       "    </tr>\n",
       "  </tbody>\n",
       "</table>\n",
       "</div>"
      ],
      "text/plain": [
       "  release_date  original_title  season\n",
       "0          Sep             227    Fall\n",
       "1          Dec             190  Winter\n",
       "2          Oct             186    Fall"
      ]
     },
     "metadata": {},
     "output_type": "display_data"
    },
    {
     "data": {
      "text/html": [
       "<div>\n",
       "<style scoped>\n",
       "    .dataframe tbody tr th:only-of-type {\n",
       "        vertical-align: middle;\n",
       "    }\n",
       "\n",
       "    .dataframe tbody tr th {\n",
       "        vertical-align: top;\n",
       "    }\n",
       "\n",
       "    .dataframe thead th {\n",
       "        text-align: right;\n",
       "    }\n",
       "</style>\n",
       "<table border=\"1\" class=\"dataframe\">\n",
       "  <thead>\n",
       "    <tr style=\"text-align: right;\">\n",
       "      <th></th>\n",
       "      <th>season</th>\n",
       "      <th>original_title</th>\n",
       "    </tr>\n",
       "  </thead>\n",
       "  <tbody>\n",
       "    <tr>\n",
       "      <th>0</th>\n",
       "      <td>Fall</td>\n",
       "      <td>559</td>\n",
       "    </tr>\n",
       "    <tr>\n",
       "      <th>1</th>\n",
       "      <td>Summer</td>\n",
       "      <td>452</td>\n",
       "    </tr>\n",
       "    <tr>\n",
       "      <th>2</th>\n",
       "      <td>Spring</td>\n",
       "      <td>445</td>\n",
       "    </tr>\n",
       "    <tr>\n",
       "      <th>3</th>\n",
       "      <td>Winter</td>\n",
       "      <td>434</td>\n",
       "    </tr>\n",
       "  </tbody>\n",
       "</table>\n",
       "</div>"
      ],
      "text/plain": [
       "   season  original_title\n",
       "0    Fall             559\n",
       "1  Summer             452\n",
       "2  Spring             445\n",
       "3  Winter             434"
      ]
     },
     "metadata": {},
     "output_type": "display_data"
    }
   ],
   "source": [
    "def season(month):\n",
    "    summer=['Jun','Jul','Aug']\n",
    "    fall=['Sep','Oct','Nov']\n",
    "    winter=['Dec','Jan','Feb']\n",
    "    spring=['Mar','Apr','May']\n",
    "    if month in fall:\n",
    "        season_m='Fall'\n",
    "    else:\n",
    "        if month in winter:\n",
    "            season_m='Winter'\n",
    "        else:\n",
    "            if month in spring:\n",
    "                season_m='Spring'\n",
    "            else:\n",
    "                season_m='Summer'\n",
    "    return season_m\n",
    "\n",
    "data_21_ans['season']=data_21_ans['release_date'].apply(season)\n",
    "display(data_21_ans.head(3))\n",
    "\n",
    "data_22=data_21_ans.groupby(['season'])[['original_title']].sum().sort_values(['original_title'],ascending=False)\n",
    "data_22_ans=data_22.reset_index()\n",
    "display(data_22_ans)\n"
   ]
  },
  {
   "cell_type": "code",
   "execution_count": 893,
   "metadata": {},
   "outputs": [
    {
     "name": "stdout",
     "output_type": "stream",
     "text": [
      "0    Fall\n",
      "Name: season, dtype: object\n"
     ]
    }
   ],
   "source": [
    "ans22=data_22_ans[data_22_ans['original_title']==data_22_ans['original_title'].max()]['season']\n",
    "print(ans22)\n",
    "answers1.update({22:ans22})"
   ]
  },
  {
   "cell_type": "markdown",
   "metadata": {
    "colab_type": "text",
    "id": "G94ppOY1VqAA"
   },
   "source": [
    "# 23. Для какого режиссера зима – самое продуктивное время года? "
   ]
  },
  {
   "cell_type": "code",
   "execution_count": 895,
   "metadata": {
    "colab": {},
    "colab_type": "code",
    "id": "RhNTsamuVqAB",
    "scrolled": true
   },
   "outputs": [
    {
     "data": {
      "text/html": [
       "<div>\n",
       "<style scoped>\n",
       "    .dataframe tbody tr th:only-of-type {\n",
       "        vertical-align: middle;\n",
       "    }\n",
       "\n",
       "    .dataframe tbody tr th {\n",
       "        vertical-align: top;\n",
       "    }\n",
       "\n",
       "    .dataframe thead th {\n",
       "        text-align: right;\n",
       "    }\n",
       "</style>\n",
       "<table border=\"1\" class=\"dataframe\">\n",
       "  <thead>\n",
       "    <tr style=\"text-align: right;\">\n",
       "      <th></th>\n",
       "      <th>original_title</th>\n",
       "      <th>release_date</th>\n",
       "      <th>director</th>\n",
       "    </tr>\n",
       "  </thead>\n",
       "  <tbody>\n",
       "    <tr>\n",
       "      <th>0</th>\n",
       "      <td>Jurassic World</td>\n",
       "      <td>Jun</td>\n",
       "      <td>Colin Trevorrow</td>\n",
       "    </tr>\n",
       "    <tr>\n",
       "      <th>1</th>\n",
       "      <td>Mad Max: Fury Road</td>\n",
       "      <td>May</td>\n",
       "      <td>George Miller</td>\n",
       "    </tr>\n",
       "    <tr>\n",
       "      <th>2</th>\n",
       "      <td>Insurgent</td>\n",
       "      <td>Mar</td>\n",
       "      <td>Robert Schwentke</td>\n",
       "    </tr>\n",
       "  </tbody>\n",
       "</table>\n",
       "</div>"
      ],
      "text/plain": [
       "       original_title release_date          director\n",
       "0      Jurassic World          Jun   Colin Trevorrow\n",
       "1  Mad Max: Fury Road          May     George Miller\n",
       "2           Insurgent          Mar  Robert Schwentke"
      ]
     },
     "metadata": {},
     "output_type": "display_data"
    }
   ],
   "source": [
    "display(data_date.head(3))"
   ]
  },
  {
   "cell_type": "code",
   "execution_count": 896,
   "metadata": {
    "scrolled": true
   },
   "outputs": [
    {
     "data": {
      "text/html": [
       "<div>\n",
       "<style scoped>\n",
       "    .dataframe tbody tr th:only-of-type {\n",
       "        vertical-align: middle;\n",
       "    }\n",
       "\n",
       "    .dataframe tbody tr th {\n",
       "        vertical-align: top;\n",
       "    }\n",
       "\n",
       "    .dataframe thead th {\n",
       "        text-align: right;\n",
       "    }\n",
       "</style>\n",
       "<table border=\"1\" class=\"dataframe\">\n",
       "  <thead>\n",
       "    <tr style=\"text-align: right;\">\n",
       "      <th></th>\n",
       "      <th>original_title</th>\n",
       "      <th>release_date</th>\n",
       "      <th>director</th>\n",
       "      <th>season</th>\n",
       "    </tr>\n",
       "  </thead>\n",
       "  <tbody>\n",
       "    <tr>\n",
       "      <th>0</th>\n",
       "      <td>Jurassic World</td>\n",
       "      <td>Jun</td>\n",
       "      <td>Colin Trevorrow</td>\n",
       "      <td>Summer</td>\n",
       "    </tr>\n",
       "    <tr>\n",
       "      <th>1</th>\n",
       "      <td>Mad Max: Fury Road</td>\n",
       "      <td>May</td>\n",
       "      <td>George Miller</td>\n",
       "      <td>Spring</td>\n",
       "    </tr>\n",
       "    <tr>\n",
       "      <th>2</th>\n",
       "      <td>Insurgent</td>\n",
       "      <td>Mar</td>\n",
       "      <td>Robert Schwentke</td>\n",
       "      <td>Spring</td>\n",
       "    </tr>\n",
       "  </tbody>\n",
       "</table>\n",
       "</div>"
      ],
      "text/plain": [
       "       original_title release_date          director  season\n",
       "0      Jurassic World          Jun   Colin Trevorrow  Summer\n",
       "1  Mad Max: Fury Road          May     George Miller  Spring\n",
       "2           Insurgent          Mar  Robert Schwentke  Spring"
      ]
     },
     "metadata": {},
     "output_type": "display_data"
    }
   ],
   "source": [
    "data_date['season']=data_date['release_date'].apply(season)\n",
    "display(data_date.head(3))"
   ]
  },
  {
   "cell_type": "code",
   "execution_count": 897,
   "metadata": {
    "scrolled": true
   },
   "outputs": [
    {
     "data": {
      "text/html": [
       "<div>\n",
       "<style scoped>\n",
       "    .dataframe tbody tr th:only-of-type {\n",
       "        vertical-align: middle;\n",
       "    }\n",
       "\n",
       "    .dataframe tbody tr th {\n",
       "        vertical-align: top;\n",
       "    }\n",
       "\n",
       "    .dataframe thead th {\n",
       "        text-align: right;\n",
       "    }\n",
       "</style>\n",
       "<table border=\"1\" class=\"dataframe\">\n",
       "  <thead>\n",
       "    <tr style=\"text-align: right;\">\n",
       "      <th></th>\n",
       "      <th>director</th>\n",
       "      <th>original_title</th>\n",
       "    </tr>\n",
       "  </thead>\n",
       "  <tbody>\n",
       "    <tr>\n",
       "      <th>0</th>\n",
       "      <td>Peter Jackson</td>\n",
       "      <td>7</td>\n",
       "    </tr>\n",
       "    <tr>\n",
       "      <th>1</th>\n",
       "      <td>Clint Eastwood</td>\n",
       "      <td>6</td>\n",
       "    </tr>\n",
       "    <tr>\n",
       "      <th>2</th>\n",
       "      <td>Steven Soderbergh</td>\n",
       "      <td>6</td>\n",
       "    </tr>\n",
       "    <tr>\n",
       "      <th>3</th>\n",
       "      <td>Shawn Levy</td>\n",
       "      <td>4</td>\n",
       "    </tr>\n",
       "    <tr>\n",
       "      <th>4</th>\n",
       "      <td>Adam Shankman</td>\n",
       "      <td>4</td>\n",
       "    </tr>\n",
       "  </tbody>\n",
       "</table>\n",
       "</div>"
      ],
      "text/plain": [
       "            director  original_title\n",
       "0      Peter Jackson               7\n",
       "1     Clint Eastwood               6\n",
       "2  Steven Soderbergh               6\n",
       "3         Shawn Levy               4\n",
       "4      Adam Shankman               4"
      ]
     },
     "metadata": {},
     "output_type": "display_data"
    },
    {
     "name": "stdout",
     "output_type": "stream",
     "text": [
      "0    Peter Jackson\n",
      "Name: director, dtype: object\n"
     ]
    }
   ],
   "source": [
    "see=data_date.groupby(['season'])\n",
    "winter_releases=see.get_group('Winter')\n",
    "\n",
    "winter_directors=winter_releases.groupby(['director'])[['original_title']].count().sort_values(['original_title'],ascending=False)\n",
    "\n",
    "data_23_wint=winter_directors.reset_index()\n",
    "display(data_23_wint.head(5))\n",
    "\n",
    "ans23=data_23_wint[data_23_wint['original_title']==data_23_wint['original_title'].max()]['director']\n",
    "print(ans23)\n",
    "answers1.update({23:ans23})"
   ]
  },
  {
   "cell_type": "markdown",
   "metadata": {
    "colab_type": "text",
    "id": "RBo0JVjVVqAF"
   },
   "source": [
    "# 24. Какая студия дает самые длинные названия своим фильмам по количеству символов?"
   ]
  },
  {
   "cell_type": "code",
   "execution_count": 694,
   "metadata": {
    "colab": {},
    "colab_type": "code",
    "id": "QRGS8L0iVqAG"
   },
   "outputs": [
    {
     "data": {
      "text/html": [
       "<div>\n",
       "<style scoped>\n",
       "    .dataframe tbody tr th:only-of-type {\n",
       "        vertical-align: middle;\n",
       "    }\n",
       "\n",
       "    .dataframe tbody tr th {\n",
       "        vertical-align: top;\n",
       "    }\n",
       "\n",
       "    .dataframe thead th {\n",
       "        text-align: right;\n",
       "    }\n",
       "</style>\n",
       "<table border=\"1\" class=\"dataframe\">\n",
       "  <thead>\n",
       "    <tr style=\"text-align: right;\">\n",
       "      <th></th>\n",
       "      <th>production_companies</th>\n",
       "      <th>original_title</th>\n",
       "      <th>overview</th>\n",
       "    </tr>\n",
       "  </thead>\n",
       "  <tbody>\n",
       "    <tr>\n",
       "      <th>0</th>\n",
       "      <td>Universal Studios|Amblin Entertainment|Legenda...</td>\n",
       "      <td>Jurassic World</td>\n",
       "      <td>Twenty-two years after the events of Jurassic ...</td>\n",
       "    </tr>\n",
       "  </tbody>\n",
       "</table>\n",
       "</div>"
      ],
      "text/plain": [
       "                                production_companies  original_title  \\\n",
       "0  Universal Studios|Amblin Entertainment|Legenda...  Jurassic World   \n",
       "\n",
       "                                            overview  \n",
       "0  Twenty-two years after the events of Jurassic ...  "
      ]
     },
     "execution_count": 694,
     "metadata": {},
     "output_type": "execute_result"
    }
   ],
   "source": [
    "titles_data=data.loc[:,('production_companies','original_title','overview')]\n",
    "titles_data.head(1)"
   ]
  },
  {
   "cell_type": "code",
   "execution_count": 698,
   "metadata": {
    "scrolled": true
   },
   "outputs": [
    {
     "data": {
      "text/html": [
       "<div>\n",
       "<style scoped>\n",
       "    .dataframe tbody tr th:only-of-type {\n",
       "        vertical-align: middle;\n",
       "    }\n",
       "\n",
       "    .dataframe tbody tr th {\n",
       "        vertical-align: top;\n",
       "    }\n",
       "\n",
       "    .dataframe thead th {\n",
       "        text-align: right;\n",
       "    }\n",
       "</style>\n",
       "<table border=\"1\" class=\"dataframe\">\n",
       "  <thead>\n",
       "    <tr style=\"text-align: right;\">\n",
       "      <th></th>\n",
       "      <th>production_companies</th>\n",
       "      <th>original_title</th>\n",
       "      <th>overview</th>\n",
       "      <th>title_length</th>\n",
       "      <th>overview_length</th>\n",
       "    </tr>\n",
       "  </thead>\n",
       "  <tbody>\n",
       "    <tr>\n",
       "      <th>0</th>\n",
       "      <td>Universal Studios|Amblin Entertainment|Legenda...</td>\n",
       "      <td>Jurassic World</td>\n",
       "      <td>Twenty-two years after the events of Jurassic ...</td>\n",
       "      <td>14</td>\n",
       "      <td>175</td>\n",
       "    </tr>\n",
       "    <tr>\n",
       "      <th>1</th>\n",
       "      <td>Village Roadshow Pictures|Kennedy Miller Produ...</td>\n",
       "      <td>Mad Max: Fury Road</td>\n",
       "      <td>An apocalyptic story set in the furthest reach...</td>\n",
       "      <td>18</td>\n",
       "      <td>581</td>\n",
       "    </tr>\n",
       "    <tr>\n",
       "      <th>2</th>\n",
       "      <td>Summit Entertainment|Mandeville Films|Red Wago...</td>\n",
       "      <td>Insurgent</td>\n",
       "      <td>Beatrice Prior must confront her inner demons ...</td>\n",
       "      <td>9</td>\n",
       "      <td>139</td>\n",
       "    </tr>\n",
       "  </tbody>\n",
       "</table>\n",
       "</div>"
      ],
      "text/plain": [
       "                                production_companies      original_title  \\\n",
       "0  Universal Studios|Amblin Entertainment|Legenda...      Jurassic World   \n",
       "1  Village Roadshow Pictures|Kennedy Miller Produ...  Mad Max: Fury Road   \n",
       "2  Summit Entertainment|Mandeville Films|Red Wago...           Insurgent   \n",
       "\n",
       "                                            overview  title_length  \\\n",
       "0  Twenty-two years after the events of Jurassic ...            14   \n",
       "1  An apocalyptic story set in the furthest reach...            18   \n",
       "2  Beatrice Prior must confront her inner demons ...             9   \n",
       "\n",
       "   overview_length  \n",
       "0              175  \n",
       "1              581  \n",
       "2              139  "
      ]
     },
     "execution_count": 698,
     "metadata": {},
     "output_type": "execute_result"
    }
   ],
   "source": [
    "titles_data['title_length']=titles_data['original_title'].apply(lambda string: len(string))\n",
    "titles_data['overview_length']=titles_data['overview'].apply(lambda string: len(str(string)))\n",
    "\n",
    "titles_data.head(3)"
   ]
  },
  {
   "cell_type": "code",
   "execution_count": 701,
   "metadata": {
    "scrolled": true
   },
   "outputs": [
    {
     "name": "stdout",
     "output_type": "stream",
     "text": [
      "['\"DIA\" Productions GmbH & Co. KG' '11:11 Mediaworks' '1492 Pictures' ...\n",
      " 'nan' 'platinum studios' 'uFilm'] 1772\n"
     ]
    }
   ],
   "source": [
    "p_c_listed=titles_data['production_companies']\n",
    "prod_comp=unique_word(p_c_listed)\n",
    "print(prod_comp, len(prod_comp))"
   ]
  },
  {
   "cell_type": "code",
   "execution_count": 708,
   "metadata": {},
   "outputs": [
    {
     "data": {
      "text/html": [
       "<div>\n",
       "<style scoped>\n",
       "    .dataframe tbody tr th:only-of-type {\n",
       "        vertical-align: middle;\n",
       "    }\n",
       "\n",
       "    .dataframe tbody tr th {\n",
       "        vertical-align: top;\n",
       "    }\n",
       "\n",
       "    .dataframe thead th {\n",
       "        text-align: right;\n",
       "    }\n",
       "</style>\n",
       "<table border=\"1\" class=\"dataframe\">\n",
       "  <thead>\n",
       "    <tr style=\"text-align: right;\">\n",
       "      <th></th>\n",
       "      <th>index</th>\n",
       "      <th>title_length</th>\n",
       "      <th>overview_length</th>\n",
       "    </tr>\n",
       "  </thead>\n",
       "  <tbody>\n",
       "    <tr>\n",
       "      <th>0</th>\n",
       "      <td>\"DIA\" Productions GmbH &amp; Co. KG</td>\n",
       "      <td>11.000000</td>\n",
       "      <td>273.0</td>\n",
       "    </tr>\n",
       "    <tr>\n",
       "      <th>1</th>\n",
       "      <td>11:11 Mediaworks</td>\n",
       "      <td>8.000000</td>\n",
       "      <td>131.0</td>\n",
       "    </tr>\n",
       "    <tr>\n",
       "      <th>2</th>\n",
       "      <td>1492 Pictures</td>\n",
       "      <td>28.230769</td>\n",
       "      <td>315.0</td>\n",
       "    </tr>\n",
       "  </tbody>\n",
       "</table>\n",
       "</div>"
      ],
      "text/plain": [
       "                             index  title_length  overview_length\n",
       "0  \"DIA\" Productions GmbH & Co. KG     11.000000            273.0\n",
       "1                 11:11 Mediaworks      8.000000            131.0\n",
       "2                    1492 Pictures     28.230769            315.0"
      ]
     },
     "metadata": {},
     "output_type": "display_data"
    },
    {
     "data": {
      "text/html": [
       "<div>\n",
       "<style scoped>\n",
       "    .dataframe tbody tr th:only-of-type {\n",
       "        vertical-align: middle;\n",
       "    }\n",
       "\n",
       "    .dataframe tbody tr th {\n",
       "        vertical-align: top;\n",
       "    }\n",
       "\n",
       "    .dataframe thead th {\n",
       "        text-align: right;\n",
       "    }\n",
       "</style>\n",
       "<table border=\"1\" class=\"dataframe\">\n",
       "  <thead>\n",
       "    <tr style=\"text-align: right;\">\n",
       "      <th></th>\n",
       "      <th>production_companies</th>\n",
       "      <th>title_length</th>\n",
       "      <th>overview_length</th>\n",
       "    </tr>\n",
       "  </thead>\n",
       "  <tbody>\n",
       "    <tr>\n",
       "      <th>0</th>\n",
       "      <td>\"DIA\" Productions GmbH &amp; Co. KG</td>\n",
       "      <td>11.000000</td>\n",
       "      <td>273.0</td>\n",
       "    </tr>\n",
       "    <tr>\n",
       "      <th>1</th>\n",
       "      <td>11:11 Mediaworks</td>\n",
       "      <td>8.000000</td>\n",
       "      <td>131.0</td>\n",
       "    </tr>\n",
       "    <tr>\n",
       "      <th>2</th>\n",
       "      <td>1492 Pictures</td>\n",
       "      <td>28.230769</td>\n",
       "      <td>315.0</td>\n",
       "    </tr>\n",
       "  </tbody>\n",
       "</table>\n",
       "</div>"
      ],
      "text/plain": [
       "              production_companies  title_length  overview_length\n",
       "0  \"DIA\" Productions GmbH & Co. KG     11.000000            273.0\n",
       "1                 11:11 Mediaworks      8.000000            131.0\n",
       "2                    1492 Pictures     28.230769            315.0"
      ]
     },
     "metadata": {},
     "output_type": "display_data"
    }
   ],
   "source": [
    "dict_prod_c={}\n",
    "for prod_c in prod_comp:\n",
    "    mean_title=titles_data[titles_data.production_companies.str.contains(prod_c,na=False)]['title_length'].mean()\n",
    "    mean_overview=titles_data[titles_data.production_companies.str.contains(prod_c,na=False)]['overview_length'].mean()\n",
    "    dict_prod_c[prod_c]=[mean_title,mean_overview]\n",
    "    \n",
    "p_c_len=pd.DataFrame.from_dict(dict_prod_c, columns=['title_length','overview_length'],orient='index').reset_index()\n",
    "#display(p_c_len.head(3))\n",
    "p_c_len.columns=['production_companies','title_length','overview_length']\n",
    "#display(p_c_len.head(3))"
   ]
  },
  {
   "cell_type": "code",
   "execution_count": 713,
   "metadata": {
    "scrolled": true
   },
   "outputs": [
    {
     "data": {
      "text/html": [
       "<div>\n",
       "<style scoped>\n",
       "    .dataframe tbody tr th:only-of-type {\n",
       "        vertical-align: middle;\n",
       "    }\n",
       "\n",
       "    .dataframe tbody tr th {\n",
       "        vertical-align: top;\n",
       "    }\n",
       "\n",
       "    .dataframe thead th {\n",
       "        text-align: right;\n",
       "    }\n",
       "</style>\n",
       "<table border=\"1\" class=\"dataframe\">\n",
       "  <thead>\n",
       "    <tr style=\"text-align: right;\">\n",
       "      <th></th>\n",
       "      <th>production_companies</th>\n",
       "      <th>title_length</th>\n",
       "      <th>overview_length</th>\n",
       "    </tr>\n",
       "  </thead>\n",
       "  <tbody>\n",
       "    <tr>\n",
       "      <th>583</th>\n",
       "      <td>Four By Two Productions</td>\n",
       "      <td>83.0</td>\n",
       "      <td>298.0</td>\n",
       "    </tr>\n",
       "    <tr>\n",
       "      <th>817</th>\n",
       "      <td>Jim Henson Company, The</td>\n",
       "      <td>59.0</td>\n",
       "      <td>304.0</td>\n",
       "    </tr>\n",
       "    <tr>\n",
       "      <th>446</th>\n",
       "      <td>Dos Corazones</td>\n",
       "      <td>47.0</td>\n",
       "      <td>150.0</td>\n",
       "    </tr>\n",
       "  </tbody>\n",
       "</table>\n",
       "</div>"
      ],
      "text/plain": [
       "        production_companies  title_length  overview_length\n",
       "583  Four By Two Productions          83.0            298.0\n",
       "817  Jim Henson Company, The          59.0            304.0\n",
       "446            Dos Corazones          47.0            150.0"
      ]
     },
     "metadata": {},
     "output_type": "display_data"
    }
   ],
   "source": [
    "sorted_title=p_c_len.sort_values(by='title_length', ascending=False)\n",
    "display(sorted_title.head(3))"
   ]
  },
  {
   "cell_type": "code",
   "execution_count": 898,
   "metadata": {},
   "outputs": [
    {
     "name": "stdout",
     "output_type": "stream",
     "text": [
      "583    Four By Two Productions\n",
      "Name: production_companies, dtype: object\n"
     ]
    }
   ],
   "source": [
    "ans24=sorted_title[sorted_title['title_length']==sorted_title['title_length'].max()]['production_companies']\n",
    "print(ans24)\n",
    "answers1.update({24:ans24})"
   ]
  },
  {
   "cell_type": "markdown",
   "metadata": {
    "colab_type": "text",
    "id": "9G0hbvR7VqAK"
   },
   "source": [
    "# 25. Описание фильмов какой студии в среднем самые длинные по количеству слов?"
   ]
  },
  {
   "cell_type": "code",
   "execution_count": 899,
   "metadata": {
    "colab": {},
    "colab_type": "code",
    "id": "Ge2GsLNxVqAK"
   },
   "outputs": [
    {
     "data": {
      "text/html": [
       "<div>\n",
       "<style scoped>\n",
       "    .dataframe tbody tr th:only-of-type {\n",
       "        vertical-align: middle;\n",
       "    }\n",
       "\n",
       "    .dataframe tbody tr th {\n",
       "        vertical-align: top;\n",
       "    }\n",
       "\n",
       "    .dataframe thead th {\n",
       "        text-align: right;\n",
       "    }\n",
       "</style>\n",
       "<table border=\"1\" class=\"dataframe\">\n",
       "  <thead>\n",
       "    <tr style=\"text-align: right;\">\n",
       "      <th></th>\n",
       "      <th>production_companies</th>\n",
       "      <th>title_length</th>\n",
       "      <th>overview_length</th>\n",
       "    </tr>\n",
       "  </thead>\n",
       "  <tbody>\n",
       "    <tr>\n",
       "      <th>1041</th>\n",
       "      <td>Midnight Picture Show</td>\n",
       "      <td>23.0</td>\n",
       "      <td>1000.0</td>\n",
       "    </tr>\n",
       "    <tr>\n",
       "      <th>1355</th>\n",
       "      <td>Room 9 Entertainment</td>\n",
       "      <td>21.0</td>\n",
       "      <td>964.0</td>\n",
       "    </tr>\n",
       "    <tr>\n",
       "      <th>231</th>\n",
       "      <td>Brookwell-McNamara Entertainment</td>\n",
       "      <td>11.0</td>\n",
       "      <td>936.0</td>\n",
       "    </tr>\n",
       "  </tbody>\n",
       "</table>\n",
       "</div>"
      ],
      "text/plain": [
       "                  production_companies  title_length  overview_length\n",
       "1041             Midnight Picture Show          23.0           1000.0\n",
       "1355              Room 9 Entertainment          21.0            964.0\n",
       "231   Brookwell-McNamara Entertainment          11.0            936.0"
      ]
     },
     "metadata": {},
     "output_type": "display_data"
    },
    {
     "name": "stdout",
     "output_type": "stream",
     "text": [
      "1041    Midnight Picture Show\n",
      "Name: production_companies, dtype: object\n"
     ]
    }
   ],
   "source": [
    "sorted_overview=p_c_len.sort_values(by='overview_length', ascending=False)\n",
    "display(sorted_overview.head(3))\n",
    "\n",
    "ans25=sorted_title[sorted_title['overview_length']==sorted_title['overview_length'].max()]['production_companies']\n",
    "print(ans25)\n",
    "answers1.update({25:ans25})"
   ]
  },
  {
   "cell_type": "markdown",
   "metadata": {
    "colab_type": "text",
    "id": "FJ1AFt90VqAP"
   },
   "source": [
    "# 26. Какие фильмы входят в 1 процент лучших по рейтингу? \n",
    "по vote_average"
   ]
  },
  {
   "cell_type": "code",
   "execution_count": 718,
   "metadata": {
    "colab": {},
    "colab_type": "code",
    "id": "8qmJVq4CVqAQ",
    "scrolled": true
   },
   "outputs": [
    {
     "data": {
      "text/html": [
       "<div>\n",
       "<style scoped>\n",
       "    .dataframe tbody tr th:only-of-type {\n",
       "        vertical-align: middle;\n",
       "    }\n",
       "\n",
       "    .dataframe tbody tr th {\n",
       "        vertical-align: top;\n",
       "    }\n",
       "\n",
       "    .dataframe thead th {\n",
       "        text-align: right;\n",
       "    }\n",
       "</style>\n",
       "<table border=\"1\" class=\"dataframe\">\n",
       "  <thead>\n",
       "    <tr style=\"text-align: right;\">\n",
       "      <th></th>\n",
       "      <th>imdb_id</th>\n",
       "      <th>budget</th>\n",
       "      <th>revenue</th>\n",
       "      <th>original_title</th>\n",
       "      <th>cast</th>\n",
       "      <th>director</th>\n",
       "      <th>tagline</th>\n",
       "      <th>overview</th>\n",
       "      <th>runtime</th>\n",
       "      <th>genres</th>\n",
       "      <th>production_companies</th>\n",
       "      <th>release_date</th>\n",
       "      <th>vote_average</th>\n",
       "      <th>release_year</th>\n",
       "    </tr>\n",
       "  </thead>\n",
       "  <tbody>\n",
       "    <tr>\n",
       "      <th>0</th>\n",
       "      <td>tt0369610</td>\n",
       "      <td>150000000</td>\n",
       "      <td>1513528810</td>\n",
       "      <td>Jurassic World</td>\n",
       "      <td>Chris Pratt|Bryce Dallas Howard|Irrfan Khan|Vi...</td>\n",
       "      <td>Colin Trevorrow</td>\n",
       "      <td>The park is open.</td>\n",
       "      <td>Twenty-two years after the events of Jurassic ...</td>\n",
       "      <td>124.0</td>\n",
       "      <td>Action|Adventure|Science Fiction|Thriller</td>\n",
       "      <td>Universal Studios|Amblin Entertainment|Legenda...</td>\n",
       "      <td>06/09/2015</td>\n",
       "      <td>6.5</td>\n",
       "      <td>2015.0</td>\n",
       "    </tr>\n",
       "  </tbody>\n",
       "</table>\n",
       "</div>"
      ],
      "text/plain": [
       "     imdb_id     budget     revenue  original_title  \\\n",
       "0  tt0369610  150000000  1513528810  Jurassic World   \n",
       "\n",
       "                                                cast         director  \\\n",
       "0  Chris Pratt|Bryce Dallas Howard|Irrfan Khan|Vi...  Colin Trevorrow   \n",
       "\n",
       "             tagline                                           overview  \\\n",
       "0  The park is open.  Twenty-two years after the events of Jurassic ...   \n",
       "\n",
       "   runtime                                     genres  \\\n",
       "0    124.0  Action|Adventure|Science Fiction|Thriller   \n",
       "\n",
       "                                production_companies release_date  \\\n",
       "0  Universal Studios|Amblin Entertainment|Legenda...   06/09/2015   \n",
       "\n",
       "   vote_average  release_year  \n",
       "0           6.5        2015.0  "
      ]
     },
     "execution_count": 718,
     "metadata": {},
     "output_type": "execute_result"
    }
   ],
   "source": [
    "data.head(1)"
   ]
  },
  {
   "cell_type": "code",
   "execution_count": 741,
   "metadata": {
    "scrolled": true
   },
   "outputs": [
    {
     "data": {
      "text/plain": [
       "(3.294, 3.62]    0.003175\n",
       "(3.62, 3.94]     0.003175\n",
       "(3.94, 4.26]     0.004762\n",
       "(4.26, 4.58]     0.012698\n",
       "(4.58, 4.9]      0.030688\n",
       "(4.9, 5.22]      0.059788\n",
       "(5.22, 5.54]     0.101058\n",
       "(5.54, 5.86]     0.132275\n",
       "(5.86, 6.18]     0.159259\n",
       "(6.18, 6.5]      0.201058\n",
       "(6.5, 6.82]      0.108995\n",
       "(6.82, 7.14]     0.084127\n",
       "(7.14, 7.46]     0.056085\n",
       "(7.46, 7.78]     0.026984\n",
       "(7.78, 8.1]      0.014815\n",
       "Name: vote_average, dtype: float64"
      ]
     },
     "metadata": {},
     "output_type": "display_data"
    },
    {
     "data": {
      "text/plain": [
       "IntervalIndex([(3.294, 3.62], (3.62, 3.94], (3.94, 4.26], (4.26, 4.58], (4.58, 4.9] ... (6.5, 6.82], (6.82, 7.14], (7.14, 7.46], (7.46, 7.78], (7.78, 8.1]],\n",
       "              closed='right',\n",
       "              dtype='interval[float64]')"
      ]
     },
     "execution_count": 741,
     "metadata": {},
     "output_type": "execute_result"
    }
   ],
   "source": [
    "data_norm=data['vote_average'].value_counts(sort=False,normalize=True,bins=15) #normalize=True\n",
    "display(data_norm)\n",
    "data_norm.index"
   ]
  },
  {
   "cell_type": "code",
   "execution_count": 900,
   "metadata": {},
   "outputs": [
    {
     "data": {
      "text/html": [
       "<div>\n",
       "<style scoped>\n",
       "    .dataframe tbody tr th:only-of-type {\n",
       "        vertical-align: middle;\n",
       "    }\n",
       "\n",
       "    .dataframe tbody tr th {\n",
       "        vertical-align: top;\n",
       "    }\n",
       "\n",
       "    .dataframe thead th {\n",
       "        text-align: right;\n",
       "    }\n",
       "</style>\n",
       "<table border=\"1\" class=\"dataframe\">\n",
       "  <thead>\n",
       "    <tr style=\"text-align: right;\">\n",
       "      <th></th>\n",
       "      <th>original_title</th>\n",
       "      <th>vote_average</th>\n",
       "    </tr>\n",
       "  </thead>\n",
       "  <tbody>\n",
       "    <tr>\n",
       "      <th>600</th>\n",
       "      <td>The Dark Knight</td>\n",
       "      <td>8.1</td>\n",
       "    </tr>\n",
       "    <tr>\n",
       "      <th>9</th>\n",
       "      <td>Inside Out</td>\n",
       "      <td>8.0</td>\n",
       "    </tr>\n",
       "    <tr>\n",
       "      <th>34</th>\n",
       "      <td>Room</td>\n",
       "      <td>8.0</td>\n",
       "    </tr>\n",
       "    <tr>\n",
       "      <th>119</th>\n",
       "      <td>Interstellar</td>\n",
       "      <td>8.0</td>\n",
       "    </tr>\n",
       "    <tr>\n",
       "      <th>126</th>\n",
       "      <td>The Imitation Game</td>\n",
       "      <td>8.0</td>\n",
       "    </tr>\n",
       "    <tr>\n",
       "      <th>371</th>\n",
       "      <td>Inception</td>\n",
       "      <td>7.9</td>\n",
       "    </tr>\n",
       "    <tr>\n",
       "      <th>1192</th>\n",
       "      <td>12 Years a Slave</td>\n",
       "      <td>7.9</td>\n",
       "    </tr>\n",
       "    <tr>\n",
       "      <th>1184</th>\n",
       "      <td>The Wolf of Wall Street</td>\n",
       "      <td>7.9</td>\n",
       "    </tr>\n",
       "    <tr>\n",
       "      <th>1082</th>\n",
       "      <td>The Lord of the Rings: The Return of the King</td>\n",
       "      <td>7.9</td>\n",
       "    </tr>\n",
       "    <tr>\n",
       "      <th>873</th>\n",
       "      <td>The Pianist</td>\n",
       "      <td>7.9</td>\n",
       "    </tr>\n",
       "    <tr>\n",
       "      <th>1801</th>\n",
       "      <td>Memento</td>\n",
       "      <td>7.9</td>\n",
       "    </tr>\n",
       "    <tr>\n",
       "      <th>120</th>\n",
       "      <td>Guardians of the Galaxy</td>\n",
       "      <td>7.9</td>\n",
       "    </tr>\n",
       "    <tr>\n",
       "      <th>139</th>\n",
       "      <td>The Grand Budapest Hotel</td>\n",
       "      <td>7.9</td>\n",
       "    </tr>\n",
       "    <tr>\n",
       "      <th>129</th>\n",
       "      <td>Gone Girl</td>\n",
       "      <td>7.9</td>\n",
       "    </tr>\n",
       "    <tr>\n",
       "      <th>284</th>\n",
       "      <td>Mr. Nobody</td>\n",
       "      <td>7.8</td>\n",
       "    </tr>\n",
       "    <tr>\n",
       "      <th>1689</th>\n",
       "      <td>There Will Be Blood</td>\n",
       "      <td>7.8</td>\n",
       "    </tr>\n",
       "    <tr>\n",
       "      <th>1564</th>\n",
       "      <td>Eternal Sunshine of the Spotless Mind</td>\n",
       "      <td>7.8</td>\n",
       "    </tr>\n",
       "    <tr>\n",
       "      <th>1445</th>\n",
       "      <td>The Prestige</td>\n",
       "      <td>7.8</td>\n",
       "    </tr>\n",
       "    <tr>\n",
       "      <th>1214</th>\n",
       "      <td>Dallas Buyers Club</td>\n",
       "      <td>7.8</td>\n",
       "    </tr>\n",
       "    <tr>\n",
       "      <th>1206</th>\n",
       "      <td>Prisoners</td>\n",
       "      <td>7.8</td>\n",
       "    </tr>\n",
       "    <tr>\n",
       "      <th>125</th>\n",
       "      <td>Big Hero 6</td>\n",
       "      <td>7.8</td>\n",
       "    </tr>\n",
       "    <tr>\n",
       "      <th>1189</th>\n",
       "      <td>Her</td>\n",
       "      <td>7.8</td>\n",
       "    </tr>\n",
       "    <tr>\n",
       "      <th>317</th>\n",
       "      <td>3 Idiots</td>\n",
       "      <td>7.8</td>\n",
       "    </tr>\n",
       "    <tr>\n",
       "      <th>864</th>\n",
       "      <td>The Lord of the Rings: The Two Towers</td>\n",
       "      <td>7.8</td>\n",
       "    </tr>\n",
       "    <tr>\n",
       "      <th>156</th>\n",
       "      <td>The Theory of Everything</td>\n",
       "      <td>7.8</td>\n",
       "    </tr>\n",
       "    <tr>\n",
       "      <th>28</th>\n",
       "      <td>Spotlight</td>\n",
       "      <td>7.8</td>\n",
       "    </tr>\n",
       "    <tr>\n",
       "      <th>178</th>\n",
       "      <td>The Fault in Our Stars</td>\n",
       "      <td>7.8</td>\n",
       "    </tr>\n",
       "    <tr>\n",
       "      <th>497</th>\n",
       "      <td>The Lord of the Rings: The Fellowship of the Ring</td>\n",
       "      <td>7.8</td>\n",
       "    </tr>\n",
       "  </tbody>\n",
       "</table>\n",
       "</div>"
      ],
      "text/plain": [
       "                                         original_title  vote_average\n",
       "600                                     The Dark Knight           8.1\n",
       "9                                            Inside Out           8.0\n",
       "34                                                 Room           8.0\n",
       "119                                        Interstellar           8.0\n",
       "126                                  The Imitation Game           8.0\n",
       "371                                           Inception           7.9\n",
       "1192                                   12 Years a Slave           7.9\n",
       "1184                            The Wolf of Wall Street           7.9\n",
       "1082      The Lord of the Rings: The Return of the King           7.9\n",
       "873                                         The Pianist           7.9\n",
       "1801                                            Memento           7.9\n",
       "120                             Guardians of the Galaxy           7.9\n",
       "139                            The Grand Budapest Hotel           7.9\n",
       "129                                           Gone Girl           7.9\n",
       "284                                          Mr. Nobody           7.8\n",
       "1689                                There Will Be Blood           7.8\n",
       "1564              Eternal Sunshine of the Spotless Mind           7.8\n",
       "1445                                       The Prestige           7.8\n",
       "1214                                 Dallas Buyers Club           7.8\n",
       "1206                                          Prisoners           7.8\n",
       "125                                          Big Hero 6           7.8\n",
       "1189                                                Her           7.8\n",
       "317                                            3 Idiots           7.8\n",
       "864               The Lord of the Rings: The Two Towers           7.8\n",
       "156                            The Theory of Everything           7.8\n",
       "28                                            Spotlight           7.8\n",
       "178                              The Fault in Our Stars           7.8\n",
       "497   The Lord of the Rings: The Fellowship of the Ring           7.8"
      ]
     },
     "metadata": {},
     "output_type": "display_data"
    }
   ],
   "source": [
    "upper_bin=data.loc[(data['vote_average'] > data_norm.index[-1].left) & (data['vote_average'] <= data_norm.index[-1].right)].sort_values(by='vote_average', ascending=False)\n",
    "\n",
    "display(upper_bin.loc[:,('original_title','vote_average')])\n",
    "ans26=upper_bin.loc[:,('original_title','vote_average')]\n",
    "answers1.update({26:ans26})"
   ]
  },
  {
   "cell_type": "markdown",
   "metadata": {
    "colab_type": "text",
    "id": "MdXsUXbCVqAV"
   },
   "source": [
    "# 27. Какие актеры чаще всего снимаются в одном фильме вместе?\n"
   ]
  },
  {
   "cell_type": "code",
   "execution_count": 792,
   "metadata": {},
   "outputs": [
    {
     "name": "stdout",
     "output_type": "stream",
     "text": [
      "<class 'list'>\n",
      "<class 'list'>\n",
      "Zuleikha Robinson\n",
      "50 Cent\n"
     ]
    }
   ],
   "source": [
    "data = pd.read_csv('movie_bd_v5.csv', na_values='NaN')\n",
    "actors_listed=data['cast']\n",
    "actors_unique=unique_word(actors_listed)\n",
    "unique_list=actors_unique.tolist()\n",
    "\n",
    "list1=sorted(unique_list, reverse=True)\n",
    "print(type(list1))\n",
    "list2=sorted(unique_list, reverse=False)\n",
    "print(type(list2))\n",
    "print(list1[1])\n",
    "print(list2[1])"
   ]
  },
  {
   "cell_type": "code",
   "execution_count": null,
   "metadata": {},
   "outputs": [],
   "source": [
    "\n",
    "list_of_partners={}\n",
    "for actor1 in list1:\n",
    "    l1=len(actor1)\n",
    "    for actor2 in list2:\n",
    "        l2=len(actor2)\n",
    "        if actor1!=actor2:\n",
    "            for index, row in data.iterrows():\n",
    "                cast=row['cast']\n",
    "                movie=row['original_title']\n",
    "                if actor1 in cast and actor2 in cast:\n",
    "                    if l1<l2:\n",
    "                        partners=actor1+' & '+actor2+' @ '+movie\n",
    "                        list_of_partners[partners]=movie\n",
    "                    else:\n",
    "                        partners=actor2+' & '+actor1+' @ '+movie                       \n",
    "                        list_of_partners[partners]=movie\n",
    "                        \n",
    "                        \n",
    "                    \n",
    "partners=pd.DataFrame.from_dict(list_of_partners, columns=['partners','movie'],orient='index').reset_index()"
   ]
  },
  {
   "cell_type": "markdown",
   "metadata": {
    "colab_type": "text",
    "id": "4ymnxEVoVqAW"
   },
   "source": [
    "ВАРИАНТ 2"
   ]
  },
  {
   "cell_type": "code",
   "execution_count": 995,
   "metadata": {},
   "outputs": [],
   "source": [
    "def unique_word(list):    # creating a list of unique titles out of combined entries\n",
    "    list_all=[]\n",
    "    for entry in list:\n",
    "        split_entry=str(entry).split('|')\n",
    "        for word in split_entry:\n",
    "            list_all.append(word)\n",
    "    #print('All',len(list_all))      \n",
    "    unique_list=np.unique(list_all)  \n",
    "    #print('Unique',len(unique_list))\n",
    "    return(unique_list)    \n"
   ]
  },
  {
   "cell_type": "code",
   "execution_count": 929,
   "metadata": {
    "scrolled": true
   },
   "outputs": [],
   "source": [
    "#Выберу сналчала самых снимаемых\n",
    "\n",
    "\n",
    "popular={}\n",
    "#print(unique_list)\n",
    "for a in unique_list:\n",
    "    count=df_work[df_work.cast.str.contains(a,na=False)]['original_title'].count()\n",
    "    popular[a]=count\n",
    "#print(popular)\n"
   ]
  },
  {
   "cell_type": "code",
   "execution_count": 933,
   "metadata": {
    "scrolled": true
   },
   "outputs": [
    {
     "data": {
      "text/html": [
       "<div>\n",
       "<style scoped>\n",
       "    .dataframe tbody tr th:only-of-type {\n",
       "        vertical-align: middle;\n",
       "    }\n",
       "\n",
       "    .dataframe tbody tr th {\n",
       "        vertical-align: top;\n",
       "    }\n",
       "\n",
       "    .dataframe thead th {\n",
       "        text-align: right;\n",
       "    }\n",
       "</style>\n",
       "<table border=\"1\" class=\"dataframe\">\n",
       "  <thead>\n",
       "    <tr style=\"text-align: right;\">\n",
       "      <th></th>\n",
       "      <th>Name</th>\n",
       "      <th>Count</th>\n",
       "    </tr>\n",
       "  </thead>\n",
       "  <tbody>\n",
       "    <tr>\n",
       "      <th>0</th>\n",
       "      <td>1/16/2015</td>\n",
       "      <td>1</td>\n",
       "    </tr>\n",
       "    <tr>\n",
       "      <th>1</th>\n",
       "      <td>50 Cent</td>\n",
       "      <td>5</td>\n",
       "    </tr>\n",
       "    <tr>\n",
       "      <th>2</th>\n",
       "      <td>A.J. Cook</td>\n",
       "      <td>1</td>\n",
       "    </tr>\n",
       "  </tbody>\n",
       "</table>\n",
       "</div>"
      ],
      "text/plain": [
       "        Name  Count\n",
       "0  1/16/2015      1\n",
       "1    50 Cent      5\n",
       "2  A.J. Cook      1"
      ]
     },
     "metadata": {},
     "output_type": "display_data"
    }
   ],
   "source": [
    "popular_df=pd.DataFrame.from_dict(popular,orient='index').reset_index()\n",
    "#display(popular_df.head(3))\n",
    "popular_df.columns=['Name','Count']\n",
    "display(popular_df.head(3))            \n",
    "    "
   ]
  },
  {
   "cell_type": "code",
   "execution_count": 936,
   "metadata": {
    "scrolled": true
   },
   "outputs": [
    {
     "data": {
      "text/html": [
       "<div>\n",
       "<style scoped>\n",
       "    .dataframe tbody tr th:only-of-type {\n",
       "        vertical-align: middle;\n",
       "    }\n",
       "\n",
       "    .dataframe tbody tr th {\n",
       "        vertical-align: top;\n",
       "    }\n",
       "\n",
       "    .dataframe thead th {\n",
       "        text-align: right;\n",
       "    }\n",
       "</style>\n",
       "<table border=\"1\" class=\"dataframe\">\n",
       "  <thead>\n",
       "    <tr style=\"text-align: right;\">\n",
       "      <th></th>\n",
       "      <th>Name</th>\n",
       "      <th>Count</th>\n",
       "    </tr>\n",
       "  </thead>\n",
       "  <tbody>\n",
       "    <tr>\n",
       "      <th>2476</th>\n",
       "      <td>Nicolas Cage</td>\n",
       "      <td>27</td>\n",
       "    </tr>\n",
       "    <tr>\n",
       "      <th>2890</th>\n",
       "      <td>Samuel L. Jackson</td>\n",
       "      <td>27</td>\n",
       "    </tr>\n",
       "    <tr>\n",
       "      <th>2759</th>\n",
       "      <td>Robert De Niro</td>\n",
       "      <td>26</td>\n",
       "    </tr>\n",
       "  </tbody>\n",
       "</table>\n",
       "</div>"
      ],
      "text/plain": [
       "                   Name  Count\n",
       "2476       Nicolas Cage     27\n",
       "2890  Samuel L. Jackson     27\n",
       "2759     Robert De Niro     26"
      ]
     },
     "metadata": {},
     "output_type": "display_data"
    }
   ],
   "source": [
    "most_popular=popular_df.sort_values(by='Count', ascending=False)\n",
    "display(most_popular.head(3))   "
   ]
  },
  {
   "cell_type": "code",
   "execution_count": 938,
   "metadata": {
    "scrolled": true
   },
   "outputs": [
    {
     "data": {
      "text/html": [
       "<div>\n",
       "<style scoped>\n",
       "    .dataframe tbody tr th:only-of-type {\n",
       "        vertical-align: middle;\n",
       "    }\n",
       "\n",
       "    .dataframe tbody tr th {\n",
       "        vertical-align: top;\n",
       "    }\n",
       "\n",
       "    .dataframe thead th {\n",
       "        text-align: right;\n",
       "    }\n",
       "</style>\n",
       "<table border=\"1\" class=\"dataframe\">\n",
       "  <thead>\n",
       "    <tr style=\"text-align: right;\">\n",
       "      <th></th>\n",
       "      <th>Count</th>\n",
       "    </tr>\n",
       "  </thead>\n",
       "  <tbody>\n",
       "    <tr>\n",
       "      <th>count</th>\n",
       "      <td>3407.000000</td>\n",
       "    </tr>\n",
       "    <tr>\n",
       "      <th>mean</th>\n",
       "      <td>2.779865</td>\n",
       "    </tr>\n",
       "    <tr>\n",
       "      <th>std</th>\n",
       "      <td>3.394881</td>\n",
       "    </tr>\n",
       "    <tr>\n",
       "      <th>min</th>\n",
       "      <td>1.000000</td>\n",
       "    </tr>\n",
       "    <tr>\n",
       "      <th>25%</th>\n",
       "      <td>1.000000</td>\n",
       "    </tr>\n",
       "    <tr>\n",
       "      <th>50%</th>\n",
       "      <td>1.000000</td>\n",
       "    </tr>\n",
       "    <tr>\n",
       "      <th>75%</th>\n",
       "      <td>3.000000</td>\n",
       "    </tr>\n",
       "    <tr>\n",
       "      <th>max</th>\n",
       "      <td>27.000000</td>\n",
       "    </tr>\n",
       "  </tbody>\n",
       "</table>\n",
       "</div>"
      ],
      "text/plain": [
       "             Count\n",
       "count  3407.000000\n",
       "mean      2.779865\n",
       "std       3.394881\n",
       "min       1.000000\n",
       "25%       1.000000\n",
       "50%       1.000000\n",
       "75%       3.000000\n",
       "max      27.000000"
      ]
     },
     "execution_count": 938,
     "metadata": {},
     "output_type": "execute_result"
    }
   ],
   "source": [
    "most_popular.describe()"
   ]
  },
  {
   "cell_type": "code",
   "execution_count": 944,
   "metadata": {},
   "outputs": [
    {
     "data": {
      "text/plain": [
       "(0.973, 3.6]    0.789551\n",
       "(3.6, 6.2]      0.105371\n",
       "(6.2, 8.8]      0.038450\n",
       "(8.8, 11.4]     0.027297\n",
       "(11.4, 14.0]    0.019078\n",
       "(14.0, 16.6]    0.007925\n",
       "(16.6, 19.2]    0.007631\n",
       "(19.2, 21.8]    0.001761\n",
       "(21.8, 24.4]    0.001468\n",
       "(24.4, 27.0]    0.001468\n",
       "Name: Count, dtype: float64"
      ]
     },
     "metadata": {},
     "output_type": "display_data"
    }
   ],
   "source": [
    "pop_norm=most_popular['Count'].value_counts(sort=False,normalize=True,bins=10) #normalize=True\n",
    "display(pop_norm)"
   ]
  },
  {
   "cell_type": "code",
   "execution_count": 1004,
   "metadata": {},
   "outputs": [
    {
     "name": "stdout",
     "output_type": "stream",
     "text": [
      "THE LIST IS REDUCED TO 102\n"
     ]
    }
   ],
   "source": [
    "upper_decile=most_popular[most_popular['Count']>12]['Name']\n",
    "print('THE LIST IS REDUCED TO',len(upper_decile))"
   ]
  },
  {
   "cell_type": "code",
   "execution_count": 1005,
   "metadata": {
    "scrolled": true
   },
   "outputs": [
    {
     "data": {
      "text/plain": [
       "6       Aaron Eckhart\n",
       "33       Adam Sandler\n",
       "75       Alec Baldwin\n",
       "161         Amy Adams\n",
       "198    Angelina Jolie\n",
       "Name: Name, dtype: object"
      ]
     },
     "metadata": {},
     "output_type": "display_data"
    }
   ],
   "source": [
    "new_upper_decile=upper_decile.sort_values()\n",
    "display(new_upper_decile.head(5))"
   ]
  },
  {
   "cell_type": "code",
   "execution_count": 1006,
   "metadata": {},
   "outputs": [],
   "source": [
    "list1=upper_decile.tolist()\n",
    "list2=new_upper_decile.tolist()\n",
    "#print(list1)"
   ]
  },
  {
   "cell_type": "code",
   "execution_count": 1007,
   "metadata": {},
   "outputs": [
    {
     "name": "stdout",
     "output_type": "stream",
     "text": [
      "{'Nicolas Cage & Angelina Jolie @ Gone In Sixty Seconds': 'Gone In Sixty Seconds', 'Bill Nighy & Nicolas Cage @ Astro Boy': 'Astro Boy', 'Emma Stone & Nicolas Cage @ The Croods': 'The Croods', 'Guy Pearce & Nicolas Cage @ Seeking Justice': 'Seeking Justice', 'Nicolas Cage & Julia Roberts @ The Ant Bully': 'The Ant Bully', 'Nicolas Cage & Julianne Moore @ Next': 'Next', 'Mark Ruffalo & Nicolas Cage @ Windtalkers': 'Windtalkers', 'Meryl Streep & Nicolas Cage @ Adaptation.': 'Adaptation.', 'Meryl Streep & Nicolas Cage @ The Ant Bully': 'The Ant Bully', 'Nicolas Cage & Michael Caine @ The Weather Man': 'The Weather Man', 'Nicolas Cage & Nicole Kidman @ Trespass': 'Trespass', 'Nicolas Cage & Paul Giamatti @ The Ant Bully': 'The Ant Bully', 'Nicolas Cage & Ryan Reynolds @ The Croods': 'The Croods', 'Ben Affleck & Samuel L. Jackson @ Changing Lanes': 'Changing Lanes', 'Ben Kingsley & Samuel L. Jackson @ Rules of Engagement': 'Rules of Engagement', 'Bruce Willis & Samuel L. Jackson @ Unbreakable': 'Unbreakable', 'Channing Tatum & Samuel L. Jackson @ Coach Carter': 'Coach Carter', 'Chris Evans & Samuel L. Jackson @ Captain America: The Winter Soldier': 'Captain America: The Winter Soldier', 'Christian Bale & Samuel L. Jackson @ Shaft': 'Shaft', 'Colin Farrell & Samuel L. Jackson @ S.W.A.T.': 'S.W.A.T.', 'Dwayne Johnson & Samuel L. Jackson @ The Other Guys': 'The Other Guys', 'Ewan McGregor & Samuel L. Jackson @ Star Wars: Episode II - Attack of the Clones': 'Star Wars: Episode II - Attack of the Clones', 'Ewan McGregor & Samuel L. Jackson @ Star Wars: Episode III - Revenge of the Sith': 'Star Wars: Episode III - Revenge of the Sith', 'Guy Pearce & Samuel L. Jackson @ Rules of Engagement': 'Rules of Engagement', 'Jamie Foxx & Samuel L. Jackson @ Django Unchained': 'Django Unchained', 'Josh Brolin & Samuel L. Jackson @ Oldboy': 'Oldboy', 'Julianne Moore & Samuel L. Jackson @ Freedomland': 'Freedomland', 'Leonardo DiCaprio & Samuel L. Jackson @ Django Unchained': 'Django Unchained', 'Mark Wahlberg & Samuel L. Jackson @ The Other Guys': 'The Other Guys', 'Michael Caine & Samuel L. Jackson @ Kingsman: The Secret Service': 'Kingsman: The Secret Service', 'Paul Giamatti & Samuel L. Jackson @ Turbo': 'Turbo', 'Ryan Reynolds & Samuel L. Jackson @ Turbo': 'Turbo', 'Samuel L. Jackson & Scarlett Johansson @ Captain America: The Winter Soldier': 'Captain America: The Winter Soldier', 'Samuel L. Jackson & Scarlett Johansson @ The Spirit': 'The Spirit', 'Vin Diesel & Samuel L. Jackson @ xXx': 'xXx', 'Will Ferrell & Samuel L. Jackson @ The Other Guys': 'The Other Guys', 'Willem Dafoe & Samuel L. Jackson @ xXx: State of the Union': 'xXx: State of the Union', 'Angelina Jolie & Robert De Niro @ Shark Tale': 'Shark Tale', 'Anne Hathaway & Robert De Niro @ The Intern': 'The Intern', 'Ben Stiller & Robert De Niro @ Little Fockers': 'Little Fockers', 'Ben Stiller & Robert De Niro @ Meet the Fockers': 'Meet the Fockers', 'Ben Stiller & Robert De Niro @ Meet the Parents': 'Meet the Parents', 'Bradley Cooper & Robert De Niro @ Limitless': 'Limitless', 'Bradley Cooper & Robert De Niro @ Silver Linings Playbook': 'Silver Linings Playbook', 'Bruce Willis & Robert De Niro @ What Just Happened': 'What Just Happened', 'Robert De Niro & Charlize Theron @ 15 Minutes': '15 Minutes', 'Robert De Niro & Charlize Theron @ Men of Honor': 'Men of Honor', 'Clive Owen & Robert De Niro @ Killer Elite': 'Killer Elite', 'Eddie Murphy & Robert De Niro @ Showtime': 'Showtime', 'Jack Black & Robert De Niro @ Shark Tale': 'Shark Tale', 'James Franco & Robert De Niro @ City By The Sea': 'City By The Sea', 'Jason Statham & Robert De Niro @ Killer Elite': 'Killer Elite', 'Jessica Alba & Robert De Niro @ Machete': 'Machete', 'Morgan Freeman & Robert De Niro @ Last Vegas': 'Last Vegas', 'Owen Wilson & Robert De Niro @ Little Fockers': 'Little Fockers', 'Owen Wilson & Robert De Niro @ Meet the Parents': 'Meet the Parents', 'Robert De Niro & Sylvester Stallone @ Grudge Match': 'Grudge Match', 'Will Smith & Robert De Niro @ Shark Tale': 'Shark Tale', 'Matt Damon & Alec Baldwin @ The Good Shepherd': 'The Good Shepherd', 'Matt Damon & Angelina Jolie @ The Good Shepherd': 'The Good Shepherd', \"Brad Pitt & Matt Damon @ Ocean's Eleven\": \"Ocean's Eleven\", \"Brad Pitt & Matt Damon @ Ocean's Thirteen\": \"Ocean's Thirteen\", 'Matt Damon & Brendan Gleeson @ Green Zone': 'Green Zone', 'Matt Damon & Cate Blanchett @ The Monuments Men': 'The Monuments Men', 'Matt Damon & Charlize Theron @ The Legend of Bagger Vance': 'The Legend of Bagger Vance', 'Clive Owen & Matt Damon @ The Bourne Identity': 'The Bourne Identity', 'Matt Damon & Drew Barrymore @ Titan A.E.': 'Titan A.E.', 'Matt Damon & George Clooney @ The Monuments Men': 'The Monuments Men', \"Matt Damon & George Clooney @ Ocean's Eleven\": \"Ocean's Eleven\", 'Matt Damon & George Clooney @ Syriana': 'Syriana', \"Matt Damon & George Clooney @ Ocean's Thirteen\": \"Ocean's Thirteen\", 'Matt Damon & John Goodman @ The Monuments Men': 'The Monuments Men', 'Matt Damon & Josh Brolin @ True Grit': 'True Grit', 'Jude Law & Matt Damon @ Contagion': 'Contagion', \"Matt Damon & Julia Roberts @ Ocean's Eleven\": \"Ocean's Eleven\", 'Matt Damon & Kate Winslet @ Contagion': 'Contagion', 'Matt Damon & Leonardo DiCaprio @ The Departed': 'The Departed', 'Matt Damon & Mark Wahlberg @ The Departed': 'The Departed', 'Matt Damon & Morgan Freeman @ Invictus': 'Invictus', 'Matt Damon & Scarlett Johansson @ We Bought a Zoo': 'We Bought a Zoo', 'Will Smith & Matt Damon @ The Legend of Bagger Vance': 'The Legend of Bagger Vance', 'Ben Kingsley & Bruce Willis @ Lucky Number Slevin': 'Lucky Number Slevin', 'Bruce Willis & Cate Blanchett @ Bandits': 'Bandits', \"Bruce Willis & Colin Farrell @ Hart's War\": \"Hart's War\", 'Bruce Willis & Jason Statham @ The Expendables 2': 'The Expendables 2', 'Justin Long & Bruce Willis @ Live Free or Die Hard': 'Live Free or Die Hard', 'Bruce Willis & Morgan Freeman @ Lucky Number Slevin': 'Lucky Number Slevin', 'Bruce Willis & Rosario Dawson @ Fire with Fire': 'Fire with Fire', 'Bruce Willis & Seann William Scott @ Cop Out': 'Cop Out', 'Steve Carell & Bruce Willis @ Over the Hedge': 'Over the Hedge', 'Bruce Willis & Sylvester Stallone @ The Expendables 2': 'The Expendables 2', 'Bruce Willis & Zooey Deschanel @ Rock the Kasbah': 'Rock the Kasbah', 'Amy Adams & Mark Wahlberg @ The Fighter': 'The Fighter', 'Mark Wahlberg & Charlize Theron @ The Italian Job': 'The Italian Job', 'Mark Wahlberg & Christian Bale @ The Fighter': 'The Fighter', 'Mark Wahlberg & Denzel Washington @ 2 Guns': '2 Guns', 'Mark Wahlberg & Dwayne Johnson @ The Other Guys': 'The Other Guys', 'Mark Wahlberg & Dwayne Johnson @ Pain & Gain': 'Pain & Gain', 'Mark Wahlberg & George Clooney @ The Perfect Storm': 'The Perfect Storm', 'Mark Wahlberg & Helena Bonham Carter @ Planet of the Apes': 'Planet of the Apes', 'Jason Statham & Mark Wahlberg @ The Italian Job': 'The Italian Job', 'Mark Wahlberg & Jennifer Aniston @ Rock Star': 'Rock Star', 'John Goodman & Mark Wahlberg @ The Gambler': 'The Gambler', 'Mark Wahlberg & Leonardo DiCaprio @ The Departed': 'The Departed', 'Rachel Weisz & Mark Wahlberg @ The Lovely Bones': 'The Lovely Bones', 'Russell Crowe & Mark Wahlberg @ Broken City': 'Broken City', 'Steve Carell & Mark Wahlberg @ Date Night': 'Date Night', \"Will Ferrell & Mark Wahlberg @ Daddy's Home\": \"Daddy's Home\", 'Will Ferrell & Mark Wahlberg @ The Other Guys': 'The Other Guys', 'Mark Wahlberg & Zooey Deschanel @ The Happening': 'The Happening', 'Amy Adams & Owen Wilson @ Night at the Museum: Battle of the Smithsonian': 'Night at the Museum: Battle of the Smithsonian', 'Ben Stiller & Owen Wilson @ Night at the Museum: Secret of the Tomb': 'Night at the Museum: Secret of the Tomb', 'Ben Stiller & Owen Wilson @ Night at the Museum: Battle of the Smithsonian': 'Night at the Museum: Battle of the Smithsonian', 'Ben Stiller & Owen Wilson @ Little Fockers': 'Little Fockers', 'Ben Stiller & Owen Wilson @ Zoolander': 'Zoolander', 'Ben Stiller & Owen Wilson @ Starsky & Hutch': 'Starsky & Hutch', 'Ben Stiller & Owen Wilson @ Meet the Parents': 'Meet the Parents', 'Owen Wilson & Cate Blanchett @ The Life Aquatic with Steve Zissou': 'The Life Aquatic with Steve Zissou', 'Owen Wilson & Eddie Murphy @ I Spy': 'I Spy', 'Emma Stone & Owen Wilson @ Marmaduke': 'Marmaduke', 'Jack Black & Owen Wilson @ The Big Year': 'The Big Year', 'Owen Wilson & Jennifer Aniston @ Marley & Me': 'Marley & Me', 'Josh Brolin & Owen Wilson @ Inherent Vice': 'Inherent Vice', 'Owen Wilson & Michael Caine @ Cars 2': 'Cars 2', 'Owen Wilson & Morgan Freeman @ The Big Bounce': 'The Big Bounce', 'Paul Rudd & Owen Wilson @ How Do You Know': 'How Do You Know', 'Owen Wilson & Reese Witherspoon @ Inherent Vice': 'Inherent Vice', 'Owen Wilson & Reese Witherspoon @ How Do You Know': 'How Do You Know', 'Owen Wilson & Robin Williams @ Night at the Museum: Secret of the Tomb': 'Night at the Museum: Secret of the Tomb', 'Owen Wilson & Robin Williams @ Night at the Museum: Battle of the Smithsonian': 'Night at the Museum: Battle of the Smithsonian', 'Seth Rogen & Owen Wilson @ You, Me and Dupree': 'You, Me and Dupree', 'Owen Wilson & Vince Vaughn @ The Internship': 'The Internship', 'Owen Wilson & Vince Vaughn @ Wedding Crashers': 'Wedding Crashers', 'Owen Wilson & Vince Vaughn @ Starsky & Hutch': 'Starsky & Hutch', 'Owen Wilson & Will Ferrell @ Zoolander': 'Zoolander', 'Owen Wilson & Willem Dafoe @ The Life Aquatic with Steve Zissou': 'The Life Aquatic with Steve Zissou', 'Owen Wilson & Woody Harrelson @ Free Birds': 'Free Birds', 'Ewan McGregor & Channing Tatum @ Haywire': 'Haywire', 'Ewan McGregor & George Clooney @ The Men Who Stare at Goats': 'The Men Who Stare at Goats', 'Ewan McGregor & Helena Bonham Carter @ Big Fish': 'Big Fish', 'Hugh Jackman & Ewan McGregor @ Deception': 'Deception', 'Jim Carrey & Ewan McGregor @ I Love You Phillip Morris': 'I Love You Phillip Morris', 'Johnny Depp & Ewan McGregor @ Mortdecai': 'Mortdecai', 'Julia Roberts & Ewan McGregor @ August: Osage County': 'August: Osage County', 'Meryl Streep & Ewan McGregor @ August: Osage County': 'August: Osage County', 'Naomi Watts & Ewan McGregor @ Lo imposible': 'Lo imposible', 'Naomi Watts & Ewan McGregor @ Stay': 'Stay', 'Nicole Kidman & Ewan McGregor @ Moulin Rouge!': 'Moulin Rouge!', 'Paul Bettany & Ewan McGregor @ Mortdecai': 'Mortdecai', 'Ewan McGregor & Robin Williams @ Robots': 'Robots', 'Ewan McGregor & Scarlett Johansson @ The Island': 'The Island', 'Steve Buscemi & Ewan McGregor @ The Island': 'The Island', 'Tom Hanks & Ewan McGregor @ Angels & Demons': 'Angels & Demons', 'Johnny Depp & Aaron Eckhart @ The Rum Diary': 'The Rum Diary', 'Johnny Depp & Angelina Jolie @ The Tourist': 'The Tourist', 'Johnny Depp & Anne Hathaway @ Alice in Wonderland': 'Alice in Wonderland', 'Bill Nighy & Johnny Depp @ Rango': 'Rango', \"Bill Nighy & Johnny Depp @ Pirates of the Caribbean: Dead Man's Chest\": \"Pirates of the Caribbean: Dead Man's Chest\", \"Bill Nighy & Johnny Depp @ Pirates of the Caribbean: At World's End\": \"Pirates of the Caribbean: At World's End\", 'Johnny Depp & Christian Bale @ Public Enemies': 'Public Enemies', 'Johnny Depp & Helena Bonham Carter @ Alice in Wonderland': 'Alice in Wonderland', 'Johnny Depp & Helena Bonham Carter @ Dark Shadows': 'Dark Shadows', 'Johnny Depp & Helena Bonham Carter @ The Lone Ranger': 'The Lone Ranger', 'Johnny Depp & Helena Bonham Carter @ Charlie and the Chocolate Factory': 'Charlie and the Chocolate Factory', 'Johnny Depp & Helena Bonham Carter @ Corpse Bride': 'Corpse Bride', 'Johnny Depp & Helena Bonham Carter @ Sweeney Todd: The Demon Barber of Fleet Street': 'Sweeney Todd: The Demon Barber of Fleet Street', 'Johnny Depp & Kate Winslet @ Finding Neverland': 'Finding Neverland', 'Johnny Depp & Keira Knightley @ Pirates of the Caribbean: The Curse of the Black Pearl': 'Pirates of the Caribbean: The Curse of the Black Pearl', \"Johnny Depp & Keira Knightley @ Pirates of the Caribbean: Dead Man's Chest\": \"Pirates of the Caribbean: Dead Man's Chest\", \"Johnny Depp & Keira Knightley @ Pirates of the Caribbean: At World's End\": \"Pirates of the Caribbean: At World's End\", 'Johnny Depp & Morgan Freeman @ Transcendence': 'Transcendence', 'Johnny Depp & Paul Bettany @ Mortdecai': 'Mortdecai', 'Johnny Depp & Paul Bettany @ Transcendence': 'Transcendence', 'Johnny Depp & Paul Bettany @ The Tourist': 'The Tourist', 'Brad Pitt & Jason Statham @ Snatch': 'Snatch', 'Jason Statham & Charlize Theron @ The Italian Job': 'The Italian Job', 'Chris Evans & Jason Statham @ Cellular': 'Cellular', 'Clive Owen & Jason Statham @ Killer Elite': 'Killer Elite', 'Jason Statham & Dwayne Johnson @ Furious 7': 'Furious 7', 'Harrison Ford & Jason Statham @ The Expendables 3': 'The Expendables 3', 'James Franco & Jason Statham @ Homefront': 'Homefront', 'Jason Statham & Jennifer Lopez @ Parker': 'Parker', 'Mark Wahlberg & Jason Statham @ The Italian Job': 'The Italian Job', 'Paul Walker & Jason Statham @ Furious 7': 'Furious 7', 'Jason Statham & Sylvester Stallone @ The Expendables 3': 'The Expendables 3', 'Jason Statham & Sylvester Stallone @ The Expendables': 'The Expendables', 'Jason Statham & Sylvester Stallone @ The Expendables 2': 'The Expendables 2', 'Vin Diesel & Jason Statham @ Furious 7': 'Furious 7', 'James Franco & Charlize Theron @ In the Valley of Elah': 'In the Valley of Elah', 'Jonah Hill & James Franco @ This Is the End': 'This Is the End', 'Josh Brolin & James Franco @ Milk': 'Milk', 'James Franco & Julia Roberts @ Eat Pray Love': 'Eat Pray Love', 'Paul Rudd & James Franco @ The Little Prince': 'The Little Prince', 'Rachel Weisz & James Franco @ Oz: The Great and Powerful': 'Oz: The Great and Powerful', 'Seth Rogen & James Franco @ The Interview': 'The Interview', 'Seth Rogen & James Franco @ Pineapple Express': 'Pineapple Express', 'Seth Rogen & James Franco @ This Is the End': 'This Is the End', 'Willem Dafoe & James Franco @ Spider-Man': 'Spider-Man', 'James Franco & Zooey Deschanel @ Your Highness': 'Your Highness', 'Brad Pitt & Angelina Jolie @ Mr. & Mrs. Smith': 'Mr. & Mrs. Smith', 'Brad Pitt & Cate Blanchett @ The Curious Case of Benjamin Button': 'The Curious Case of Benjamin Button', 'Brad Pitt & Cate Blanchett @ Babel': 'Babel', 'Brad Pitt & Christian Bale @ The Big Short': 'The Big Short', 'Brad Pitt & Drew Barrymore @ Confessions of a Dangerous Mind': 'Confessions of a Dangerous Mind', \"Brad Pitt & George Clooney @ Ocean's Eleven\": \"Ocean's Eleven\", 'Brad Pitt & George Clooney @ Burn After Reading': 'Burn After Reading', \"Brad Pitt & George Clooney @ Ocean's Twelve\": \"Ocean's Twelve\", \"Brad Pitt & George Clooney @ Ocean's Thirteen\": \"Ocean's Thirteen\", 'Brad Pitt & Jonah Hill @ Megamind': 'Megamind', 'Brad Pitt & Jonah Hill @ Moneyball': 'Moneyball', \"Brad Pitt & Julia Roberts @ Ocean's Eleven\": \"Ocean's Eleven\", 'Brad Pitt & Julia Roberts @ The Mexican': 'The Mexican', 'Brad Pitt & Julia Roberts @ Confessions of a Dangerous Mind': 'Confessions of a Dangerous Mind', \"Brad Pitt & Julia Roberts @ Ocean's Twelve\": \"Ocean's Twelve\", 'Brad Pitt & Steve Carell @ The Big Short': 'The Big Short', 'Brad Pitt & Vince Vaughn @ Mr. & Mrs. Smith': 'Mr. & Mrs. Smith', 'Brad Pitt & Will Ferrell @ Megamind': 'Megamind', \"Alec Baldwin & Cameron Diaz @ My Sister's Keeper\": \"My Sister's Keeper\", 'Cameron Diaz & Brendan Gleeson @ Gangs of New York': 'Gangs of New York', \"Cameron Diaz & Drew Barrymore @ Charlie's Angels: Full Throttle\": \"Charlie's Angels: Full Throttle\", \"Cameron Diaz & Drew Barrymore @ Charlie's Angels\": \"Charlie's Angels\", 'Eddie Murphy & Cameron Diaz @ Shrek Forever After': 'Shrek Forever After', 'Eddie Murphy & Cameron Diaz @ Shrek': 'Shrek', 'Eddie Murphy & Cameron Diaz @ Shrek 2': 'Shrek 2', 'Eddie Murphy & Cameron Diaz @ Shrek the Third': 'Shrek the Third', \"Cameron Diaz & Elizabeth Banks @ What to Expect When You're Expecting\": \"What to Expect When You're Expecting\", 'Jack Black & Cameron Diaz @ The Holiday': 'The Holiday', 'Jamie Foxx & Cameron Diaz @ Annie': 'Annie', 'Cameron Diaz & Jason Bateman @ The Sweetest Thing': 'The Sweetest Thing', \"Cameron Diaz & Jennifer Lopez @ What to Expect When You're Expecting\": \"What to Expect When You're Expecting\", 'Jude Law & Cameron Diaz @ The Holiday': 'The Holiday', 'Kate Winslet & Cameron Diaz @ The Holiday': 'The Holiday', 'Cameron Diaz & Leonardo DiCaprio @ Gangs of New York': 'Gangs of New York', 'Liam Neeson & Cameron Diaz @ Gangs of New York': 'Gangs of New York', 'Seth Rogen & Cameron Diaz @ The Green Hornet': 'The Green Hornet', 'Tom Cruise & Cameron Diaz @ Knight and Day': 'Knight and Day', 'Tom Cruise & Cameron Diaz @ Vanilla Sky': 'Vanilla Sky', 'Ben Stiller & Alec Baldwin @ Along Came Polly': 'Along Came Polly', 'Amy Adams & Ben Stiller @ Night at the Museum: Battle of the Smithsonian': 'Night at the Museum: Battle of the Smithsonian', 'Ben Stiller & Eddie Murphy @ Tower Heist': 'Tower Heist', 'Jack Black & Ben Stiller @ Tropic Thunder': 'Tropic Thunder', 'Ben Stiller & Jennifer Aniston @ Along Came Polly': 'Along Came Polly', 'Justin Long & Ben Stiller @ DodgeBall: A True Underdog Story': 'DodgeBall: A True Underdog Story', \"Naomi Watts & Ben Stiller @ While We're Young\": \"While We're Young\", 'Owen Wilson & Ben Stiller @ Night at the Museum: Secret of the Tomb': 'Night at the Museum: Secret of the Tomb', 'Owen Wilson & Ben Stiller @ Night at the Museum: Battle of the Smithsonian': 'Night at the Museum: Battle of the Smithsonian', 'Owen Wilson & Ben Stiller @ Little Fockers': 'Little Fockers', 'Owen Wilson & Ben Stiller @ Zoolander': 'Zoolander', 'Owen Wilson & Ben Stiller @ Starsky & Hutch': 'Starsky & Hutch', 'Owen Wilson & Ben Stiller @ Meet the Parents': 'Meet the Parents', 'Ben Stiller & Robert Downey Jr. @ Tropic Thunder': 'Tropic Thunder', 'Ben Stiller & Robin Williams @ Night at the Museum: Secret of the Tomb': 'Night at the Museum: Secret of the Tomb', 'Ben Stiller & Robin Williams @ Night at the Museum: Battle of the Smithsonian': 'Night at the Museum: Battle of the Smithsonian', 'Ben Stiller & Robin Williams @ Night at the Museum': 'Night at the Museum', 'Ben Stiller & Vince Vaughn @ DodgeBall: A True Underdog Story': 'DodgeBall: A True Underdog Story', 'Ben Stiller & Vince Vaughn @ Starsky & Hutch': 'Starsky & Hutch', 'Ben Stiller & Will Ferrell @ Zoolander': 'Zoolander', 'Aaron Eckhart & Morgan Freeman @ Olympus Has Fallen': 'Olympus Has Fallen', 'Angelina Jolie & Morgan Freeman @ Wanted': 'Wanted', 'Ben Kingsley & Morgan Freeman @ Lucky Number Slevin': 'Lucky Number Slevin', 'Gerard Butler & Morgan Freeman @ Olympus Has Fallen': 'Olympus Has Fallen', 'Jennifer Lopez & Morgan Freeman @ An Unfinished Life': 'An Unfinished Life', 'Paul Bettany & Morgan Freeman @ Transcendence': 'Transcendence', 'Robert De Niro & Morgan Freeman @ Last Vegas': 'Last Vegas', 'Morgan Freeman & Scarlett Johansson @ Lucy': 'Lucy', 'Tom Cruise & Morgan Freeman @ Oblivion': 'Oblivion', 'Adam Sandler & Drew Barrymore @ Blended': 'Blended', 'Adam Sandler & Drew Barrymore @ 50 First Dates': '50 First Dates', 'Guy Pearce & Adam Sandler @ Bedtime Stories': 'Bedtime Stories', 'Adam Sandler & Jennifer Aniston @ Just Go With It': 'Just Go With It', 'Jonah Hill & Adam Sandler @ Funny People': 'Funny People', 'Adam Sandler & Nicole Kidman @ Just Go With It': 'Just Go With It', 'Seth Rogen & Adam Sandler @ Funny People': 'Funny People', 'Adam Sandler & Steve Buscemi @ Hotel Transylvania 2': 'Hotel Transylvania 2', 'Adam Sandler & Steve Buscemi @ Grown Ups': 'Grown Ups', 'Adam Sandler & Steve Buscemi @ Hotel Transylvania': 'Hotel Transylvania', 'Cate Blanchett & George Clooney @ The Monuments Men': 'The Monuments Men', 'Cate Blanchett & George Clooney @ The Good German': 'The Good German', 'Jason Bateman & George Clooney @ Up in the Air': 'Up in the Air', 'John Goodman & George Clooney @ The Monuments Men': 'The Monuments Men', 'John Goodman & George Clooney @ O Brother, Where Art Thou?': 'O Brother, Where Art Thou?', \"Julia Roberts & George Clooney @ Ocean's Eleven\": \"Ocean's Eleven\", \"Julia Roberts & George Clooney @ Ocean's Twelve\": \"Ocean's Twelve\", 'Meryl Streep & George Clooney @ Fantastic Mr. Fox': 'Fantastic Mr. Fox', 'Paul Giamatti & George Clooney @ The Ides of March': 'The Ides of March', 'Sandra Bullock & George Clooney @ Gravity': 'Gravity', 'Anne Hathaway & Dwayne Johnson @ Get Smart': 'Get Smart', 'Gary Oldman & Dwayne Johnson @ Planet 51': 'Planet 51', 'Justin Long & Dwayne Johnson @ Planet 51': 'Planet 51', 'Paul Walker & Dwayne Johnson @ Furious 7': 'Furious 7', 'Paul Walker & Dwayne Johnson @ Fast Five': 'Fast Five', 'Paul Walker & Dwayne Johnson @ Fast & Furious 6': 'Fast & Furious 6', 'Rosario Dawson & Dwayne Johnson @ The Rundown': 'The Rundown', 'Dwayne Johnson & Seann William Scott @ Planet 51': 'Planet 51', 'Dwayne Johnson & Seann William Scott @ The Rundown': 'The Rundown', 'Steve Carell & Dwayne Johnson @ Get Smart': 'Get Smart', 'Vin Diesel & Dwayne Johnson @ Furious 7': 'Furious 7', 'Vin Diesel & Dwayne Johnson @ Fast Five': 'Fast Five', 'Vin Diesel & Dwayne Johnson @ Fast & Furious 6': 'Fast & Furious 6', 'Will Ferrell & Dwayne Johnson @ The Other Guys': 'The Other Guys', \"Alec Baldwin & Meryl Streep @ It's Complicated\": \"It's Complicated\", 'Amy Adams & Meryl Streep @ Julie & Julia': 'Julie & Julia', 'Amy Adams & Meryl Streep @ Doubt': 'Doubt', 'Meryl Streep & Anne Hathaway @ The Devil Wears Prada': 'The Devil Wears Prada', 'Meryl Streep & Brendan Gleeson @ Suffragette': 'Suffragette', 'Meryl Streep & Denzel Washington @ The Manchurian Candidate': 'The Manchurian Candidate', 'Meryl Streep & Helena Bonham Carter @ Suffragette': 'Suffragette', \"Jim Carrey & Meryl Streep @ Lemony Snicket's A Series of Unfortunate Events\": \"Lemony Snicket's A Series of Unfortunate Events\", \"Jude Law & Meryl Streep @ Lemony Snicket's A Series of Unfortunate Events\": \"Lemony Snicket's A Series of Unfortunate Events\", 'Meryl Streep & Julia Roberts @ August: Osage County': 'August: Osage County', 'Meryl Streep & Julia Roberts @ The Ant Bully': 'The Ant Bully', 'Meryl Streep & Julianne Moore @ The Hours': 'The Hours', 'Nicolas Cage & Meryl Streep @ Adaptation.': 'Adaptation.', 'Nicolas Cage & Meryl Streep @ The Ant Bully': 'The Ant Bully', 'Meryl Streep & Nicole Kidman @ The Hours': 'The Hours', 'Meryl Streep & Paul Giamatti @ The Ant Bully': 'The Ant Bully', 'Steve Carell & Meryl Streep @ Hope Springs': 'Hope Springs', 'Tom Cruise & Meryl Streep @ Lions for Lambs': 'Lions for Lambs', 'Alec Baldwin & Angelina Jolie @ The Good Shepherd': 'The Good Shepherd', 'Colin Farrell & Angelina Jolie @ Alexander': 'Alexander', 'Daniel Craig & Angelina Jolie @ Lara Croft: Tomb Raider': 'Lara Croft: Tomb Raider', 'Gary Oldman & Angelina Jolie @ Kung Fu Panda 2': 'Kung Fu Panda 2', 'Gerard Butler & Angelina Jolie @ Lara Croft Tomb Raider: The Cradle of Life': 'Lara Croft Tomb Raider: The Cradle of Life', 'Jack Black & Angelina Jolie @ Kung Fu Panda': 'Kung Fu Panda', 'Jack Black & Angelina Jolie @ Kung Fu Panda 2': 'Kung Fu Panda 2', 'Jack Black & Angelina Jolie @ Shark Tale': 'Shark Tale', 'Jude Law & Angelina Jolie @ Sky Captain and the World of Tomorrow': 'Sky Captain and the World of Tomorrow', 'Morgan Freeman & Angelina Jolie @ Wanted': 'Wanted', 'Paul Bettany & Angelina Jolie @ The Tourist': 'The Tourist', 'Robert De Niro & Angelina Jolie @ Shark Tale': 'Shark Tale', 'Vince Vaughn & Angelina Jolie @ Mr. & Mrs. Smith': 'Mr. & Mrs. Smith', 'Will Smith & Angelina Jolie @ Shark Tale': 'Shark Tale', 'Steve Carell & Anne Hathaway @ Get Smart': 'Get Smart', 'Bruce Willis & Steve Carell @ Over the Hedge': 'Over the Hedge', 'Steve Carell & Channing Tatum @ Foxcatcher': 'Foxcatcher', 'Steve Carell & Christian Bale @ The Big Short': 'The Big Short', 'Emma Stone & Steve Carell @ Crazy, Stupid, Love.': 'Crazy, Stupid, Love.', 'Jim Carrey & Steve Carell @ Horton Hears a Who!': 'Horton Hears a Who!', 'Jim Carrey & Steve Carell @ The Incredible Burt Wonderstone': 'The Incredible Burt Wonderstone', 'John Goodman & Steve Carell @ Evan Almighty': 'Evan Almighty', 'Steve Carell & Julianne Moore @ Crazy, Stupid, Love.': 'Crazy, Stupid, Love.', 'Mark Ruffalo & Steve Carell @ Foxcatcher': 'Foxcatcher', 'Meryl Streep & Steve Carell @ Hope Springs': 'Hope Springs', 'Paul Rudd & Steve Carell @ Dinner for Schmucks': 'Dinner for Schmucks', 'Paul Rudd & Steve Carell @ Anchorman 2: The Legend Continues': 'Anchorman 2: The Legend Continues', 'Paul Rudd & Steve Carell @ The 40 Year Old Virgin': 'The 40 Year Old Virgin', 'Paul Rudd & Steve Carell @ Anchorman: The Legend of Ron Burgundy': 'Anchorman: The Legend of Ron Burgundy', 'Seth Rogen & Steve Carell @ Horton Hears a Who!': 'Horton Hears a Who!', 'Seth Rogen & Steve Carell @ The 40 Year Old Virgin': 'The 40 Year Old Virgin', 'Steve Carell & Steve Buscemi @ The Incredible Burt Wonderstone': 'The Incredible Burt Wonderstone', 'Will Ferrell & Steve Carell @ Anchorman 2: The Legend Continues': 'Anchorman 2: The Legend Continues', 'Will Ferrell & Steve Carell @ Anchorman: The Legend of Ron Burgundy': 'Anchorman: The Legend of Ron Burgundy', 'Ben Affleck & Colin Farrell @ Daredevil': 'Daredevil', 'Bill Nighy & Colin Farrell @ Total Recall': 'Total Recall', 'Colin Farrell & Brendan Gleeson @ In Bruges': 'In Bruges', 'Jamie Foxx & Colin Farrell @ Miami Vice': 'Miami Vice', 'Jason Bateman & Colin Farrell @ Horrible Bosses': 'Horrible Bosses', 'Colin Farrell & Jennifer Aniston @ Horrible Bosses': 'Horrible Bosses', 'Colin Farrell & Keira Knightley @ London Boulevard': 'London Boulevard', 'Paul Giamatti & Colin Farrell @ Saving Mr. Banks': 'Saving Mr. Banks', 'Ralph Fiennes & Colin Farrell @ In Bruges': 'In Bruges', \"Russell Crowe & Colin Farrell @ Winter's Tale\": \"Winter's Tale\", 'Tom Cruise & Colin Farrell @ Minority Report': 'Minority Report', 'Tom Hanks & Colin Farrell @ Saving Mr. Banks': 'Saving Mr. Banks', 'Colin Farrell & Woody Harrelson @ Seven Psychopaths': 'Seven Psychopaths', 'Alec Baldwin & Cate Blanchett @ Blue Jasmine': 'Blue Jasmine', 'Alec Baldwin & Cate Blanchett @ The Aviator': 'The Aviator', 'Bill Nighy & Cate Blanchett @ Notes on a Scandal': 'Notes on a Scandal', 'Clive Owen & Cate Blanchett @ Elizabeth: The Golden Age': 'Elizabeth: The Golden Age', 'George Clooney & Cate Blanchett @ The Monuments Men': 'The Monuments Men', 'George Clooney & Cate Blanchett @ The Good German': 'The Good German', 'Gerard Butler & Cate Blanchett @ How to Train Your Dragon 2': 'How to Train Your Dragon 2', 'Harrison Ford & Cate Blanchett @ Indiana Jones and the Kingdom of the Crystal Skull': 'Indiana Jones and the Kingdom of the Crystal Skull', 'Cate Blanchett & Helena Bonham Carter @ Cinderella': 'Cinderella', 'John Goodman & Cate Blanchett @ The Monuments Men': 'The Monuments Men', 'Jonah Hill & Cate Blanchett @ How to Train Your Dragon 2': 'How to Train Your Dragon 2', \"Julianne Moore & Cate Blanchett @ I'm Not There.\": \"I'm Not There.\", 'Keanu Reeves & Cate Blanchett @ The Gift': 'The Gift', 'Cate Blanchett & Leonardo DiCaprio @ The Aviator': 'The Aviator', 'Russell Crowe & Cate Blanchett @ Robin Hood': 'Robin Hood', 'Willem Dafoe & Cate Blanchett @ The Life Aquatic with Steve Zissou': 'The Life Aquatic with Steve Zissou', 'Aaron Eckhart & Christian Bale @ The Dark Knight': 'The Dark Knight', 'Amy Adams & Christian Bale @ The Fighter': 'The Fighter', 'Amy Adams & Christian Bale @ American Hustle': 'American Hustle', 'Anne Hathaway & Christian Bale @ The Dark Knight Rises': 'The Dark Knight Rises', 'Bradley Cooper & Christian Bale @ American Hustle': 'American Hustle', 'Gary Oldman & Christian Bale @ The Dark Knight': 'The Dark Knight', 'Gary Oldman & Christian Bale @ The Dark Knight Rises': 'The Dark Knight Rises', 'Gary Oldman & Christian Bale @ Batman Begins': 'Batman Begins', 'Gerard Butler & Christian Bale @ Reign of Fire': 'Reign of Fire', 'Hugh Jackman & Christian Bale @ The Prestige': 'The Prestige', 'Liam Neeson & Christian Bale @ Batman Begins': 'Batman Begins', 'Christian Bale & Matthew McConaughey @ Reign of Fire': 'Reign of Fire', 'Michael Caine & Christian Bale @ The Dark Knight': 'The Dark Knight', 'Michael Caine & Christian Bale @ The Dark Knight Rises': 'The Dark Knight Rises', 'Michael Caine & Christian Bale @ Batman Begins': 'Batman Begins', 'Michael Caine & Christian Bale @ The Prestige': 'The Prestige', 'Russell Crowe & Christian Bale @ 3:10 to Yuma': '3:10 to Yuma', 'Christian Bale & Scarlett Johansson @ The Prestige': 'The Prestige', 'Willem Dafoe & Christian Bale @ Out of the Furnace': 'Out of the Furnace', 'Willem Dafoe & Christian Bale @ American Psycho': 'American Psycho', 'Christian Bale & Woody Harrelson @ Out of the Furnace': 'Out of the Furnace', 'Gary Oldman & Anne Hathaway @ The Dark Knight Rises': 'The Dark Knight Rises', 'Anne Hathaway & Helena Bonham Carter @ Alice in Wonderland': 'Alice in Wonderland', 'Hugh Jackman & Anne Hathaway @ Les MisÃ©rables': 'Les MisÃ©rables', 'Anne Hathaway & Jake Gyllenhaal @ Love & Other Drugs': 'Love & Other Drugs', 'Anne Hathaway & Jake Gyllenhaal @ Brokeback Mountain': 'Brokeback Mountain', 'Jamie Foxx & Anne Hathaway @ Rio 2': 'Rio 2', 'Anne Hathaway & Matthew McConaughey @ Interstellar': 'Interstellar', 'Michael Caine & Anne Hathaway @ Interstellar': 'Interstellar', 'Michael Caine & Anne Hathaway @ The Dark Knight Rises': 'The Dark Knight Rises', 'Russell Crowe & Anne Hathaway @ Les MisÃ©rables': 'Les MisÃ©rables', 'Dennis Quaid & Bradley Cooper @ The Words': 'The Words', 'Dennis Quaid & Channing Tatum @ G.I. Joe: The Rise of Cobra': 'G.I. Joe: The Rise of Cobra', 'Dennis Quaid & Jake Gyllenhaal @ The Day After Tomorrow': 'The Day After Tomorrow', 'Dennis Quaid & Julianne Moore @ Far from Heaven': 'Far from Heaven', 'Paul Bettany & Dennis Quaid @ Legion': 'Legion', 'Willem Dafoe & Dennis Quaid @ American Dreamz': 'American Dreamz', 'Bill Nighy & Liam Neeson @ Love Actually': 'Love Actually', 'Liam Neeson & Bradley Cooper @ The A-Team': 'The A-Team', 'Liam Neeson & Brendan Gleeson @ Gangs of New York': 'Gangs of New York', 'Gary Oldman & Liam Neeson @ Batman Begins': 'Batman Begins', 'Liam Neeson & Harrison Ford @ K-19: The Widowmaker': 'K-19: The Widowmaker', 'Liam Neeson & Julianne Moore @ Non-Stop': 'Non-Stop', 'Liam Neeson & Julianne Moore @ Chloe': 'Chloe', 'Liam Neeson & Leonardo DiCaprio @ Gangs of New York': 'Gangs of New York', 'Liam Neeson & Michael Caine @ Batman Begins': 'Batman Begins', 'Liam Neeson & Ralph Fiennes @ Clash of the Titans': 'Clash of the Titans', 'Liam Neeson & Ralph Fiennes @ Wrath of the Titans': 'Wrath of the Titans', 'Liam Neeson & Steve Buscemi @ Khumba': 'Khumba', 'Alec Baldwin & Hugh Jackman @ Rise of the Guardians': 'Rise of the Guardians', 'Bill Nighy & Hugh Jackman @ Flushed Away': 'Flushed Away', 'Hugh Jackman & Jake Gyllenhaal @ Prisoners': 'Prisoners', 'Jude Law & Hugh Jackman @ Rise of the Guardians': 'Rise of the Guardians', 'Kate Winslet & Hugh Jackman @ Flushed Away': 'Flushed Away', 'Hugh Jackman & Michael Caine @ The Prestige': 'The Prestige', 'Hugh Jackman & Nicole Kidman @ Australia': 'Australia', 'Rachel Weisz & Hugh Jackman @ The Fountain': 'The Fountain', 'Hugh Jackman & Russell Crowe @ Les MisÃ©rables': 'Les MisÃ©rables', 'Hugh Jackman & Ryan Reynolds @ X-Men Origins: Wolverine': 'X-Men Origins: Wolverine', 'Hugh Jackman & Scarlett Johansson @ The Prestige': 'The Prestige', 'Aaron Eckhart & Jennifer Aniston @ Love Happens': 'Love Happens', 'Alec Baldwin & Jennifer Aniston @ Along Came Polly': 'Along Came Polly', \"Ben Affleck & Jennifer Aniston @ He's Just Not That Into You\": \"He's Just Not That Into You\", 'Clive Owen & Jennifer Aniston @ Derailed': 'Derailed', \"Drew Barrymore & Jennifer Aniston @ He's Just Not That Into You\": \"He's Just Not That Into You\", 'Gerard Butler & Jennifer Aniston @ The Bounty Hunter': 'The Bounty Hunter', 'Jake Gyllenhaal & Jennifer Aniston @ The Good Girl': 'The Good Girl', 'Jason Bateman & Jennifer Aniston @ Horrible Bosses 2': 'Horrible Bosses 2', 'Jason Bateman & Jennifer Aniston @ The Switch': 'The Switch', 'Jason Bateman & Jennifer Aniston @ Horrible Bosses': 'Horrible Bosses', 'Jim Carrey & Jennifer Aniston @ Bruce Almighty': 'Bruce Almighty', 'Mark Ruffalo & Jennifer Aniston @ Rumor Has It...': 'Rumor Has It...', 'Nicole Kidman & Jennifer Aniston @ Just Go With It': 'Just Go With It', 'Paul Rudd & Jennifer Aniston @ Wanderlust': 'Wanderlust', 'Vince Vaughn & Jennifer Aniston @ The Break-Up': 'The Break-Up', 'Zooey Deschanel & Jennifer Aniston @ The Good Girl': 'The Good Girl', 'Amy Adams & Russell Crowe @ Man of Steel': 'Man of Steel', 'Anne Hathaway & Russell Crowe @ Les MisÃ©rables': 'Les MisÃ©rables', 'Ben Affleck & Russell Crowe @ State of Play': 'State of Play', \"Colin Farrell & Russell Crowe @ Winter's Tale\": \"Winter's Tale\", 'Russell Crowe & Denzel Washington @ American Gangster': 'American Gangster', 'Russell Crowe & Elizabeth Banks @ The Next Three Days': 'The Next Three Days', 'Jason Bateman & Russell Crowe @ State of Play': 'State of Play', 'Josh Brolin & Russell Crowe @ American Gangster': 'American Gangster', 'Russell Crowe & Leonardo DiCaprio @ Body of Lies': 'Body of Lies', 'Mark Wahlberg & Russell Crowe @ Broken City': 'Broken City', 'Paul Bettany & Russell Crowe @ A Beautiful Mind': 'A Beautiful Mind', 'Paul Bettany & Russell Crowe @ Master and Commander: The Far Side of the World': 'Master and Commander: The Far Side of the World', 'Paul Giamatti & Russell Crowe @ Cinderella Man': 'Cinderella Man', 'Brendan Gleeson & Denzel Washington @ Safe House': 'Safe House', 'Brendan Gleeson & Helena Bonham Carter @ Suffragette': 'Suffragette', 'Jude Law & Brendan Gleeson @ Cold Mountain': 'Cold Mountain', 'Brendan Gleeson & Leonardo DiCaprio @ Gangs of New York': 'Gangs of New York', 'Nicole Kidman & Brendan Gleeson @ Cold Mountain': 'Cold Mountain', 'Ralph Fiennes & Brendan Gleeson @ In Bruges': 'In Bruges', 'Ryan Reynolds & Brendan Gleeson @ Safe House': 'Safe House', 'Tom Cruise & Brendan Gleeson @ Edge of Tomorrow': 'Edge of Tomorrow', 'Jonah Hill & Will Ferrell @ Megamind': 'Megamind', 'Will Ferrell & Michael Caine @ Bewitched': 'Bewitched', 'Will Ferrell & Nicole Kidman @ Bewitched': 'Bewitched', 'Paul Rudd & Will Ferrell @ Anchorman 2: The Legend Continues': 'Anchorman 2: The Legend Continues', 'Paul Rudd & Will Ferrell @ Anchorman: The Legend of Ron Burgundy': 'Anchorman: The Legend of Ron Burgundy', 'Steve Carell & Will Ferrell @ Anchorman 2: The Legend Continues': 'Anchorman 2: The Legend Continues', 'Steve Carell & Will Ferrell @ Anchorman: The Legend of Ron Burgundy': 'Anchorman: The Legend of Ron Burgundy', 'Vince Vaughn & Will Ferrell @ Old School': 'Old School', 'Will Ferrell & Zooey Deschanel @ Elf': 'Elf', 'Amy Adams & Bradley Cooper @ American Hustle': 'American Hustle', 'Christian Bale & Bradley Cooper @ American Hustle': 'American Hustle', 'Emma Stone & Bradley Cooper @ Aloha': 'Aloha', \"Jessica Alba & Bradley Cooper @ Valentine's Day\": \"Valentine's Day\", 'Bradley Cooper & Matthew McConaughey @ Failure to Launch': 'Failure to Launch', 'Robert De Niro & Bradley Cooper @ Limitless': 'Limitless', 'Robert De Niro & Bradley Cooper @ Silver Linings Playbook': 'Silver Linings Playbook', 'Sandra Bullock & Bradley Cooper @ All About Steve': 'All About Steve', 'Vin Diesel & Bradley Cooper @ Guardians of the Galaxy': 'Guardians of the Galaxy', 'Bradley Cooper & Zooey Deschanel @ Failure to Launch': 'Failure to Launch', 'Aaron Eckhart & Paul Giamatti @ Paycheck': 'Paycheck', 'Ben Affleck & Paul Giamatti @ Paycheck': 'Paycheck', 'Chris Evans & Paul Giamatti @ The Nanny Diaries': 'The Nanny Diaries', 'Clive Owen & Paul Giamatti @ Duplicity': 'Duplicity', \"Clive Owen & Paul Giamatti @ Shoot 'Em Up\": \"Shoot 'Em Up\", 'Colin Farrell & Paul Giamatti @ Saving Mr. Banks': 'Saving Mr. Banks', 'Julia Roberts & Paul Giamatti @ Duplicity': 'Duplicity', 'Julia Roberts & Paul Giamatti @ The Ant Bully': 'The Ant Bully', 'Rachel Weisz & Paul Giamatti @ Fred Claus': 'Fred Claus', 'Russell Crowe & Paul Giamatti @ Cinderella Man': 'Cinderella Man', 'Ryan Reynolds & Paul Giamatti @ Turbo': 'Turbo', 'Paul Giamatti & Scarlett Johansson @ The Nanny Diaries': 'The Nanny Diaries', 'Tom Hanks & Paul Giamatti @ Saving Mr. Banks': 'Saving Mr. Banks', 'Vince Vaughn & Paul Giamatti @ Fred Claus': 'Fred Claus', 'Ben Affleck & Charlize Theron @ Reindeer Games': 'Reindeer Games', 'Guy Pearce & Charlize Theron @ The Road': 'The Road', 'Guy Pearce & Charlize Theron @ Prometheus': 'Prometheus', 'Jason Bateman & Charlize Theron @ Hancock': 'Hancock', 'Keanu Reeves & Charlize Theron @ Sweet November': 'Sweet November', 'Will Smith & Charlize Theron @ Hancock': 'Hancock', 'Will Smith & Charlize Theron @ The Legend of Bagger Vance': 'The Legend of Bagger Vance', 'Jude Law & Alec Baldwin @ Rise of the Guardians': 'Rise of the Guardians', 'Jude Law & Ben Kingsley @ Hugo': 'Hugo', 'Jude Law & Channing Tatum @ Side Effects': 'Side Effects', 'Jude Law & Clive Owen @ Closer': 'Closer', 'Jude Law & Jack Black @ The Holiday': 'The Holiday', \"Jude Law & Jim Carrey @ Lemony Snicket's A Series of Unfortunate Events\": \"Lemony Snicket's A Series of Unfortunate Events\", 'Jude Law & Julia Roberts @ Closer': 'Closer', 'Jude Law & Kate Winslet @ Contagion': 'Contagion', 'Jude Law & Kate Winslet @ The Holiday': 'The Holiday', \"Jude Law & Kate Winslet @ All the King's Men\": \"All the King's Men\", 'Jude Law & Nicole Kidman @ Cold Mountain': 'Cold Mountain', 'Jude Law & Rachel Weisz @ Enemy at the Gates': 'Enemy at the Gates', 'Jude Law & Rachel Weisz @ My Blueberry Nights': 'My Blueberry Nights', 'Jude Law & Robert Downey Jr. @ Sherlock Holmes': 'Sherlock Holmes', 'Jude Law & Robert Downey Jr. @ Sherlock Holmes: A Game of Shadows': 'Sherlock Holmes: A Game of Shadows', 'Paul Rudd & Elizabeth Banks @ Role Models': 'Role Models', 'Paul Rudd & Elizabeth Banks @ Our Idiot Brother': 'Our Idiot Brother', 'Paul Rudd & Reese Witherspoon @ Monsters vs Aliens': 'Monsters vs Aliens', 'Paul Rudd & Reese Witherspoon @ How Do You Know': 'How Do You Know', 'Paul Rudd & Seann William Scott @ Role Models': 'Role Models', 'Paul Rudd & Seth Rogen @ Monsters vs Aliens': 'Monsters vs Aliens', 'Paul Rudd & Seth Rogen @ The 40 Year Old Virgin': 'The 40 Year Old Virgin', 'Paul Rudd & Seth Rogen @ Knocked Up': 'Knocked Up', 'Paul Rudd & Zooey Deschanel @ Our Idiot Brother': 'Our Idiot Brother', 'Clive Owen & Denzel Washington @ Inside Man': 'Inside Man', 'Gary Oldman & Denzel Washington @ The Book of Eli': 'The Book of Eli', 'Josh Brolin & Denzel Washington @ American Gangster': 'American Gangster', 'Rosario Dawson & Denzel Washington @ Unstoppable': 'Unstoppable', 'Ryan Reynolds & Denzel Washington @ Safe House': 'Safe House', 'Willem Dafoe & Denzel Washington @ Inside Man': 'Inside Man', 'Ben Affleck & Jason Bateman @ State of Play': 'State of Play', 'Ben Affleck & Jason Bateman @ Extract': 'Extract', 'Colin Farrell & Jason Bateman @ Horrible Bosses': 'Horrible Bosses', 'Jamie Foxx & Jason Bateman @ The Kingdom': 'The Kingdom', 'Russell Crowe & Jason Bateman @ State of Play': 'State of Play', 'Ryan Reynolds & Jason Bateman @ The Change-Up': 'The Change-Up', 'Seth Rogen & Jason Bateman @ Paul': 'Paul', 'Vince Vaughn & Jason Bateman @ Couples Retreat': 'Couples Retreat', 'Will Smith & Jason Bateman @ Hancock': 'Hancock', 'Jack Black & Gary Oldman @ Kung Fu Panda 2': 'Kung Fu Panda 2', 'Jack Black & Kate Winslet @ The Holiday': 'The Holiday', 'Jack Black & Naomi Watts @ King Kong': 'King Kong', 'Jack Black & Robert Downey Jr. @ Tropic Thunder': 'Tropic Thunder', 'Will Smith & Jack Black @ Shark Tale': 'Shark Tale', 'Aaron Eckhart & Gerard Butler @ Olympus Has Fallen': 'Olympus Has Fallen', 'Jamie Foxx & Gerard Butler @ Law Abiding Citizen': 'Law Abiding Citizen', 'Jonah Hill & Gerard Butler @ How to Train Your Dragon 2': 'How to Train Your Dragon 2', 'Jonah Hill & Gerard Butler @ How to Train Your Dragon': 'How to Train Your Dragon', 'Gerard Butler & Matthew McConaughey @ Reign of Fire': 'Reign of Fire', 'Paul Walker & Gerard Butler @ Timeline': 'Timeline', 'Ben Affleck & Aaron Eckhart @ Paycheck': 'Paycheck', \"Ben Affleck & Drew Barrymore @ He's Just Not That Into You\": \"He's Just Not That Into You\", 'Ben Affleck & Jennifer Lopez @ Gigli': 'Gigli', 'Ben Affleck & John Goodman @ Argo': 'Argo', 'Vin Diesel & Ben Affleck @ Boiler Room': 'Boiler Room', 'Bill Nighy & Aaron Eckhart @ I, Frankenstein': 'I, Frankenstein', 'Bill Nighy & Kate Winslet @ Flushed Away': 'Flushed Away', \"Bill Nighy & Keira Knightley @ Pirates of the Caribbean: Dead Man's Chest\": \"Pirates of the Caribbean: Dead Man's Chest\", \"Bill Nighy & Keira Knightley @ Pirates of the Caribbean: At World's End\": \"Pirates of the Caribbean: At World's End\", 'Bill Nighy & Rachel Weisz @ The Constant Gardener': 'The Constant Gardener', 'Bill Nighy & Ralph Fiennes @ The Constant Gardener': 'The Constant Gardener', 'Tom Cruise & Bill Nighy @ Valkyrie': 'Valkyrie', 'Jamie Foxx & Channing Tatum @ White House Down': 'White House Down', 'Jamie Foxx & Eddie Murphy @ Dreamgirls': 'Dreamgirls', 'Emma Stone & Jamie Foxx @ The Amazing Spider-Man 2': 'The Amazing Spider-Man 2', 'Jamie Foxx & Jake Gyllenhaal @ Jarhead': 'Jarhead', 'Jamie Foxx & Leonardo DiCaprio @ Django Unchained': 'Django Unchained', 'Jamie Foxx & Mark Ruffalo @ Collateral': 'Collateral', 'Jamie Foxx & Robert Downey Jr. @ The Soloist': 'The Soloist', 'Jamie Foxx & Robert Downey Jr. @ Due Date': 'Due Date', 'Tom Cruise & Jamie Foxx @ Collateral': 'Collateral', 'Will Smith & Jamie Foxx @ Ali': 'Ali', 'Ben Kingsley & Mark Ruffalo @ Shutter Island': 'Shutter Island', 'Mark Ruffalo & Channing Tatum @ Foxcatcher': 'Foxcatcher', 'Chris Evans & Mark Ruffalo @ Avengers: Age of Ultron': 'Avengers: Age of Ultron', 'Chris Evans & Mark Ruffalo @ The Avengers': 'The Avengers', 'Mark Ruffalo & Jake Gyllenhaal @ Zodiac': 'Zodiac', 'Jim Carrey & Mark Ruffalo @ Eternal Sunshine of the Spotless Mind': 'Eternal Sunshine of the Spotless Mind', 'Kate Winslet & Mark Ruffalo @ Eternal Sunshine of the Spotless Mind': 'Eternal Sunshine of the Spotless Mind', 'Mark Ruffalo & Keira Knightley @ Begin Again': 'Begin Again', 'Mark Ruffalo & Leonardo DiCaprio @ Shutter Island': 'Shutter Island', 'Nicolas Cage & Mark Ruffalo @ Windtalkers': 'Windtalkers', 'Rachel Weisz & Mark Ruffalo @ The Brothers Bloom': 'The Brothers Bloom', 'Mark Ruffalo & Reese Witherspoon @ Just Like Heaven': 'Just Like Heaven', 'Mark Ruffalo & Robert Downey Jr. @ Avengers: Age of Ultron': 'Avengers: Age of Ultron', 'Mark Ruffalo & Robert Downey Jr. @ The Avengers': 'The Avengers', 'Mark Ruffalo & Robert Downey Jr. @ Zodiac': 'Zodiac', 'Mark Ruffalo & Scarlett Johansson @ Avengers: Age of Ultron': 'Avengers: Age of Ultron', 'Mark Ruffalo & Scarlett Johansson @ The Avengers': 'The Avengers', 'Steve Carell & Mark Ruffalo @ Foxcatcher': 'Foxcatcher', 'Tom Cruise & Mark Ruffalo @ Collateral': 'Collateral', 'Mark Ruffalo & Woody Harrelson @ Now You See Me': 'Now You See Me', \"Ben Stiller & Naomi Watts @ While We're Young\": \"While We're Young\", 'Clive Owen & Naomi Watts @ The International': 'The International', 'Naomi Watts & Daniel Craig @ Dream House': 'Dream House', 'Emma Stone & Naomi Watts @ Birdman': 'Birdman', 'Naomi Watts & Leonardo DiCaprio @ J. Edgar': 'J. Edgar', 'Naomi Watts & Rachel Weisz @ Dream House': 'Dream House', 'Daniel Craig & Nicole Kidman @ The Golden Compass': 'The Golden Compass', 'Daniel Craig & Nicole Kidman @ The Invasion': 'The Invasion', 'Ewan McGregor & Nicole Kidman @ Moulin Rouge!': 'Moulin Rouge!', 'Julia Roberts & Nicole Kidman @ Secret in Their Eyes': 'Secret in Their Eyes', 'Nicole Kidman & Julianne Moore @ The Hours': 'The Hours', 'Michael Caine & Nicole Kidman @ Bewitched': 'Bewitched', 'Nicole Kidman & Robert Downey Jr. @ Fur: An Imaginary Portrait of Diane Arbus': 'Fur: An Imaginary Portrait of Diane Arbus', 'Seth Rogen & Elizabeth Banks @ Zack and Miri Make a Porno': 'Zack and Miri Make a Porno', 'Jim Carrey & Seth Rogen @ Horton Hears a Who!': 'Horton Hears a Who!', 'Jonah Hill & Seth Rogen @ Funny People': 'Funny People', 'Jonah Hill & Seth Rogen @ This Is the End': 'This Is the End', 'Jonah Hill & Seth Rogen @ Superbad': 'Superbad', 'Seth Rogen & Reese Witherspoon @ Monsters vs Aliens': 'Monsters vs Aliens', 'Ben Kingsley & Jake Gyllenhaal @ Prince of Persia: The Sands of Time': 'Prince of Persia: The Sands of Time', 'Josh Brolin & Jake Gyllenhaal @ Everest': 'Everest', 'Jake Gyllenhaal & Reese Witherspoon @ Rendition': 'Rendition', 'Jake Gyllenhaal & Robert Downey Jr. @ Zodiac': 'Zodiac', 'Zooey Deschanel & Jake Gyllenhaal @ The Good Girl': 'The Good Girl', 'Josh Brolin & Elizabeth Banks @ W.': 'W.', 'Emma Stone & Josh Brolin @ Gangster Squad': 'Gangster Squad', 'Josh Brolin & Jessica Alba @ Sin City: A Dame to Kill For': 'Sin City: A Dame to Kill For', 'Josh Brolin & Jessica Alba @ Into the Blue': 'Into the Blue', 'Owen Wilson & Josh Brolin @ Inherent Vice': 'Inherent Vice', 'Paul Walker & Josh Brolin @ Into the Blue': 'Into the Blue', 'Josh Brolin & Reese Witherspoon @ Inherent Vice': 'Inherent Vice', 'Josh Brolin & Rosario Dawson @ Sin City: A Dame to Kill For': 'Sin City: A Dame to Kill For', 'Will Smith & Josh Brolin @ Men in Black 3': 'Men in Black 3', 'Josh Brolin & Woody Harrelson @ No Country for Old Men': 'No Country for Old Men', 'Jonah Hill & Channing Tatum @ 22 Jump Street': '22 Jump Street', 'Jonah Hill & Channing Tatum @ 21 Jump Street': '21 Jump Street', 'Channing Tatum & Matthew McConaughey @ Magic Mike': 'Magic Mike', 'John Goodman & Sandra Bullock @ Extremely Loud & Incredibly Close': 'Extremely Loud & Incredibly Close', 'John Goodman & Steve Buscemi @ Monsters, Inc.': 'Monsters, Inc.', 'John Goodman & Steve Buscemi @ Monsters University': 'Monsters University', 'Steve Carell & John Goodman @ Evan Almighty': 'Evan Almighty', 'Tom Hanks & John Goodman @ Extremely Loud & Incredibly Close': 'Extremely Loud & Incredibly Close', 'Tom Cruise & Alec Baldwin @ Rock of Ages': 'Rock of Ages', 'Bill Nighy & Tom Cruise @ Valkyrie': 'Valkyrie', 'Jamie Foxx & Tom Cruise @ Collateral': 'Collateral', 'Cameron Diaz & Eddie Murphy @ Shrek Forever After': 'Shrek Forever After', 'Cameron Diaz & Eddie Murphy @ Shrek': 'Shrek', 'Cameron Diaz & Eddie Murphy @ Shrek 2': 'Shrek 2', 'Cameron Diaz & Eddie Murphy @ Shrek the Third': 'Shrek the Third', 'Eddie Murphy & Elizabeth Banks @ Meet Dave': 'Meet Dave', 'Eddie Murphy & Rosario Dawson @ The Adventures of Pluto Nash': 'The Adventures of Pluto Nash', 'Vince Vaughn & Jennifer Lopez @ The Cell': 'The Cell', 'Justin Long & Vince Vaughn @ DodgeBall: A True Underdog Story': 'DodgeBall: A True Underdog Story', 'Rachel Weisz & Vince Vaughn @ Fred Claus': 'Fred Claus', 'Vince Vaughn & Reese Witherspoon @ Four Christmases': 'Four Christmases', 'Vince Vaughn & Steve Buscemi @ Domestic Disturbance': 'Domestic Disturbance', 'Will Ferrell & Vince Vaughn @ Old School': 'Old School', 'Vin Diesel & Michael Caine @ The Last Witch Hunter': 'The Last Witch Hunter', 'Vin Diesel & Paul Walker @ Furious 7': 'Furious 7', 'Vin Diesel & Paul Walker @ Fast & Furious': 'Fast & Furious', 'Vin Diesel & Paul Walker @ The Fast and the Furious': 'The Fast and the Furious', 'Vin Diesel & Paul Walker @ Fast Five': 'Fast Five', 'Vin Diesel & Paul Walker @ Fast & Furious 6': 'Fast & Furious 6', 'Ben Kingsley & Robert Downey Jr. @ Iron Man 3': 'Iron Man 3', 'Chris Evans & Robert Downey Jr. @ Avengers: Age of Ultron': 'Avengers: Age of Ultron', 'Chris Evans & Robert Downey Jr. @ The Avengers': 'The Avengers', 'Guy Pearce & Robert Downey Jr. @ Iron Man 3': 'Iron Man 3', 'Keanu Reeves & Robert Downey Jr. @ A Scanner Darkly': 'A Scanner Darkly', 'Robert Downey Jr. & Scarlett Johansson @ Avengers: Age of Ultron': 'Avengers: Age of Ultron', 'Robert Downey Jr. & Scarlett Johansson @ Iron Man 2': 'Iron Man 2', 'Robert Downey Jr. & Scarlett Johansson @ The Avengers': 'The Avengers', 'Woody Harrelson & Robert Downey Jr. @ A Scanner Darkly': 'A Scanner Darkly', 'Jennifer Lopez & Matthew McConaughey @ The Wedding Planner': 'The Wedding Planner', 'Michael Caine & Matthew McConaughey @ Interstellar': 'Interstellar', 'Reese Witherspoon & Matthew McConaughey @ Mud': 'Mud', 'Zooey Deschanel & Matthew McConaughey @ Failure to Launch': 'Failure to Launch', 'Amy Adams & Tom Hanks @ Catch Me If You Can': 'Catch Me If You Can', \"Amy Adams & Tom Hanks @ Charlie Wilson's War\": \"Charlie Wilson's War\", 'Tom Hanks & Julia Roberts @ Larry Crowne': 'Larry Crowne', \"Tom Hanks & Julia Roberts @ Charlie Wilson's War\": \"Charlie Wilson's War\", 'Tom Hanks & Leonardo DiCaprio @ Catch Me If You Can': 'Catch Me If You Can', 'Tom Hanks & Paul Bettany @ The Da Vinci Code': 'The Da Vinci Code', 'Tom Hanks & Sandra Bullock @ Extremely Loud & Incredibly Close': 'Extremely Loud & Incredibly Close', \"Amy Adams & Julia Roberts @ Charlie Wilson's War\": \"Charlie Wilson's War\", 'Amy Adams & Leonardo DiCaprio @ Catch Me If You Can': 'Catch Me If You Can', 'Amy Adams & Robin Williams @ Night at the Museum: Battle of the Smithsonian': 'Night at the Museum: Battle of the Smithsonian', 'Amy Adams & Scarlett Johansson @ Her': 'Her', 'Tom Hanks & Amy Adams @ Catch Me If You Can': 'Catch Me If You Can', \"Tom Hanks & Amy Adams @ Charlie Wilson's War\": \"Charlie Wilson's War\", 'Alec Baldwin & Leonardo DiCaprio @ The Aviator': 'The Aviator', 'Ben Kingsley & Leonardo DiCaprio @ Shutter Island': 'Shutter Island', 'Jonah Hill & Leonardo DiCaprio @ The Wolf of Wall Street': 'The Wolf of Wall Street', 'Kate Winslet & Leonardo DiCaprio @ Revolutionary Road': 'Revolutionary Road', 'Samuel L. Jackson & Leonardo DiCaprio @ Django Unchained': 'Django Unchained', 'Will Smith & Alec Baldwin @ Concussion': 'Concussion', 'Jack Black & Will Smith @ Shark Tale': 'Shark Tale', 'Jamie Foxx & Will Smith @ Ali': 'Ali', 'Matt Damon & Will Smith @ The Legend of Bagger Vance': 'The Legend of Bagger Vance', 'Will Smith & Rosario Dawson @ Seven Pounds': 'Seven Pounds', 'Will Smith & Woody Harrelson @ Seven Pounds': 'Seven Pounds', 'Aaron Eckhart & Michael Caine @ The Dark Knight': 'The Dark Knight', 'Anne Hathaway & Michael Caine @ Interstellar': 'Interstellar', 'Anne Hathaway & Michael Caine @ The Dark Knight Rises': 'The Dark Knight Rises', 'Clive Owen & Michael Caine @ Children of Men': 'Children of Men', 'Gary Oldman & Michael Caine @ The Dark Knight': 'The Dark Knight', 'Gary Oldman & Michael Caine @ The Dark Knight Rises': 'The Dark Knight Rises', 'Gary Oldman & Michael Caine @ Batman Begins': 'Batman Begins', 'Michael Caine & Julianne Moore @ Children of Men': 'Children of Men', 'Kate Winslet & Michael Caine @ Quills': 'Quills', 'Nicole Kidman & Michael Caine @ Bewitched': 'Bewitched', 'Michael Caine & Sandra Bullock @ Miss Congeniality': 'Miss Congeniality', 'Michael Caine & Scarlett Johansson @ The Prestige': 'The Prestige', 'Chris Evans & Jessica Alba @ Fantastic Four': 'Fantastic Four', 'Chris Evans & Jessica Alba @ 4: Rise of the Silver Surfer': '4: Rise of the Silver Surfer', 'Chris Evans & Keanu Reeves @ Street Kings': 'Street Kings', 'Chris Evans & Scarlett Johansson @ Avengers: Age of Ultron': 'Avengers: Age of Ultron', 'Chris Evans & Scarlett Johansson @ Captain America: The Winter Soldier': 'Captain America: The Winter Soldier', 'Chris Evans & Scarlett Johansson @ The Avengers': 'The Avengers', 'Chris Evans & Scarlett Johansson @ The Nanny Diaries': 'The Nanny Diaries', 'Alec Baldwin & Steve Buscemi @ Final Fantasy: The Spirits Within': 'Final Fantasy: The Spirits Within', 'Ewan McGregor & Steve Buscemi @ The Island': 'The Island', 'Jim Carrey & Steve Buscemi @ The Incredible Burt Wonderstone': 'The Incredible Burt Wonderstone', 'Steve Buscemi & Scarlett Johansson @ The Island': 'The Island', 'Colin Farrell & Ralph Fiennes @ In Bruges': 'In Bruges', 'Daniel Craig & Ralph Fiennes @ Spectre': 'Spectre', 'Daniel Craig & Ralph Fiennes @ Skyfall': 'Skyfall', 'Guy Pearce & Ralph Fiennes @ The Hurt Locker': 'The Hurt Locker', 'Ralph Fiennes & Helena Bonham Carter @ Harry Potter and the Deathly Hallows: Part 1': 'Harry Potter and the Deathly Hallows: Part 1', 'Ralph Fiennes & Helena Bonham Carter @ The Curse of the Were-Rabbit': 'The Curse of the Were-Rabbit', 'Ralph Fiennes & Jennifer Lopez @ Maid in Manhattan': 'Maid in Manhattan', 'Rachel Weisz & Ralph Fiennes @ The Constant Gardener': 'The Constant Gardener', 'Daniel Craig & Rachel Weisz @ Dream House': 'Dream House', 'Hugh Jackman & Rachel Weisz @ The Fountain': 'The Fountain', 'James Franco & Rachel Weisz @ Oz: The Great and Powerful': 'Oz: The Great and Powerful', 'Keanu Reeves & Rachel Weisz @ Constantine': 'Constantine', 'Mark Ruffalo & Rachel Weisz @ The Brothers Bloom': 'The Brothers Bloom', 'Vince Vaughn & Rachel Weisz @ Fred Claus': 'Fred Claus', 'Guy Pearce & Ben Kingsley @ Iron Man 3': 'Iron Man 3', 'Guy Pearce & Ben Kingsley @ Rules of Engagement': 'Rules of Engagement', \"Guy Pearce & Helena Bonham Carter @ The King's Speech\": \"The King's Speech\", \"Jennifer Lopez & Elizabeth Banks @ What to Expect When You're Expecting\": \"What to Expect When You're Expecting\", 'Elizabeth Banks & Seann William Scott @ Role Models': 'Role Models', 'Woody Harrelson & Elizabeth Banks @ The Hunger Games: Mockingjay - Part 2': 'The Hunger Games: Mockingjay - Part 2', 'Woody Harrelson & Elizabeth Banks @ The Hunger Games': 'The Hunger Games', 'Woody Harrelson & Elizabeth Banks @ The Hunger Games: Catching Fire': 'The Hunger Games: Catching Fire', 'Zooey Deschanel & Elizabeth Banks @ Our Idiot Brother': 'Our Idiot Brother', 'Elizabeth Banks & Woody Harrelson @ The Hunger Games: Mockingjay - Part 2': 'The Hunger Games: Mockingjay - Part 2', 'Elizabeth Banks & Woody Harrelson @ The Hunger Games': 'The Hunger Games', 'Elizabeth Banks & Woody Harrelson @ The Hunger Games: Catching Fire': 'The Hunger Games: Catching Fire', 'Emma Stone & Woody Harrelson @ Zombieland': 'Zombieland', 'Keanu Reeves & Woody Harrelson @ A Scanner Darkly': 'A Scanner Darkly', 'Rosario Dawson & Woody Harrelson @ Seven Pounds': 'Seven Pounds', 'Willem Dafoe & Woody Harrelson @ Out of the Furnace': 'Out of the Furnace', 'Ben Kingsley & Ryan Reynolds @ Self/less': 'Self/less', 'Emma Stone & Ryan Reynolds @ The Croods': 'The Croods', 'Jason Bateman & Ryan Reynolds @ The Change-Up': 'The Change-Up', 'Paul Giamatti & Ryan Reynolds @ Turbo': 'Turbo', 'Ryan Reynolds & Sandra Bullock @ The Proposal': 'The Proposal', 'Elizabeth Banks & Zooey Deschanel @ Our Idiot Brother': 'Our Idiot Brother', 'Jake Gyllenhaal & Zooey Deschanel @ The Good Girl': 'The Good Girl', 'Jim Carrey & Zooey Deschanel @ Yes Man': 'Yes Man', 'Harrison Ford & Sylvester Stallone @ The Expendables 3': 'The Expendables 3', 'Rosario Dawson & Sylvester Stallone @ Zookeeper': 'Zookeeper', 'Bradley Cooper & Sandra Bullock @ All About Steve': 'All About Steve', 'George Clooney & Sandra Bullock @ Gravity': 'Gravity', 'Keanu Reeves & Sandra Bullock @ The Lake House': 'The Lake House', 'Gary Oldman & Seann William Scott @ Planet 51': 'Planet 51', 'Julianne Moore & Seann William Scott @ Evolution': 'Evolution', 'Justin Long & Seann William Scott @ Planet 51': 'Planet 51', 'Rosario Dawson & Seann William Scott @ The Rundown': 'The Rundown', 'Daniel Craig & Harrison Ford @ Cowboys & Aliens': 'Cowboys & Aliens', 'Rachel Weisz & Daniel Craig @ Dream House': 'Dream House', 'Jim Carrey & Alec Baldwin @ Fun with Dick and Jane': 'Fun with Dick and Jane', 'Jim Carrey & Gary Oldman @ A Christmas Carol': 'A Christmas Carol', 'Jim Carrey & Kate Winslet @ Eternal Sunshine of the Spotless Mind': 'Eternal Sunshine of the Spotless Mind', 'Seth Rogen & Jim Carrey @ Horton Hears a Who!': 'Horton Hears a Who!', \"Cate Blanchett & Julianne Moore @ I'm Not There.\": \"I'm Not There.\", 'Clive Owen & Julianne Moore @ Children of Men': 'Children of Men', 'Emma Stone & Julianne Moore @ Crazy, Stupid, Love.': 'Crazy, Stupid, Love.', 'Gary Oldman & Julianne Moore @ Hannibal': 'Hannibal', 'Clive Owen & Keira Knightley @ King Arthur': 'King Arthur', 'Ben Stiller & Justin Long @ DodgeBall: A True Underdog Story': 'DodgeBall: A True Underdog Story', 'Justin Long & Drew Barrymore @ Going the Distance': 'Going the Distance', 'Gary Oldman & Justin Long @ Planet 51': 'Planet 51', 'Jonah Hill & Justin Long @ Accepted': 'Accepted', 'Justin Long & Robin Williams @ Old Dogs': 'Old Dogs', 'Gary Oldman & Aaron Eckhart @ The Dark Knight': 'The Dark Knight', 'Gary Oldman & Harrison Ford @ Paranoia': 'Paranoia', 'Justin Long & Gary Oldman @ Planet 51': 'Planet 51', 'Liam Neeson & Gary Oldman @ Batman Begins': 'Batman Begins', 'Aaron Eckhart & Julia Roberts @ Erin Brockovich': 'Erin Brockovich', 'Clive Owen & Julia Roberts @ Duplicity': 'Duplicity', 'Clive Owen & Julia Roberts @ Closer': 'Closer', 'Julia Roberts & Drew Barrymore @ Confessions of a Dangerous Mind': 'Confessions of a Dangerous Mind', 'Ewan McGregor & Julia Roberts @ August: Osage County': 'August: Osage County', 'Nicole Kidman & Julia Roberts @ Secret in Their Eyes': 'Secret in Their Eyes', 'Paul Giamatti & Julia Roberts @ Duplicity': 'Duplicity', 'Paul Giamatti & Julia Roberts @ The Ant Bully': 'The Ant Bully', 'Rachel Weisz & Keanu Reeves @ Constantine': 'Constantine', 'Willem Dafoe & Keanu Reeves @ John Wick': 'John Wick', 'Seth Rogen & Jonah Hill @ Funny People': 'Funny People', 'Seth Rogen & Jonah Hill @ This Is the End': 'This Is the End', 'Seth Rogen & Jonah Hill @ Superbad': 'Superbad', 'Morgan Freeman & Jennifer Lopez @ An Unfinished Life': 'An Unfinished Life', 'Dennis Quaid & Paul Bettany @ Legion': 'Legion', 'Paul Bettany & Harrison Ford @ Firewall': 'Firewall', 'Paul Walker & Jessica Alba @ Into the Blue': 'Into the Blue', 'Josh Brolin & Paul Walker @ Into the Blue': 'Into the Blue', 'Ben Kingsley & Aaron Eckhart @ Suspect Zero': 'Suspect Zero', 'Gerard Butler & Aaron Eckhart @ Olympus Has Fallen': 'Olympus Has Fallen', 'Julia Roberts & Aaron Eckhart @ Erin Brockovich': 'Erin Brockovich', 'Michael Caine & Aaron Eckhart @ The Dark Knight': 'The Dark Knight', 'Paul Giamatti & Aaron Eckhart @ Paycheck': 'Paycheck', 'Matt Damon & Clive Owen @ The Bourne Identity': 'The Bourne Identity', 'Clive Owen & Willem Dafoe @ Inside Man': 'Inside Man', 'Dennis Quaid & Willem Dafoe @ American Dreamz': 'American Dreamz', 'James Franco & Willem Dafoe @ Spider-Man': 'Spider-Man', 'Keanu Reeves & Willem Dafoe @ John Wick': 'John Wick', \"Cameron Diaz & Alec Baldwin @ My Sister's Keeper\": \"My Sister's Keeper\", 'Hugh Jackman & Alec Baldwin @ Rise of the Guardians': 'Rise of the Guardians', \"Meryl Streep & Alec Baldwin @ It's Complicated\": \"It's Complicated\", 'Jamie Foxx & Emma Stone @ The Amazing Spider-Man 2': 'The Amazing Spider-Man 2', 'Bruce Willis & Ben Kingsley @ Lucky Number Slevin': 'Lucky Number Slevin', \"Ben Kingsley & Harrison Ford @ Ender's Game\": \"Ender's Game\", 'Mark Ruffalo & Ben Kingsley @ Shutter Island': 'Shutter Island', 'Dwayne Johnson & Rosario Dawson @ The Rundown': 'The Rundown', 'Jessica Alba & Rosario Dawson @ Sin City: A Dame to Kill For': 'Sin City: A Dame to Kill For', 'Jessica Alba & Rosario Dawson @ Sin City': 'Sin City', 'Jason Statham & Harrison Ford @ The Expendables 3': 'The Expendables 3', 'Cameron Diaz & Kate Winslet @ The Holiday': 'The Holiday', 'Hugh Jackman & Kate Winslet @ Flushed Away': 'Flushed Away', 'Mark Ruffalo & Kate Winslet @ Eternal Sunshine of the Spotless Mind': 'Eternal Sunshine of the Spotless Mind'}\n"
     ]
    },
    {
     "ename": "ValueError",
     "evalue": "Shape of passed values is (842, 1), indices imply (842, 2)",
     "output_type": "error",
     "traceback": [
      "\u001b[1;31m---------------------------------------------------------------------------\u001b[0m",
      "\u001b[1;31mValueError\u001b[0m                                Traceback (most recent call last)",
      "\u001b[1;32m~\\anaconda3\\lib\\site-packages\\pandas\\core\\internals\\managers.py\u001b[0m in \u001b[0;36mcreate_block_manager_from_blocks\u001b[1;34m(blocks, axes)\u001b[0m\n\u001b[0;32m   1653\u001b[0m                 blocks = [\n\u001b[1;32m-> 1654\u001b[1;33m                     \u001b[0mmake_block\u001b[0m\u001b[1;33m(\u001b[0m\u001b[0mvalues\u001b[0m\u001b[1;33m=\u001b[0m\u001b[0mblocks\u001b[0m\u001b[1;33m[\u001b[0m\u001b[1;36m0\u001b[0m\u001b[1;33m]\u001b[0m\u001b[1;33m,\u001b[0m \u001b[0mplacement\u001b[0m\u001b[1;33m=\u001b[0m\u001b[0mslice\u001b[0m\u001b[1;33m(\u001b[0m\u001b[1;36m0\u001b[0m\u001b[1;33m,\u001b[0m \u001b[0mlen\u001b[0m\u001b[1;33m(\u001b[0m\u001b[0maxes\u001b[0m\u001b[1;33m[\u001b[0m\u001b[1;36m0\u001b[0m\u001b[1;33m]\u001b[0m\u001b[1;33m)\u001b[0m\u001b[1;33m)\u001b[0m\u001b[1;33m)\u001b[0m\u001b[1;33m\u001b[0m\u001b[1;33m\u001b[0m\u001b[0m\n\u001b[0m\u001b[0;32m   1655\u001b[0m                 ]\n",
      "\u001b[1;32m~\\anaconda3\\lib\\site-packages\\pandas\\core\\internals\\blocks.py\u001b[0m in \u001b[0;36mmake_block\u001b[1;34m(values, placement, klass, ndim, dtype)\u001b[0m\n\u001b[0;32m   3052\u001b[0m \u001b[1;33m\u001b[0m\u001b[0m\n\u001b[1;32m-> 3053\u001b[1;33m     \u001b[1;32mreturn\u001b[0m \u001b[0mklass\u001b[0m\u001b[1;33m(\u001b[0m\u001b[0mvalues\u001b[0m\u001b[1;33m,\u001b[0m \u001b[0mndim\u001b[0m\u001b[1;33m=\u001b[0m\u001b[0mndim\u001b[0m\u001b[1;33m,\u001b[0m \u001b[0mplacement\u001b[0m\u001b[1;33m=\u001b[0m\u001b[0mplacement\u001b[0m\u001b[1;33m)\u001b[0m\u001b[1;33m\u001b[0m\u001b[1;33m\u001b[0m\u001b[0m\n\u001b[0m\u001b[0;32m   3054\u001b[0m \u001b[1;33m\u001b[0m\u001b[0m\n",
      "\u001b[1;32m~\\anaconda3\\lib\\site-packages\\pandas\\core\\internals\\blocks.py\u001b[0m in \u001b[0;36m__init__\u001b[1;34m(self, values, placement, ndim)\u001b[0m\n\u001b[0;32m   2600\u001b[0m \u001b[1;33m\u001b[0m\u001b[0m\n\u001b[1;32m-> 2601\u001b[1;33m         \u001b[0msuper\u001b[0m\u001b[1;33m(\u001b[0m\u001b[1;33m)\u001b[0m\u001b[1;33m.\u001b[0m\u001b[0m__init__\u001b[0m\u001b[1;33m(\u001b[0m\u001b[0mvalues\u001b[0m\u001b[1;33m,\u001b[0m \u001b[0mndim\u001b[0m\u001b[1;33m=\u001b[0m\u001b[0mndim\u001b[0m\u001b[1;33m,\u001b[0m \u001b[0mplacement\u001b[0m\u001b[1;33m=\u001b[0m\u001b[0mplacement\u001b[0m\u001b[1;33m)\u001b[0m\u001b[1;33m\u001b[0m\u001b[1;33m\u001b[0m\u001b[0m\n\u001b[0m\u001b[0;32m   2602\u001b[0m \u001b[1;33m\u001b[0m\u001b[0m\n",
      "\u001b[1;32m~\\anaconda3\\lib\\site-packages\\pandas\\core\\internals\\blocks.py\u001b[0m in \u001b[0;36m__init__\u001b[1;34m(self, values, placement, ndim)\u001b[0m\n\u001b[0;32m    123\u001b[0m         \u001b[1;32mif\u001b[0m \u001b[0mself\u001b[0m\u001b[1;33m.\u001b[0m\u001b[0m_validate_ndim\u001b[0m \u001b[1;32mand\u001b[0m \u001b[0mself\u001b[0m\u001b[1;33m.\u001b[0m\u001b[0mndim\u001b[0m \u001b[1;32mand\u001b[0m \u001b[0mlen\u001b[0m\u001b[1;33m(\u001b[0m\u001b[0mself\u001b[0m\u001b[1;33m.\u001b[0m\u001b[0mmgr_locs\u001b[0m\u001b[1;33m)\u001b[0m \u001b[1;33m!=\u001b[0m \u001b[0mlen\u001b[0m\u001b[1;33m(\u001b[0m\u001b[0mself\u001b[0m\u001b[1;33m.\u001b[0m\u001b[0mvalues\u001b[0m\u001b[1;33m)\u001b[0m\u001b[1;33m:\u001b[0m\u001b[1;33m\u001b[0m\u001b[1;33m\u001b[0m\u001b[0m\n\u001b[1;32m--> 124\u001b[1;33m             raise ValueError(\n\u001b[0m\u001b[0;32m    125\u001b[0m                 \u001b[1;34mf\"Wrong number of items passed {len(self.values)}, \"\u001b[0m\u001b[1;33m\u001b[0m\u001b[1;33m\u001b[0m\u001b[0m\n",
      "\u001b[1;31mValueError\u001b[0m: Wrong number of items passed 1, placement implies 2",
      "\nDuring handling of the above exception, another exception occurred:\n",
      "\u001b[1;31mValueError\u001b[0m                                Traceback (most recent call last)",
      "\u001b[1;32m<ipython-input-1007-b84b578cf482>\u001b[0m in \u001b[0;36m<module>\u001b[1;34m\u001b[0m\n\u001b[0;32m     18\u001b[0m \u001b[1;33m\u001b[0m\u001b[0m\n\u001b[0;32m     19\u001b[0m \u001b[0mprint\u001b[0m\u001b[1;33m(\u001b[0m\u001b[0mlist_of_partners\u001b[0m\u001b[1;33m)\u001b[0m\u001b[1;33m\u001b[0m\u001b[1;33m\u001b[0m\u001b[0m\n\u001b[1;32m---> 20\u001b[1;33m \u001b[0mpartners\u001b[0m\u001b[1;33m=\u001b[0m\u001b[0mpd\u001b[0m\u001b[1;33m.\u001b[0m\u001b[0mDataFrame\u001b[0m\u001b[1;33m.\u001b[0m\u001b[0mfrom_dict\u001b[0m\u001b[1;33m(\u001b[0m\u001b[0mlist_of_partners\u001b[0m\u001b[1;33m,\u001b[0m \u001b[0mcolumns\u001b[0m\u001b[1;33m=\u001b[0m\u001b[1;33m[\u001b[0m\u001b[1;34m'partners'\u001b[0m\u001b[1;33m,\u001b[0m\u001b[1;34m'movie'\u001b[0m\u001b[1;33m]\u001b[0m\u001b[1;33m,\u001b[0m\u001b[0morient\u001b[0m\u001b[1;33m=\u001b[0m\u001b[1;34m'index'\u001b[0m\u001b[1;33m)\u001b[0m\u001b[1;33m.\u001b[0m\u001b[0mreset_index\u001b[0m\u001b[1;33m(\u001b[0m\u001b[1;33m)\u001b[0m\u001b[1;33m\u001b[0m\u001b[1;33m\u001b[0m\u001b[0m\n\u001b[0m",
      "\u001b[1;32m~\\anaconda3\\lib\\site-packages\\pandas\\core\\frame.py\u001b[0m in \u001b[0;36mfrom_dict\u001b[1;34m(cls, data, orient, dtype, columns)\u001b[0m\n\u001b[0;32m   1245\u001b[0m             \u001b[1;32mraise\u001b[0m \u001b[0mValueError\u001b[0m\u001b[1;33m(\u001b[0m\u001b[1;34m\"only recognize index or columns for orient\"\u001b[0m\u001b[1;33m)\u001b[0m\u001b[1;33m\u001b[0m\u001b[1;33m\u001b[0m\u001b[0m\n\u001b[0;32m   1246\u001b[0m \u001b[1;33m\u001b[0m\u001b[0m\n\u001b[1;32m-> 1247\u001b[1;33m         \u001b[1;32mreturn\u001b[0m \u001b[0mcls\u001b[0m\u001b[1;33m(\u001b[0m\u001b[0mdata\u001b[0m\u001b[1;33m,\u001b[0m \u001b[0mindex\u001b[0m\u001b[1;33m=\u001b[0m\u001b[0mindex\u001b[0m\u001b[1;33m,\u001b[0m \u001b[0mcolumns\u001b[0m\u001b[1;33m=\u001b[0m\u001b[0mcolumns\u001b[0m\u001b[1;33m,\u001b[0m \u001b[0mdtype\u001b[0m\u001b[1;33m=\u001b[0m\u001b[0mdtype\u001b[0m\u001b[1;33m)\u001b[0m\u001b[1;33m\u001b[0m\u001b[1;33m\u001b[0m\u001b[0m\n\u001b[0m\u001b[0;32m   1248\u001b[0m \u001b[1;33m\u001b[0m\u001b[0m\n\u001b[0;32m   1249\u001b[0m     \u001b[1;32mdef\u001b[0m \u001b[0mto_numpy\u001b[0m\u001b[1;33m(\u001b[0m\u001b[0mself\u001b[0m\u001b[1;33m,\u001b[0m \u001b[0mdtype\u001b[0m\u001b[1;33m=\u001b[0m\u001b[1;32mNone\u001b[0m\u001b[1;33m,\u001b[0m \u001b[0mcopy\u001b[0m\u001b[1;33m=\u001b[0m\u001b[1;32mFalse\u001b[0m\u001b[1;33m)\u001b[0m \u001b[1;33m->\u001b[0m \u001b[0mnp\u001b[0m\u001b[1;33m.\u001b[0m\u001b[0mndarray\u001b[0m\u001b[1;33m:\u001b[0m\u001b[1;33m\u001b[0m\u001b[1;33m\u001b[0m\u001b[0m\n",
      "\u001b[1;32m~\\anaconda3\\lib\\site-packages\\pandas\\core\\frame.py\u001b[0m in \u001b[0;36m__init__\u001b[1;34m(self, data, index, columns, dtype, copy)\u001b[0m\n\u001b[0;32m    486\u001b[0m                     \u001b[0mmgr\u001b[0m \u001b[1;33m=\u001b[0m \u001b[0marrays_to_mgr\u001b[0m\u001b[1;33m(\u001b[0m\u001b[0marrays\u001b[0m\u001b[1;33m,\u001b[0m \u001b[0mcolumns\u001b[0m\u001b[1;33m,\u001b[0m \u001b[0mindex\u001b[0m\u001b[1;33m,\u001b[0m \u001b[0mcolumns\u001b[0m\u001b[1;33m,\u001b[0m \u001b[0mdtype\u001b[0m\u001b[1;33m=\u001b[0m\u001b[0mdtype\u001b[0m\u001b[1;33m)\u001b[0m\u001b[1;33m\u001b[0m\u001b[1;33m\u001b[0m\u001b[0m\n\u001b[0;32m    487\u001b[0m                 \u001b[1;32melse\u001b[0m\u001b[1;33m:\u001b[0m\u001b[1;33m\u001b[0m\u001b[1;33m\u001b[0m\u001b[0m\n\u001b[1;32m--> 488\u001b[1;33m                     \u001b[0mmgr\u001b[0m \u001b[1;33m=\u001b[0m \u001b[0minit_ndarray\u001b[0m\u001b[1;33m(\u001b[0m\u001b[0mdata\u001b[0m\u001b[1;33m,\u001b[0m \u001b[0mindex\u001b[0m\u001b[1;33m,\u001b[0m \u001b[0mcolumns\u001b[0m\u001b[1;33m,\u001b[0m \u001b[0mdtype\u001b[0m\u001b[1;33m=\u001b[0m\u001b[0mdtype\u001b[0m\u001b[1;33m,\u001b[0m \u001b[0mcopy\u001b[0m\u001b[1;33m=\u001b[0m\u001b[0mcopy\u001b[0m\u001b[1;33m)\u001b[0m\u001b[1;33m\u001b[0m\u001b[1;33m\u001b[0m\u001b[0m\n\u001b[0m\u001b[0;32m    489\u001b[0m             \u001b[1;32melse\u001b[0m\u001b[1;33m:\u001b[0m\u001b[1;33m\u001b[0m\u001b[1;33m\u001b[0m\u001b[0m\n\u001b[0;32m    490\u001b[0m                 \u001b[0mmgr\u001b[0m \u001b[1;33m=\u001b[0m \u001b[0minit_dict\u001b[0m\u001b[1;33m(\u001b[0m\u001b[1;33m{\u001b[0m\u001b[1;33m}\u001b[0m\u001b[1;33m,\u001b[0m \u001b[0mindex\u001b[0m\u001b[1;33m,\u001b[0m \u001b[0mcolumns\u001b[0m\u001b[1;33m,\u001b[0m \u001b[0mdtype\u001b[0m\u001b[1;33m=\u001b[0m\u001b[0mdtype\u001b[0m\u001b[1;33m)\u001b[0m\u001b[1;33m\u001b[0m\u001b[1;33m\u001b[0m\u001b[0m\n",
      "\u001b[1;32m~\\anaconda3\\lib\\site-packages\\pandas\\core\\internals\\construction.py\u001b[0m in \u001b[0;36minit_ndarray\u001b[1;34m(values, index, columns, dtype, copy)\u001b[0m\n\u001b[0;32m    208\u001b[0m         \u001b[0mblock_values\u001b[0m \u001b[1;33m=\u001b[0m \u001b[1;33m[\u001b[0m\u001b[0mvalues\u001b[0m\u001b[1;33m]\u001b[0m\u001b[1;33m\u001b[0m\u001b[1;33m\u001b[0m\u001b[0m\n\u001b[0;32m    209\u001b[0m \u001b[1;33m\u001b[0m\u001b[0m\n\u001b[1;32m--> 210\u001b[1;33m     \u001b[1;32mreturn\u001b[0m \u001b[0mcreate_block_manager_from_blocks\u001b[0m\u001b[1;33m(\u001b[0m\u001b[0mblock_values\u001b[0m\u001b[1;33m,\u001b[0m \u001b[1;33m[\u001b[0m\u001b[0mcolumns\u001b[0m\u001b[1;33m,\u001b[0m \u001b[0mindex\u001b[0m\u001b[1;33m]\u001b[0m\u001b[1;33m)\u001b[0m\u001b[1;33m\u001b[0m\u001b[1;33m\u001b[0m\u001b[0m\n\u001b[0m\u001b[0;32m    211\u001b[0m \u001b[1;33m\u001b[0m\u001b[0m\n\u001b[0;32m    212\u001b[0m \u001b[1;33m\u001b[0m\u001b[0m\n",
      "\u001b[1;32m~\\anaconda3\\lib\\site-packages\\pandas\\core\\internals\\managers.py\u001b[0m in \u001b[0;36mcreate_block_manager_from_blocks\u001b[1;34m(blocks, axes)\u001b[0m\n\u001b[0;32m   1662\u001b[0m         \u001b[0mblocks\u001b[0m \u001b[1;33m=\u001b[0m \u001b[1;33m[\u001b[0m\u001b[0mgetattr\u001b[0m\u001b[1;33m(\u001b[0m\u001b[0mb\u001b[0m\u001b[1;33m,\u001b[0m \u001b[1;34m\"values\"\u001b[0m\u001b[1;33m,\u001b[0m \u001b[0mb\u001b[0m\u001b[1;33m)\u001b[0m \u001b[1;32mfor\u001b[0m \u001b[0mb\u001b[0m \u001b[1;32min\u001b[0m \u001b[0mblocks\u001b[0m\u001b[1;33m]\u001b[0m\u001b[1;33m\u001b[0m\u001b[1;33m\u001b[0m\u001b[0m\n\u001b[0;32m   1663\u001b[0m         \u001b[0mtot_items\u001b[0m \u001b[1;33m=\u001b[0m \u001b[0msum\u001b[0m\u001b[1;33m(\u001b[0m\u001b[0mb\u001b[0m\u001b[1;33m.\u001b[0m\u001b[0mshape\u001b[0m\u001b[1;33m[\u001b[0m\u001b[1;36m0\u001b[0m\u001b[1;33m]\u001b[0m \u001b[1;32mfor\u001b[0m \u001b[0mb\u001b[0m \u001b[1;32min\u001b[0m \u001b[0mblocks\u001b[0m\u001b[1;33m)\u001b[0m\u001b[1;33m\u001b[0m\u001b[1;33m\u001b[0m\u001b[0m\n\u001b[1;32m-> 1664\u001b[1;33m         \u001b[0mconstruction_error\u001b[0m\u001b[1;33m(\u001b[0m\u001b[0mtot_items\u001b[0m\u001b[1;33m,\u001b[0m \u001b[0mblocks\u001b[0m\u001b[1;33m[\u001b[0m\u001b[1;36m0\u001b[0m\u001b[1;33m]\u001b[0m\u001b[1;33m.\u001b[0m\u001b[0mshape\u001b[0m\u001b[1;33m[\u001b[0m\u001b[1;36m1\u001b[0m\u001b[1;33m:\u001b[0m\u001b[1;33m]\u001b[0m\u001b[1;33m,\u001b[0m \u001b[0maxes\u001b[0m\u001b[1;33m,\u001b[0m \u001b[0me\u001b[0m\u001b[1;33m)\u001b[0m\u001b[1;33m\u001b[0m\u001b[1;33m\u001b[0m\u001b[0m\n\u001b[0m\u001b[0;32m   1665\u001b[0m \u001b[1;33m\u001b[0m\u001b[0m\n\u001b[0;32m   1666\u001b[0m \u001b[1;33m\u001b[0m\u001b[0m\n",
      "\u001b[1;32m~\\anaconda3\\lib\\site-packages\\pandas\\core\\internals\\managers.py\u001b[0m in \u001b[0;36mconstruction_error\u001b[1;34m(tot_items, block_shape, axes, e)\u001b[0m\n\u001b[0;32m   1692\u001b[0m     \u001b[1;32mif\u001b[0m \u001b[0mblock_shape\u001b[0m\u001b[1;33m[\u001b[0m\u001b[1;36m0\u001b[0m\u001b[1;33m]\u001b[0m \u001b[1;33m==\u001b[0m \u001b[1;36m0\u001b[0m\u001b[1;33m:\u001b[0m\u001b[1;33m\u001b[0m\u001b[1;33m\u001b[0m\u001b[0m\n\u001b[0;32m   1693\u001b[0m         \u001b[1;32mraise\u001b[0m \u001b[0mValueError\u001b[0m\u001b[1;33m(\u001b[0m\u001b[1;34m\"Empty data passed with indices specified.\"\u001b[0m\u001b[1;33m)\u001b[0m\u001b[1;33m\u001b[0m\u001b[1;33m\u001b[0m\u001b[0m\n\u001b[1;32m-> 1694\u001b[1;33m     \u001b[1;32mraise\u001b[0m \u001b[0mValueError\u001b[0m\u001b[1;33m(\u001b[0m\u001b[1;34mf\"Shape of passed values is {passed}, indices imply {implied}\"\u001b[0m\u001b[1;33m)\u001b[0m\u001b[1;33m\u001b[0m\u001b[1;33m\u001b[0m\u001b[0m\n\u001b[0m\u001b[0;32m   1695\u001b[0m \u001b[1;33m\u001b[0m\u001b[0m\n\u001b[0;32m   1696\u001b[0m \u001b[1;33m\u001b[0m\u001b[0m\n",
      "\u001b[1;31mValueError\u001b[0m: Shape of passed values is (842, 1), indices imply (842, 2)"
     ]
    }
   ],
   "source": [
    "list_of_partners={}\n",
    "for actor1 in list1:\n",
    "    l1=len(actor1)\n",
    "    for actor2 in list2:\n",
    "        l2=len(actor2)\n",
    "        if actor1!=actor2:\n",
    "            for index, row in data.iterrows():\n",
    "                cast=row['cast']\n",
    "                movie=row['original_title']\n",
    "                if actor1 in cast and actor2 in cast:\n",
    "                    if l1<l2:\n",
    "                        partners=actor1+' & '+actor2+' @ '+movie\n",
    "                        list_of_partners[partners]=movie\n",
    "                    else:\n",
    "                        partners=actor2+' & '+actor1+' @ '+movie                       \n",
    "                        list_of_partners[partners]=movie\n",
    "                        \n",
    "                        \n",
    "print(list_of_partners)                    \n",
    "partners=pd.DataFrame.from_dict(list_of_partners, columns=['partners','movie'],orient='index').reset_index()"
   ]
  },
  {
   "cell_type": "code",
   "execution_count": 1008,
   "metadata": {
    "scrolled": true
   },
   "outputs": [
    {
     "data": {
      "text/html": [
       "<div>\n",
       "<style scoped>\n",
       "    .dataframe tbody tr th:only-of-type {\n",
       "        vertical-align: middle;\n",
       "    }\n",
       "\n",
       "    .dataframe tbody tr th {\n",
       "        vertical-align: top;\n",
       "    }\n",
       "\n",
       "    .dataframe thead th {\n",
       "        text-align: right;\n",
       "    }\n",
       "</style>\n",
       "<table border=\"1\" class=\"dataframe\">\n",
       "  <thead>\n",
       "    <tr style=\"text-align: right;\">\n",
       "      <th></th>\n",
       "      <th>Partners</th>\n",
       "      <th>Movie</th>\n",
       "    </tr>\n",
       "  </thead>\n",
       "  <tbody>\n",
       "    <tr>\n",
       "      <th>0</th>\n",
       "      <td>Nicolas Cage &amp; Angelina Jolie @ Gone In Sixty ...</td>\n",
       "      <td>Gone In Sixty Seconds</td>\n",
       "    </tr>\n",
       "    <tr>\n",
       "      <th>1</th>\n",
       "      <td>Bill Nighy &amp; Nicolas Cage @ Astro Boy</td>\n",
       "      <td>Astro Boy</td>\n",
       "    </tr>\n",
       "    <tr>\n",
       "      <th>2</th>\n",
       "      <td>Emma Stone &amp; Nicolas Cage @ The Croods</td>\n",
       "      <td>The Croods</td>\n",
       "    </tr>\n",
       "    <tr>\n",
       "      <th>3</th>\n",
       "      <td>Guy Pearce &amp; Nicolas Cage @ Seeking Justice</td>\n",
       "      <td>Seeking Justice</td>\n",
       "    </tr>\n",
       "    <tr>\n",
       "      <th>4</th>\n",
       "      <td>Nicolas Cage &amp; Julia Roberts @ The Ant Bully</td>\n",
       "      <td>The Ant Bully</td>\n",
       "    </tr>\n",
       "  </tbody>\n",
       "</table>\n",
       "</div>"
      ],
      "text/plain": [
       "                                            Partners                  Movie\n",
       "0  Nicolas Cage & Angelina Jolie @ Gone In Sixty ...  Gone In Sixty Seconds\n",
       "1              Bill Nighy & Nicolas Cage @ Astro Boy              Astro Boy\n",
       "2             Emma Stone & Nicolas Cage @ The Croods             The Croods\n",
       "3        Guy Pearce & Nicolas Cage @ Seeking Justice        Seeking Justice\n",
       "4       Nicolas Cage & Julia Roberts @ The Ant Bully          The Ant Bully"
      ]
     },
     "metadata": {},
     "output_type": "display_data"
    },
    {
     "name": "stdout",
     "output_type": "stream",
     "text": [
      "<class 'pandas.core.frame.DataFrame'>\n",
      "RangeIndex: 842 entries, 0 to 841\n",
      "Data columns (total 2 columns):\n",
      " #   Column    Non-Null Count  Dtype \n",
      "---  ------    --------------  ----- \n",
      " 0   Partners  842 non-null    object\n",
      " 1   Movie     842 non-null    object\n",
      "dtypes: object(2)\n",
      "memory usage: 13.3+ KB\n"
     ]
    },
    {
     "data": {
      "text/plain": [
       "None"
      ]
     },
     "metadata": {},
     "output_type": "display_data"
    }
   ],
   "source": [
    "partners=pd.DataFrame.from_dict(list_of_partners,orient='index').reset_index()\n",
    "partners.columns=['Partners','Movie']\n",
    "display(partners.head(5)) \n",
    "display(partners.info()) \n"
   ]
  },
  {
   "cell_type": "code",
   "execution_count": 1009,
   "metadata": {},
   "outputs": [],
   "source": [
    "def clean_partners(string):\n",
    "    #print(string, type(string))\n",
    "    chip_off_movie=string.split('@')\n",
    "    #print(chip_off_movie, type(chip_off_movie))\n",
    "    new_string=chip_off_movie[0]\n",
    "    #print(chip_off_movie[0])\n",
    "    return new_string"
   ]
  },
  {
   "cell_type": "code",
   "execution_count": 1010,
   "metadata": {
    "scrolled": true
   },
   "outputs": [
    {
     "data": {
      "text/html": [
       "<div>\n",
       "<style scoped>\n",
       "    .dataframe tbody tr th:only-of-type {\n",
       "        vertical-align: middle;\n",
       "    }\n",
       "\n",
       "    .dataframe tbody tr th {\n",
       "        vertical-align: top;\n",
       "    }\n",
       "\n",
       "    .dataframe thead th {\n",
       "        text-align: right;\n",
       "    }\n",
       "</style>\n",
       "<table border=\"1\" class=\"dataframe\">\n",
       "  <thead>\n",
       "    <tr style=\"text-align: right;\">\n",
       "      <th></th>\n",
       "      <th>Partners</th>\n",
       "      <th>Movie</th>\n",
       "    </tr>\n",
       "  </thead>\n",
       "  <tbody>\n",
       "    <tr>\n",
       "      <th>0</th>\n",
       "      <td>Nicolas Cage &amp; Angelina Jolie</td>\n",
       "      <td>Gone In Sixty Seconds</td>\n",
       "    </tr>\n",
       "    <tr>\n",
       "      <th>1</th>\n",
       "      <td>Bill Nighy &amp; Nicolas Cage</td>\n",
       "      <td>Astro Boy</td>\n",
       "    </tr>\n",
       "    <tr>\n",
       "      <th>2</th>\n",
       "      <td>Emma Stone &amp; Nicolas Cage</td>\n",
       "      <td>The Croods</td>\n",
       "    </tr>\n",
       "    <tr>\n",
       "      <th>3</th>\n",
       "      <td>Guy Pearce &amp; Nicolas Cage</td>\n",
       "      <td>Seeking Justice</td>\n",
       "    </tr>\n",
       "    <tr>\n",
       "      <th>4</th>\n",
       "      <td>Nicolas Cage &amp; Julia Roberts</td>\n",
       "      <td>The Ant Bully</td>\n",
       "    </tr>\n",
       "  </tbody>\n",
       "</table>\n",
       "</div>"
      ],
      "text/plain": [
       "                         Partners                  Movie\n",
       "0  Nicolas Cage & Angelina Jolie   Gone In Sixty Seconds\n",
       "1      Bill Nighy & Nicolas Cage               Astro Boy\n",
       "2      Emma Stone & Nicolas Cage              The Croods\n",
       "3      Guy Pearce & Nicolas Cage         Seeking Justice\n",
       "4   Nicolas Cage & Julia Roberts           The Ant Bully"
      ]
     },
     "metadata": {},
     "output_type": "display_data"
    }
   ],
   "source": [
    "partners['Partners']=partners['Partners'].apply(clean_partners)\n",
    "display(partners.head(5))"
   ]
  },
  {
   "cell_type": "code",
   "execution_count": 1025,
   "metadata": {
    "scrolled": true
   },
   "outputs": [
    {
     "data": {
      "text/html": [
       "<div>\n",
       "<style scoped>\n",
       "    .dataframe tbody tr th:only-of-type {\n",
       "        vertical-align: middle;\n",
       "    }\n",
       "\n",
       "    .dataframe tbody tr th {\n",
       "        vertical-align: top;\n",
       "    }\n",
       "\n",
       "    .dataframe thead th {\n",
       "        text-align: right;\n",
       "    }\n",
       "</style>\n",
       "<table border=\"1\" class=\"dataframe\">\n",
       "  <thead>\n",
       "    <tr style=\"text-align: right;\">\n",
       "      <th></th>\n",
       "      <th>Partners</th>\n",
       "      <th>Movie</th>\n",
       "    </tr>\n",
       "  </thead>\n",
       "  <tbody>\n",
       "    <tr>\n",
       "      <th>381</th>\n",
       "      <td>Aaron Eckhart &amp; Christian Bale</td>\n",
       "      <td>The Dark Knight</td>\n",
       "    </tr>\n",
       "    <tr>\n",
       "      <th>562</th>\n",
       "      <td>Aaron Eckhart &amp; Gerard Butler</td>\n",
       "      <td>Olympus Has Fallen</td>\n",
       "    </tr>\n",
       "    <tr>\n",
       "      <th>441</th>\n",
       "      <td>Aaron Eckhart &amp; Jennifer Aniston</td>\n",
       "      <td>Love Happens</td>\n",
       "    </tr>\n",
       "  </tbody>\n",
       "</table>\n",
       "</div>"
      ],
      "text/plain": [
       "                              Partners               Movie\n",
       "381    Aaron Eckhart & Christian Bale      The Dark Knight\n",
       "562     Aaron Eckhart & Gerard Butler   Olympus Has Fallen\n",
       "441  Aaron Eckhart & Jennifer Aniston         Love Happens"
      ]
     },
     "metadata": {},
     "output_type": "display_data"
    }
   ],
   "source": [
    "partners_sorted=partners.sort_values(by='Partners')\n",
    "display(partners_sorted.head(3))"
   ]
  },
  {
   "cell_type": "code",
   "execution_count": 1012,
   "metadata": {
    "scrolled": false
   },
   "outputs": [
    {
     "data": {
      "text/plain": [
       "Owen Wilson & Ben Stiller              6\n",
       "Johnny Depp & Helena Bonham Carter     6\n",
       "Ben Stiller & Owen Wilson              6\n",
       "Vin Diesel & Paul Walker               5\n",
       "Brad Pitt & George Clooney             4\n",
       "                                      ..\n",
       "Keanu Reeves & Charlize Theron         1\n",
       "Bill Nighy & Nicolas Cage              1\n",
       "Jamie Foxx & Mark Ruffalo              1\n",
       "Matt Damon & Scarlett Johansson        1\n",
       "Mark Ruffalo & Keira Knightley         1\n",
       "Name: Partners, Length: 683, dtype: int64"
      ]
     },
     "metadata": {},
     "output_type": "display_data"
    }
   ],
   "source": [
    "best_partners=partners_sorted.Partners.value_counts()\n",
    "display(best_partners)"
   ]
  },
  {
   "cell_type": "code",
   "execution_count": 1023,
   "metadata": {},
   "outputs": [
    {
     "data": {
      "text/html": [
       "<div>\n",
       "<style scoped>\n",
       "    .dataframe tbody tr th:only-of-type {\n",
       "        vertical-align: middle;\n",
       "    }\n",
       "\n",
       "    .dataframe tbody tr th {\n",
       "        vertical-align: top;\n",
       "    }\n",
       "\n",
       "    .dataframe thead th {\n",
       "        text-align: right;\n",
       "    }\n",
       "</style>\n",
       "<table border=\"1\" class=\"dataframe\">\n",
       "  <thead>\n",
       "    <tr style=\"text-align: right;\">\n",
       "      <th></th>\n",
       "      <th>Partners</th>\n",
       "      <th>Movie</th>\n",
       "    </tr>\n",
       "  </thead>\n",
       "  <tbody>\n",
       "    <tr>\n",
       "      <th>0</th>\n",
       "      <td>Johnny Depp &amp; Helena Bonham Carter</td>\n",
       "      <td>6</td>\n",
       "    </tr>\n",
       "    <tr>\n",
       "      <th>1</th>\n",
       "      <td>Ben Stiller &amp; Owen Wilson</td>\n",
       "      <td>6</td>\n",
       "    </tr>\n",
       "    <tr>\n",
       "      <th>2</th>\n",
       "      <td>Owen Wilson &amp; Ben Stiller</td>\n",
       "      <td>6</td>\n",
       "    </tr>\n",
       "    <tr>\n",
       "      <th>3</th>\n",
       "      <td>Vin Diesel &amp; Paul Walker</td>\n",
       "      <td>5</td>\n",
       "    </tr>\n",
       "    <tr>\n",
       "      <th>4</th>\n",
       "      <td>Brad Pitt &amp; George Clooney</td>\n",
       "      <td>4</td>\n",
       "    </tr>\n",
       "  </tbody>\n",
       "</table>\n",
       "</div>"
      ],
      "text/plain": [
       "                              Partners  Movie\n",
       "0  Johnny Depp & Helena Bonham Carter       6\n",
       "1           Ben Stiller & Owen Wilson       6\n",
       "2           Owen Wilson & Ben Stiller       6\n",
       "3            Vin Diesel & Paul Walker       5\n",
       "4          Brad Pitt & George Clooney       4"
      ]
     },
     "metadata": {},
     "output_type": "display_data"
    }
   ],
   "source": [
    "let_s_see=partners_sorted.groupby(['Partners'])[['Movie']].count().sort_values(['Movie'],ascending=False)\n",
    "#display(let_s_see)\n",
    "data_27_ans=let_s_see.reset_index()\n",
    "display(data_27_ans.head(5))"
   ]
  },
  {
   "cell_type": "code",
   "execution_count": 1020,
   "metadata": {},
   "outputs": [
    {
     "name": "stdout",
     "output_type": "stream",
     "text": [
      "Johnny Depp & Helena Bonham Carter \n"
     ]
    }
   ],
   "source": [
    "ans27=data_27_ans.iloc[0]['Partners']\n",
    "print(ans27)\n",
    "answers1.update({27:ans27})"
   ]
  },
  {
   "cell_type": "markdown",
   "metadata": {},
   "source": [
    "# Работа над ошибками"
   ]
  },
  {
   "cell_type": "code",
   "execution_count": 1031,
   "metadata": {
    "scrolled": false
   },
   "outputs": [
    {
     "data": {
      "text/html": [
       "<div>\n",
       "<style scoped>\n",
       "    .dataframe tbody tr th:only-of-type {\n",
       "        vertical-align: middle;\n",
       "    }\n",
       "\n",
       "    .dataframe tbody tr th {\n",
       "        vertical-align: top;\n",
       "    }\n",
       "\n",
       "    .dataframe thead th {\n",
       "        text-align: right;\n",
       "    }\n",
       "</style>\n",
       "<table border=\"1\" class=\"dataframe\">\n",
       "  <thead>\n",
       "    <tr style=\"text-align: right;\">\n",
       "      <th></th>\n",
       "      <th>cast</th>\n",
       "      <th>original_title</th>\n",
       "    </tr>\n",
       "  </thead>\n",
       "  <tbody>\n",
       "    <tr>\n",
       "      <th>243</th>\n",
       "      <td>Daniel Radcliffe|Rupert Grint|Emma Watson|Tom ...</td>\n",
       "      <td>Harry Potter and the Half-Blood Prince</td>\n",
       "    </tr>\n",
       "    <tr>\n",
       "      <th>375</th>\n",
       "      <td>Daniel Radcliffe|Emma Watson|Rupert Grint|Ralp...</td>\n",
       "      <td>Harry Potter and the Deathly Hallows: Part 1</td>\n",
       "    </tr>\n",
       "    <tr>\n",
       "      <th>498</th>\n",
       "      <td>Daniel Radcliffe|Rupert Grint|Emma Watson|John...</td>\n",
       "      <td>Harry Potter and the Philosopher's Stone</td>\n",
       "    </tr>\n",
       "    <tr>\n",
       "      <th>723</th>\n",
       "      <td>Daniel Radcliffe|Rupert Grint|Emma Watson|Alan...</td>\n",
       "      <td>Harry Potter and the Deathly Hallows: Part 2</td>\n",
       "    </tr>\n",
       "    <tr>\n",
       "      <th>865</th>\n",
       "      <td>Daniel Radcliffe|Rupert Grint|Emma Watson|Kenn...</td>\n",
       "      <td>Harry Potter and the Chamber of Secrets</td>\n",
       "    </tr>\n",
       "    <tr>\n",
       "      <th>1313</th>\n",
       "      <td>Daniel Radcliffe|Rupert Grint|Emma Watson|Ralp...</td>\n",
       "      <td>Harry Potter and the Goblet of Fire</td>\n",
       "    </tr>\n",
       "    <tr>\n",
       "      <th>1561</th>\n",
       "      <td>Daniel Radcliffe|Rupert Grint|Emma Watson|Gary...</td>\n",
       "      <td>Harry Potter and the Prisoner of Azkaban</td>\n",
       "    </tr>\n",
       "    <tr>\n",
       "      <th>1671</th>\n",
       "      <td>Daniel Radcliffe|Rupert Grint|Emma Watson|Mich...</td>\n",
       "      <td>Harry Potter and the Order of the Phoenix</td>\n",
       "    </tr>\n",
       "  </tbody>\n",
       "</table>\n",
       "</div>"
      ],
      "text/plain": [
       "                                                   cast  \\\n",
       "243   Daniel Radcliffe|Rupert Grint|Emma Watson|Tom ...   \n",
       "375   Daniel Radcliffe|Emma Watson|Rupert Grint|Ralp...   \n",
       "498   Daniel Radcliffe|Rupert Grint|Emma Watson|John...   \n",
       "723   Daniel Radcliffe|Rupert Grint|Emma Watson|Alan...   \n",
       "865   Daniel Radcliffe|Rupert Grint|Emma Watson|Kenn...   \n",
       "1313  Daniel Radcliffe|Rupert Grint|Emma Watson|Ralp...   \n",
       "1561  Daniel Radcliffe|Rupert Grint|Emma Watson|Gary...   \n",
       "1671  Daniel Radcliffe|Rupert Grint|Emma Watson|Mich...   \n",
       "\n",
       "                                    original_title  \n",
       "243         Harry Potter and the Half-Blood Prince  \n",
       "375   Harry Potter and the Deathly Hallows: Part 1  \n",
       "498       Harry Potter and the Philosopher's Stone  \n",
       "723   Harry Potter and the Deathly Hallows: Part 2  \n",
       "865        Harry Potter and the Chamber of Secrets  \n",
       "1313           Harry Potter and the Goblet of Fire  \n",
       "1561      Harry Potter and the Prisoner of Azkaban  \n",
       "1671     Harry Potter and the Order of the Phoenix  "
      ]
     },
     "metadata": {},
     "output_type": "display_data"
    }
   ],
   "source": [
    "HP=data[data['original_title'].str.contains('Harry Potter',na=False)]\n",
    "display(HP[['cast','original_title']])"
   ]
  },
  {
   "cell_type": "code",
   "execution_count": 1033,
   "metadata": {
    "scrolled": true
   },
   "outputs": [
    {
     "data": {
      "text/html": [
       "<div>\n",
       "<style scoped>\n",
       "    .dataframe tbody tr th:only-of-type {\n",
       "        vertical-align: middle;\n",
       "    }\n",
       "\n",
       "    .dataframe tbody tr th {\n",
       "        vertical-align: top;\n",
       "    }\n",
       "\n",
       "    .dataframe thead th {\n",
       "        text-align: right;\n",
       "    }\n",
       "</style>\n",
       "<table border=\"1\" class=\"dataframe\">\n",
       "  <thead>\n",
       "    <tr style=\"text-align: right;\">\n",
       "      <th></th>\n",
       "      <th>Partners</th>\n",
       "      <th>Movie</th>\n",
       "    </tr>\n",
       "  </thead>\n",
       "  <tbody>\n",
       "    <tr>\n",
       "      <th>737</th>\n",
       "      <td>Ralph Fiennes &amp; Helena Bonham Carter</td>\n",
       "      <td>Harry Potter and the Deathly Hallows: Part 1</td>\n",
       "    </tr>\n",
       "  </tbody>\n",
       "</table>\n",
       "</div>"
      ],
      "text/plain": [
       "                                  Partners  \\\n",
       "737  Ralph Fiennes & Helena Bonham Carter    \n",
       "\n",
       "                                            Movie  \n",
       "737  Harry Potter and the Deathly Hallows: Part 1  "
      ]
     },
     "metadata": {},
     "output_type": "display_data"
    }
   ],
   "source": [
    "HP1=partners[partners['Movie'].str.contains('Harry Potter',na=False)]\n",
    "display(HP1[['Partners','Movie']])"
   ]
  },
  {
   "cell_type": "code",
   "execution_count": 1034,
   "metadata": {},
   "outputs": [
    {
     "data": {
      "text/html": [
       "<div>\n",
       "<style scoped>\n",
       "    .dataframe tbody tr th:only-of-type {\n",
       "        vertical-align: middle;\n",
       "    }\n",
       "\n",
       "    .dataframe tbody tr th {\n",
       "        vertical-align: top;\n",
       "    }\n",
       "\n",
       "    .dataframe thead th {\n",
       "        text-align: right;\n",
       "    }\n",
       "</style>\n",
       "<table border=\"1\" class=\"dataframe\">\n",
       "  <thead>\n",
       "    <tr style=\"text-align: right;\">\n",
       "      <th></th>\n",
       "      <th>Partners</th>\n",
       "      <th>Movie</th>\n",
       "    </tr>\n",
       "  </thead>\n",
       "  <tbody>\n",
       "  </tbody>\n",
       "</table>\n",
       "</div>"
      ],
      "text/plain": [
       "Empty DataFrame\n",
       "Columns: [Partners, Movie]\n",
       "Index: []"
      ]
     },
     "metadata": {},
     "output_type": "display_data"
    }
   ],
   "source": [
    "HP2=partners[partners['Partners'].str.contains('Radcliffe',na=False)]\n",
    "display(HP2[['Partners','Movie']])"
   ]
  },
  {
   "cell_type": "code",
   "execution_count": 1038,
   "metadata": {
    "scrolled": true
   },
   "outputs": [
    {
     "data": {
      "text/html": [
       "<div>\n",
       "<style scoped>\n",
       "    .dataframe tbody tr th:only-of-type {\n",
       "        vertical-align: middle;\n",
       "    }\n",
       "\n",
       "    .dataframe tbody tr th {\n",
       "        vertical-align: top;\n",
       "    }\n",
       "\n",
       "    .dataframe thead th {\n",
       "        text-align: right;\n",
       "    }\n",
       "</style>\n",
       "<table border=\"1\" class=\"dataframe\">\n",
       "  <thead>\n",
       "    <tr style=\"text-align: right;\">\n",
       "      <th></th>\n",
       "      <th>Name</th>\n",
       "      <th>Count</th>\n",
       "    </tr>\n",
       "  </thead>\n",
       "  <tbody>\n",
       "    <tr>\n",
       "      <th>0</th>\n",
       "      <td>1/16/2015</td>\n",
       "      <td>1</td>\n",
       "    </tr>\n",
       "    <tr>\n",
       "      <th>1</th>\n",
       "      <td>50 Cent</td>\n",
       "      <td>5</td>\n",
       "    </tr>\n",
       "    <tr>\n",
       "      <th>2</th>\n",
       "      <td>A.J. Cook</td>\n",
       "      <td>1</td>\n",
       "    </tr>\n",
       "  </tbody>\n",
       "</table>\n",
       "</div>"
      ],
      "text/plain": [
       "        Name  Count\n",
       "0  1/16/2015      1\n",
       "1    50 Cent      5\n",
       "2  A.J. Cook      1"
      ]
     },
     "metadata": {},
     "output_type": "display_data"
    },
    {
     "data": {
      "text/html": [
       "<div>\n",
       "<style scoped>\n",
       "    .dataframe tbody tr th:only-of-type {\n",
       "        vertical-align: middle;\n",
       "    }\n",
       "\n",
       "    .dataframe tbody tr th {\n",
       "        vertical-align: top;\n",
       "    }\n",
       "\n",
       "    .dataframe thead th {\n",
       "        text-align: right;\n",
       "    }\n",
       "</style>\n",
       "<table border=\"1\" class=\"dataframe\">\n",
       "  <thead>\n",
       "    <tr style=\"text-align: right;\">\n",
       "      <th></th>\n",
       "      <th>Name</th>\n",
       "      <th>Count</th>\n",
       "    </tr>\n",
       "  </thead>\n",
       "  <tbody>\n",
       "    <tr>\n",
       "      <th>755</th>\n",
       "      <td>Daniel Radcliffe</td>\n",
       "      <td>11</td>\n",
       "    </tr>\n",
       "  </tbody>\n",
       "</table>\n",
       "</div>"
      ],
      "text/plain": [
       "                 Name  Count\n",
       "755  Daniel Radcliffe     11"
      ]
     },
     "metadata": {},
     "output_type": "display_data"
    }
   ],
   "source": [
    "display(popular_df.head(3))\n",
    "DR=popular_df[popular_df['Name'].str.contains('Radcliffe',na=False)]\n",
    "display(DR[['Name','Count']])"
   ]
  },
  {
   "cell_type": "markdown",
   "metadata": {},
   "source": [
    "# Я отсекла Daniel Radcliffe, потому что я рассматривала актёров, которые снимались в более, чем 12 фильмах! Иначе у меня комп не тянул!"
   ]
  },
  {
   "cell_type": "markdown",
   "metadata": {
    "colab_type": "text",
    "id": "U0nONFnGVqAX"
   },
   "source": [
    "# Submission"
   ]
  },
  {
   "cell_type": "code",
   "execution_count": 1021,
   "metadata": {
    "colab": {},
    "colab_type": "code",
    "id": "IfcaRO9-VqAX",
    "outputId": "0f132912-32bb-4196-c98c-abfbc4ad5a5f"
   },
   "outputs": [
    {
     "name": "stdout",
     "output_type": "stream",
     "text": [
      "1  :  724    Pirates of the Caribbean: On Stranger Tides\n",
      "Name: original_title, dtype: object\n",
      "2  :  1158    Gods and Generals\n",
      "Name: original_title, dtype: object\n",
      "3  :  Winnie the Pooh\n",
      "4  :  109.66313559322033\n",
      "5  :  107.0\n",
      "6  :  240    Avatar\n",
      "Name: original_title, dtype: object\n",
      "7  :  1246    The Lone Ranger\n",
      "Name: original_title, dtype: object\n",
      "8  :  1478\n",
      "9  :  600    The Dark Knight\n",
      "Name: original_title, dtype: object\n",
      "10  :  1246    The Lone Ranger\n",
      "Name: original_title, dtype: object\n",
      "11  :  Action\n",
      "12  :  Action\n",
      "13  :  Peter Jackson\n",
      "14  :               director  genres  original_title  production_companies\n",
      "0  Paul W.S. Anderson       7               7                     7\n",
      "1         Michael Bay       7               7                     7\n",
      "15  :  Robert Downey Jr.|Chris Evans|Mark Ruffalo|Chris Hemsworth|Scarlett Johansson\n",
      "16  :  965    Matt Damon\n",
      "Name: Actor, dtype: object\n",
      "17  :  0    Action\n",
      "Name: Genre, dtype: object\n",
      "18  :  926    K-19: The Widowmaker\n",
      "Name: original_title, dtype: object\n",
      "19  :  0    2015.0\n",
      "Name: release_year, dtype: float64\n",
      "20  :  0    2014.0\n",
      "Name: release_year, dtype: float64\n",
      "21  :  0    Sep\n",
      "Name: release_date, dtype: object\n",
      "22  :  0    Fall\n",
      "Name: season, dtype: object\n",
      "23  :  0    Peter Jackson\n",
      "Name: director, dtype: object\n",
      "24  :  583    Four By Two Productions\n",
      "Name: production_companies, dtype: object\n",
      "25  :  1041    Midnight Picture Show\n",
      "Name: production_companies, dtype: object\n",
      "26  :                                           original_title  vote_average\n",
      "600                                     The Dark Knight           8.1\n",
      "9                                            Inside Out           8.0\n",
      "34                                                 Room           8.0\n",
      "119                                        Interstellar           8.0\n",
      "126                                  The Imitation Game           8.0\n",
      "371                                           Inception           7.9\n",
      "1192                                   12 Years a Slave           7.9\n",
      "1184                            The Wolf of Wall Street           7.9\n",
      "1082      The Lord of the Rings: The Return of the King           7.9\n",
      "873                                         The Pianist           7.9\n",
      "1801                                            Memento           7.9\n",
      "120                             Guardians of the Galaxy           7.9\n",
      "139                            The Grand Budapest Hotel           7.9\n",
      "129                                           Gone Girl           7.9\n",
      "284                                          Mr. Nobody           7.8\n",
      "1689                                There Will Be Blood           7.8\n",
      "1564              Eternal Sunshine of the Spotless Mind           7.8\n",
      "1445                                       The Prestige           7.8\n",
      "1214                                 Dallas Buyers Club           7.8\n",
      "1206                                          Prisoners           7.8\n",
      "125                                          Big Hero 6           7.8\n",
      "1189                                                Her           7.8\n",
      "317                                            3 Idiots           7.8\n",
      "864               The Lord of the Rings: The Two Towers           7.8\n",
      "156                            The Theory of Everything           7.8\n",
      "28                                            Spotlight           7.8\n",
      "178                              The Fault in Our Stars           7.8\n",
      "497   The Lord of the Rings: The Fellowship of the Ring           7.8\n",
      "27  :  Johnny Depp & Helena Bonham Carter \n"
     ]
    }
   ],
   "source": [
    "# в конце можно посмотреть свои ответы к каждому вопросу\n",
    "for i in range(1,28):\n",
    "    print(i,\" : \",answers1[i])"
   ]
  },
  {
   "cell_type": "code",
   "execution_count": 1039,
   "metadata": {
    "colab": {},
    "colab_type": "code",
    "id": "SiRmHPl8VqAd"
   },
   "outputs": [
    {
     "data": {
      "text/plain": [
       "27"
      ]
     },
     "execution_count": 1039,
     "metadata": {},
     "output_type": "execute_result"
    }
   ],
   "source": [
    "# и убедиться что ни чего не пропустил)\n",
    "len(answers1)"
   ]
  },
  {
   "cell_type": "code",
   "execution_count": 0,
   "metadata": {
    "colab": {},
    "colab_type": "code",
    "id": "uCfuTkRbVqAg"
   },
   "outputs": [],
   "source": []
  },
  {
   "cell_type": "code",
   "execution_count": 0,
   "metadata": {
    "colab": {},
    "colab_type": "code",
    "id": "Vwx3NrkSVqAl"
   },
   "outputs": [],
   "source": []
  }
 ],
 "metadata": {
  "colab": {
   "name": "Copy of [SF-DST] Movies IMBD v4.1 TEMPLATE.ipynb",
   "provenance": []
  },
  "kernelspec": {
   "display_name": "Python 3",
   "language": "python",
   "name": "python3"
  },
  "language_info": {
   "codemirror_mode": {
    "name": "ipython",
    "version": 3
   },
   "file_extension": ".py",
   "mimetype": "text/x-python",
   "name": "python",
   "nbconvert_exporter": "python",
   "pygments_lexer": "ipython3",
   "version": "3.8.3"
  }
 },
 "nbformat": 4,
 "nbformat_minor": 1
}
