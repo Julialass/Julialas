{
 "cells": [
  {
   "cell_type": "code",
   "execution_count": 67,
   "metadata": {},
   "outputs": [
    {
     "name": "stdout",
     "output_type": "stream",
     "text": [
      "Ваш алгоритм угадывает число в среднем за 8 попыток\n"
     ]
    },
    {
     "data": {
      "text/plain": [
       "8"
      ]
     },
     "execution_count": 67,
     "metadata": {},
     "output_type": "execute_result"
    }
   ],
   "source": [
    "import numpy as np\n",
    "import math\n",
    "\n",
    "def game_core_v3(guess_number):\n",
    "    '''Функция принимает загаданное число и возвращает число попыток'''\n",
    "    count = 1\n",
    "    first_guess = np.random.randint(1,101) #Сначала устанавливаем любое random число...\n",
    "    guesses=[0,101]     ## for convenience, to level out the count of attempts with the list indexing\n",
    "    predict=first_guess\n",
    "    \n",
    "    while guess_number != predict:           #... а потом уменьшаем или увеличиваем его\n",
    "        count+=1\n",
    "        \n",
    "        if guess_number > predict:  # если НЕДОБРОС\n",
    "            guesses.append(int(predict)) ## надо учитывать предыдущие варианты\n",
    "            \n",
    "            if count==2:\n",
    "                predict=100\n",
    "            else:\n",
    "                if guess_number>guesses[count-1]:      # и предыдущий - тоже недоброс\n",
    "                    predict=predict+round((100-predict)/2)\n",
    "                    \n",
    "                else:                                  # а предыдущий -  переброс\n",
    "                    adj=math.floor((guesses[count-1]-predict)/2)\n",
    "                    if adj==0:\n",
    "                        adj=1   \n",
    "                    predict=predict+adj #correcting\n",
    "                    \n",
    "        elif guess_number < predict: #если ПЕРЕБРОС\n",
    "            \n",
    "            guesses.append(int(predict)) ## сохраняем для учёта предыдущих вариантов\n",
    "            \n",
    "            if count==2:                \n",
    "                predict=1\n",
    "            else:\n",
    "                if guess_number<guesses[count-1]: # предыдущий - тоже переброс\n",
    "                    adj=math.floor((guesses[count-1]-predict)/2)\n",
    "                    if adj==0:\n",
    "                        adj=1\n",
    "                     \n",
    "                    predict=predict-adj #correcting\n",
    "                                      \n",
    "                else:                             # предыдущий - недоброс\n",
    "                    adj=math.floor((predict-guesses[count-1])/2)\n",
    "                    if adj==0:\n",
    "                        adj=1\n",
    "                        \n",
    "                    predict=predict-adj #correcting\n",
    "                         \n",
    "    return(count) # выход из цикла, если угадали, возвращает число попыток\n",
    "\n",
    "\n",
    "def score_game(game_core):\n",
    "    '''Запускаем игру 1000 раз, чтобы узнать, как быстро игра угадывает число'''\n",
    "    count_ls = []        # Collection of count of attempts run 1000 times    \n",
    "    np.random.seed(75)  # фиксируем RANDOM SEED, а 75 просто хорошее число!\n",
    "    random_array = np.random.randint(1,101, size=(1000)) ##serves for iteration count and to feed the function game_core_v3\n",
    "    \n",
    "    for guess_number in random_array:\n",
    "        count_ls.append(game_core_v3(guess_number))      \n",
    "      \n",
    "    average = int(sum(count_ls)/len(count_ls))\n",
    "    print(f\"Ваш алгоритм угадывает число в среднем за {average} попыток\")\n",
    "    #print('list of # of attempts',count_ls)\n",
    "    return(average)\n",
    "\n",
    "score_game(game_core_v3)"
   ]
  }
 ],
 "metadata": {
  "kernelspec": {
   "display_name": "Python 3",
   "language": "python",
   "name": "python3"
  },
  "language_info": {
   "codemirror_mode": {
    "name": "ipython",
    "version": 3
   },
   "file_extension": ".py",
   "mimetype": "text/x-python",
   "name": "python",
   "nbconvert_exporter": "python",
   "pygments_lexer": "ipython3",
   "version": "3.8.3"
  }
 },
 "nbformat": 4,
 "nbformat_minor": 4
}
